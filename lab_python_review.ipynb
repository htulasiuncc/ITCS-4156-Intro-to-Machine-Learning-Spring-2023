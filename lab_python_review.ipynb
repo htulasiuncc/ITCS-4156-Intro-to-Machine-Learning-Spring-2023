{
 "cells": [
  {
   "cell_type": "markdown",
   "metadata": {
    "id": "FWc2trr1ESUQ"
   },
   "source": [
    "# Intro to Python and ML Libraries\n",
    "## ITCS 4156 Intro to Machine Learning\n",
    "### Instructor: Xiang Zhang"
   ]
  },
  {
   "cell_type": "markdown",
   "metadata": {
    "id": "MQlNxc1nESUZ"
   },
   "source": [
    "\n",
    "For those new to Python or NumPy this notebook aims to provide you with a quick and basic introduction to these concepts. You should refer back to this notebook throughout the semester when you need programming help!\n",
    "\n",
    "Each Python library is super comprehensive, and you need around one week for each library if you really want to master it. You don't have enough time to learn everything for sure. So my suggestion is: to get a high-level idea of each tool/library, and search the specific command/function when it's needed in coding. \n",
    " \n",
    "\n",
    "Check the Python cheatsheets for [Numpy, Pandas, Matplotlib, and Sk-Learn](https://web.itu.edu.tr/iguzel/files/Python_Cheat_Sheets.pdf). \n",
    "\n",
    "\n",
    "### Topics\n",
    "- Brief Introduction to Jupyter Notebooks\n",
    "\n",
    "- Python\n",
    "    - Basic Data Types\n",
    "    - Containers\n",
    "    - For Loops and List Comprehension \n",
    "    - Lambda Functions\n",
    "    - Debugging\n",
    "- NumPy\n",
    "    - Generating Arrays (ndarray)\n",
    "    - Indexing Arrays\n",
    "    - Copying and Slices\n",
    "    - Reshaping and Adding New Dimensions\n",
    "    - What is an Axis?\n",
    "    - Datatypes\n",
    "    - List Comprehension with Arrays\n",
    "    - Searching Arrays: Finding Specific Values and Indexes\n",
    "    - Array Operations\n",
    "    - Matmul, Shape Mismatch, and Broadcasting Errors\n",
    "- Pandas\n",
    "    - DataFrames\n",
    "    - Indexing DataFrames\n",
    "- Matplotlib\n",
    "    - Basic Line Plotting\n",
    "<hr>\n",
    "\n",
    "**References**\n",
    "  - [1] Python Numpy Tutorial (with Jupyter and Colab).” https://cs231n.github.io/python-numpy-tutorial/#python\n"
   ]
  },
  {
   "cell_type": "code",
   "execution_count": 1,
   "metadata": {
    "id": "AmBEHfoKESUc"
   },
   "outputs": [],
   "source": [
    "# Additional imports beyond the scope of this lab\n",
    "import traceback # Useful for printing errors cause by try-catches\n",
    "import random\n",
    "\n",
    "# Set NumPy random seed for replication\n",
    "random.seed(0)\n",
    "\n",
    "# Varaible for enabling or disabling debugging\n",
    "# in the debugging sub-section. For TA convenience! \n",
    "enable_debug = True\n",
    "\n",
    "# Assert whether TODO gives the desired output\n",
    "def todo_check(condi_err):\n",
    "    failed_err = \"You passed {}/{} and FAILED the following code checks:{}\"\n",
    "    failed = \"\"\n",
    "    n_failed = 0\n",
    "    for check, (condi, err) in enumerate(condi_err):\n",
    "        if not condi:\n",
    "            n_failed += 1\n",
    "            failed += f\"\\nFailed check [{check+1}]:\\n\\t Tip: {err}\"\n",
    "\n",
    "    if len(failed) != 0:\n",
    "        passed = len(condi_err) - n_failed\n",
    "        err = failed_err.format(passed, len(condi_err), failed)\n",
    "        raise AssertionError(err.format(failed))\n",
    "    print(\"Your code PASSED the code check!\")"
   ]
  },
  {
   "cell_type": "markdown",
   "metadata": {
    "id": "WC8TrlpUESUf"
   },
   "source": [
    "# What is a Jupyter Notebook?"
   ]
  },
  {
   "cell_type": "markdown",
   "metadata": {
    "id": "3_iou-dlESUg"
   },
   "source": [
    "A Jupyter notebook is made up of a number of cells. Each cell can contain Python code. There are two main types of cells: `Code` cells and `Markdown` cells. This particular cell is a `Markdown` cell. You can execute a particular cell by double clicking on it (the highlight color will switch from blue to green) and pressing `Shift-Enter`. When you do so, if the cell is a `Code` cell, the code in the cell will run, and the output of the cell will be displayed beneath the cell, and if the cell is a `Markdown` cell, the markdown text will get rendered beneath the cell [1].\n",
    "\n",
    "**On the top menu, click \"Help\" --> \"Edit Keyboard Shortcuts\" to customize the shortcuts that fit your taste!**\n",
    "\n",
    "Go ahead and try executing this cell."
   ]
  },
  {
   "cell_type": "markdown",
   "metadata": {
    "id": "6wFZTzc3ESUi"
   },
   "source": [
    "The cell below is a `Code` cell. Go ahead and click it, then execute it as well."
   ]
  },
  {
   "cell_type": "code",
   "execution_count": 2,
   "metadata": {
    "id": "nK_gQaLZESUj"
   },
   "outputs": [
    {
     "name": "stdout",
     "output_type": "stream",
     "text": [
      "1\n"
     ]
    }
   ],
   "source": [
    "x = 1\n",
    "print(x)"
   ]
  },
  {
   "cell_type": "markdown",
   "metadata": {
    "id": "qvkEsTICESUl"
   },
   "source": [
    "**Global variables** are shared between cells. Notice, **that the `x` defined in the previous cell carries over to this cell.**"
   ]
  },
  {
   "cell_type": "code",
   "execution_count": 3,
   "metadata": {
    "id": "yuKdwdRSESUm"
   },
   "outputs": [
    {
     "name": "stdout",
     "output_type": "stream",
     "text": [
      "2\n"
     ]
    }
   ],
   "source": [
    "y = 2 * x\n",
    "print(y)"
   ]
  },
  {
   "cell_type": "markdown",
   "metadata": {
    "id": "t94xrJueESUo"
   },
   "source": [
    "While these global definitions can be useful that can also give beginners some trouble. If you run cells out of order you might get errors you weren't expecting as some cells might depend on other cells being ran first! You typically want to run a notebook sequentially unless you know what you are doing. \n",
    "\n",
    "Notice, when you run the below cell we get the error `NameError: name 'my_variable' is not defined` (notice we caught said error with a try-catch). This is because we haven't ran the cell that defines `my_variable` yet."
   ]
  },
  {
   "cell_type": "code",
   "execution_count": 4,
   "metadata": {
    "id": "ARpVy5qCESUp"
   },
   "outputs": [
    {
     "name": "stderr",
     "output_type": "stream",
     "text": [
      "Traceback (most recent call last):\n",
      "  File \"C:\\Users\\himat\\AppData\\Local\\Temp\\ipykernel_3548\\2794491730.py\", line 2, in <module>\n",
      "    print(my_variable)\n",
      "NameError: name 'my_variable' is not defined\n"
     ]
    }
   ],
   "source": [
    "try:\n",
    "    print(my_variable)\n",
    "except Exception as e:\n",
    "    traceback.print_exc()"
   ]
  },
  {
   "cell_type": "code",
   "execution_count": 5,
   "metadata": {
    "id": "Jcqk04KWESUr"
   },
   "outputs": [],
   "source": [
    "my_variable = \"This variable is now initialized!\""
   ]
  },
  {
   "cell_type": "markdown",
   "metadata": {
    "id": "cYQAkE8LESUs"
   },
   "source": [
    "Once we initialize `my_variable`. We can call it without any errors!"
   ]
  },
  {
   "cell_type": "code",
   "execution_count": 6,
   "metadata": {
    "id": "Hgd56HlrESUs"
   },
   "outputs": [
    {
     "name": "stdout",
     "output_type": "stream",
     "text": [
      "This variable is now initialized!\n"
     ]
    }
   ],
   "source": [
    "print(my_variable)"
   ]
  },
  {
   "cell_type": "markdown",
   "metadata": {
    "id": "jddseirgESUu"
   },
   "source": [
    "## Keyboard Shortcuts\n",
    "\n",
    "There are a few keyboard shortcuts you should be aware of to make your notebook experience more pleasant. \n",
    "\n",
    "* Double click a Markdown cell to edit it\n",
    "* To run a cell and move to the next cell, press `shift+enter`\n",
    "    * Running a Markdown cell will render the cell!\n",
    "* To run a cell and remain on the current cell, press `control+enter`\n",
    "* To place a cell below the current one, press `esc+b`.\n",
    "* To place a cell above the current one, press `esc+a`.\n",
    "* To delete a cell, press `esc+dd`.\n",
    "* To undo deleted cell, press `esc+z`.\n",
    "* To convert a cell to `Markdown` press `esc+m`.\n",
    "* To convert it back to `Code` press `esc+y`.\n",
    "\n",
    "Get familiar with these keyboard shortcuts, they really help!"
   ]
  },
  {
   "cell_type": "markdown",
   "metadata": {
    "id": "38xRe5DbESUv"
   },
   "source": [
    "### Restarting the notebook kernel\n",
    "You can restart a notebook and clear all cells by clicking `Kernel -> Restart & Clear Output`. If you don't want to clear cell outputs, just hit `Kernel -> Restart`. Once again, restarting will be your go to option when you are getting any weird errors. It is akin to restarting your computer when you run into weird computer errors [1]."
   ]
  },
  {
   "cell_type": "markdown",
   "metadata": {
    "id": "_3Qwc-AvESUw"
   },
   "source": [
    "### Saving the notebook\n",
    "After you have modified a notebook for one of the assignments by modifying or executing some of its cells, remember to save your changes! You can save with the `Command/Control + s` shortcut or by clicking `File -> Save and Checkpoint` [1]."
   ]
  },
  {
   "cell_type": "markdown",
   "metadata": {
    "id": "7ZSePBe8ESUw"
   },
   "source": [
    "# Python\n",
    "\n",
    "Python is a high-level, [dynamically typed](https://stackoverflow.com/questions/1517582/what-is-the-difference-between-statically-typed-and-dynamically-typed-languages) (we don't have to specify the type for the variable) [multiparadigm programming language](https://msritse2012.wordpress.com/2013/01/31/the-concept-of-multi-paradigm-programming-language-manjunath-m/) (supports multiple programming paradigms such as functional and object oriented). Python code is often said to be almost like pseudocode, since it allows you to express very powerful ideas in very few lines of code while being very readable [1].\n",
    "\n",
    "**For this class we will be using Python 3.8 and above.** The below code checks to see if your python version is 3.8 or greater. If it is note, please install a version of Python that is 3.8 or above. You can do so by entering the following line into your command line or Anaconda prompt `conda install python=3.8` or see this [post](https://stackoverflow.com/questions/52035673/how-can-i-update-to-the-latest-python-version-using-conda)."
   ]
  },
  {
   "cell_type": "code",
   "execution_count": 7,
   "metadata": {
    "id": "k1yO63FlESVC"
   },
   "outputs": [
    {
     "name": "stdout",
     "output_type": "stream",
     "text": [
      "Your python version is 3.9.13\n"
     ]
    }
   ],
   "source": [
    "from platform import python_version\n",
    "import sys\n",
    "print(f\"Your python version is {python_version()}\")\n",
    "assert sys.version_info >= (3, 8), \"Your python version {python_version()} is less than the required version for this course! Please try updating you python version.\""
   ]
  },
  {
   "cell_type": "markdown",
   "metadata": {
    "id": "iJWFfMuRESVE"
   },
   "source": [
    "## Basic Data Types\n",
    "\n",
    "Like most languages, Python has a number of basic types including integers, floats, booleans, and strings. These data types behave in ways that are familiar from other programming languages [1]."
   ]
  },
  {
   "cell_type": "markdown",
   "metadata": {
    "id": "1yNmjkfmESVE"
   },
   "source": [
    "### Numbers \n",
    "\n",
    "Integers and floats work as you would expect from other languages.\n",
    "\n",
    "Note that we use Python's built in `type` function to check the type of a variable!"
   ]
  },
  {
   "cell_type": "markdown",
   "metadata": {
    "id": "lOkv7sLKESVF"
   },
   "source": [
    "#### TODO 1\n",
    "1. Declare a Python integer by  declaring a variable `x` and setting it equal to 3 using the `=` symbol.\n",
    "\n",
    "**Write your code below the line of \"TODO\"**"
   ]
  },
  {
   "cell_type": "code",
   "execution_count": 8,
   "metadata": {
    "id": "J_xF6Ok2ESVH"
   },
   "outputs": [
    {
     "name": "stdout",
     "output_type": "stream",
     "text": [
      "x is equal to 3\n",
      "Your code PASSED the code check!\n"
     ]
    }
   ],
   "source": [
    "# TODO 1.1 \n",
    "x=3\n",
    "print(f\"x is equal to {x}\")\n",
    "\n",
    "# This a automatic check to make sue your todo was completed correctly!\n",
    "# If you pass this check then you are likely to receive full points on the TODO if \n",
    "# you completed it as specified!\n",
    "todo_check([\n",
    "    (x == 3, 'x is must be set to 3!')\n",
    "])"
   ]
  },
  {
   "cell_type": "markdown",
   "metadata": {
    "id": "bWbFw7fdESVK"
   },
   "source": [
    "Below are examples some different operations we can perform on integers!"
   ]
  },
  {
   "cell_type": "code",
   "execution_count": 9,
   "metadata": {
    "id": "HYQJgHdSESVK"
   },
   "outputs": [
    {
     "name": "stdout",
     "output_type": "stream",
     "text": [
      "Check type of x using `type(x)`: <class 'int'>\n",
      "Value of x: 3\n",
      "Value of x + 1: 4\n",
      "Value of x - 1: 2\n",
      "Value of x * 2: 6\n",
      "Value of x^2 or x**2: 9\n"
     ]
    }
   ],
   "source": [
    "print(f\"Check type of x using `type(x)`: {type(x)}\") # Prints \"<class 'int'>\"\n",
    "print(f\"Value of x: {x}\")       # Prints \"3\"\n",
    "print(f\"Value of x + 1: {x + 1}\")   # Addition; prints \"4\"\n",
    "print(f\"Value of x - 1: {x - 1}\")   # Subtraction; prints \"2\"\n",
    "print(f\"Value of x * 2: {x * 2}\")   # Multiplication; prints \"6\"\n",
    "print(f\"Value of x^2 or x**2: {x ** 2}\")  # Exponentiation; prints \"9\""
   ]
  },
  {
   "cell_type": "markdown",
   "metadata": {
    "id": "rCfUc0RIESVL"
   },
   "source": [
    "We can quickly add to `x` by doing the following. Likewise, this same idea works for multiplication and subtraction."
   ]
  },
  {
   "cell_type": "code",
   "execution_count": 10,
   "metadata": {
    "id": "THoFNtRBESVL"
   },
   "outputs": [
    {
     "data": {
      "text/plain": [
       "4"
      ]
     },
     "execution_count": 10,
     "metadata": {},
     "output_type": "execute_result"
    }
   ],
   "source": [
    "x += 1\n",
    "x"
   ]
  },
  {
   "cell_type": "markdown",
   "metadata": {
    "id": "oiuCsiuJESVM"
   },
   "source": [
    "Next we can see the same ideas apply to floats.\n",
    "\n",
    "#### TODO 2\n",
    "1. Declare a Python float by declaring a variable `y` and setting it equal to 2.5 using the `=` symbol."
   ]
  },
  {
   "cell_type": "code",
   "execution_count": 11,
   "metadata": {
    "id": "1TgOcHDCESVM"
   },
   "outputs": [
    {
     "name": "stdout",
     "output_type": "stream",
     "text": [
      "y is equal to 2.5\n",
      "Your code PASSED the code check!\n"
     ]
    }
   ],
   "source": [
    "# TODO 2.1\n",
    "y=2.5\n",
    "print(f\"y is equal to {y}\")\n",
    "\n",
    "todo_check([\n",
    "    (y == 2.5, 'y is must be set to 2.5!')\n",
    "])"
   ]
  },
  {
   "cell_type": "code",
   "execution_count": 12,
   "metadata": {
    "id": "nQHgNae7ESVN"
   },
   "outputs": [
    {
     "name": "stdout",
     "output_type": "stream",
     "text": [
      "Check type of x using `type(y)`: <class 'float'>\n",
      "Value of y: 2.5\n",
      "Value of y + 1: 3.5\n",
      "Value of y - 1: 1.5\n",
      "Value of y * 2: 5.0\n",
      "Value of y^2 or y**2: 6.25\n"
     ]
    }
   ],
   "source": [
    "print(f\"Check type of x using `type(y)`: {type(y)}\") # Prints \"<class 'int'>\"\n",
    "print(f\"Value of y: {y}\")       # Prints \"3\"\n",
    "print(f\"Value of y + 1: {y + 1}\")   # Addition; prints \"4\"\n",
    "print(f\"Value of y - 1: {y - 1}\")   # Subtraction; prints \"2\"\n",
    "print(f\"Value of y * 2: {y * 2}\")   # Multiplication; prints \"6\"\n",
    "print(f\"Value of y^2 or y**2: {y ** 2}\")  # Exponentiation; prints \"9\""
   ]
  },
  {
   "cell_type": "markdown",
   "metadata": {
    "id": "GBpIkaLAESVO"
   },
   "source": [
    "### Booleans\n",
    "\n",
    "Python implements all of the usual operators for Boolean logic, but uses English words rather than symbols ($\\&\\&$, $||$, etc.) [1].\n"
   ]
  },
  {
   "cell_type": "markdown",
   "metadata": {
    "id": "gwXrzswoESVO"
   },
   "source": [
    "#### TODO 3\n",
    "1. Declare a Python boolean by declaring the variable `t` and setting it equal to True using the `=` symbol. \n",
    "2. Next, declare a Python boolean by declaring the variable `f` and setting it equal to False using the `=` symbol."
   ]
  },
  {
   "cell_type": "code",
   "execution_count": 13,
   "metadata": {
    "id": "hBiQCPowESVP"
   },
   "outputs": [
    {
     "name": "stdout",
     "output_type": "stream",
     "text": [
      "Your code PASSED the code check!\n"
     ]
    }
   ],
   "source": [
    "# TODO 3.1\n",
    "t = True\n",
    "# TODO 3.2\n",
    "f = False\n",
    "todo_check([\n",
    "    (t == True, 't must be equal to True!'),\n",
    "    (f == False, 'f must be equal to False!'),\n",
    "])\n"
   ]
  },
  {
   "cell_type": "markdown",
   "metadata": {
    "id": "-QDv_asuESVP"
   },
   "source": [
    "Given two booleans we can perform different boolean operations such as \"and\" and \"or\"."
   ]
  },
  {
   "cell_type": "code",
   "execution_count": 14,
   "metadata": {
    "id": "Y253uxPmESVP"
   },
   "outputs": [
    {
     "name": "stdout",
     "output_type": "stream",
     "text": [
      "Check type of t using `type(t)`: <class 'bool'>\n",
      "Logical AND: False\n",
      "Logical OR: True\n",
      "NOT or opposite of t value: False\n",
      "Logical XOR: True\n"
     ]
    }
   ],
   "source": [
    "print(f\"Check type of t using `type(t)`: {type(t)}\") # Prints \"<class 'bool'>\"\n",
    "print(f\"Logical AND: {t and f}\") # Logical AND; prints \"False\"\n",
    "print(f\"Logical OR: {t or f}\") \n",
    "print(f\"NOT or opposite of t value: {not t}\") \n",
    "print(f\"Logical XOR: {t != f}\") "
   ]
  },
  {
   "cell_type": "markdown",
   "metadata": {
    "id": "3IeLKeptESVQ"
   },
   "source": [
    "### Strings\n",
    "Python has great support for strings, checkout some of the following things you can do [1].\n",
    "\n",
    "Let's practice declaring strings using either single quotes ' ' or double quotes \" \" to declare a string. Typically, people use single quotes ' ' when creating a string that is a single character or word. Likewise, people use double quotes \" \" when creating a string that is a sentence. However, this rule is rather arbitrary and either can be used in practice.  \n",
    "\n",
    "#### TODO 4\n",
    "\n",
    "1. Declare the string \"hello\" and store the it in the variable `hello`.\n",
    "2. Declare the string \"world\" and store the it in the variable `world`."
   ]
  },
  {
   "cell_type": "code",
   "execution_count": 15,
   "metadata": {
    "id": "fjIlb5cvESVR"
   },
   "outputs": [
    {
     "name": "stdout",
     "output_type": "stream",
     "text": [
      "hello world\n",
      "Your code PASSED the code check!\n"
     ]
    }
   ],
   "source": [
    "# TODO 4.1\n",
    "hello = \"hello\"\n",
    "world = \"world\"\n",
    "# TODO 4.2\n",
    "\n",
    "\n",
    "print(hello, world)\n",
    "todo_check([\n",
    "    (hello == 'hello', \"hello should be set to 'hello'\"),\n",
    "    (world == 'world', \"world should be set to 'world'\"),\n",
    "])"
   ]
  },
  {
   "cell_type": "markdown",
   "metadata": {
    "id": "ddCxFrcyESVR"
   },
   "source": [
    "As we will see, strings are essentially lists so we can use Python's `len()` function to check the length of a string."
   ]
  },
  {
   "cell_type": "code",
   "execution_count": 16,
   "metadata": {
    "id": "shAHF41kESVS"
   },
   "outputs": [
    {
     "name": "stdout",
     "output_type": "stream",
     "text": [
      "5\n"
     ]
    }
   ],
   "source": [
    "print(len(hello))  # String length; prints \"5\""
   ]
  },
  {
   "cell_type": "markdown",
   "metadata": {
    "id": "-S8E1uFNESVS"
   },
   "source": [
    "We can concatenate strings by doing the following."
   ]
  },
  {
   "cell_type": "code",
   "execution_count": 17,
   "metadata": {
    "id": "w-r-B4PeESVS"
   },
   "outputs": [
    {
     "data": {
      "text/plain": [
       "'hello world'"
      ]
     },
     "execution_count": 17,
     "metadata": {},
     "output_type": "execute_result"
    }
   ],
   "source": [
    "hw = hello + ' ' + world  # String concatenation\n",
    "hw"
   ]
  },
  {
   "cell_type": "markdown",
   "metadata": {
    "id": "1PTtsmHAESVT"
   },
   "source": [
    "Additionally, we can create formatted strings by doing either of the following. Note that the first two methods are the more modern versions of formatting string while the third method is the classical way for formatting string, regardless any of the following are fine."
   ]
  },
  {
   "cell_type": "code",
   "execution_count": 18,
   "metadata": {
    "id": "WNhcBDUkESVT"
   },
   "outputs": [
    {
     "name": "stdout",
     "output_type": "stream",
     "text": [
      "hello world 12\n",
      "hello world 12\n",
      "hello world 12\n"
     ]
    }
   ],
   "source": [
    "hw12 = f\"{hello} {world} {12}\"\n",
    "print(hw12)\n",
    "\n",
    "hw12 = \"{} {} {}\".format(hello, world, 12)\n",
    "print(hw12)\n",
    "\n",
    "hw12 = '%s %s %d' % (hello, world, 12)  # sprintf style string formatting\n",
    "print(hw12)"
   ]
  },
  {
   "cell_type": "markdown",
   "metadata": {
    "id": "UwVgYoMTESVU"
   },
   "source": [
    "## Containers\n",
    "\n",
    "Python includes several built-in container types: lists, dictionaries, sets, and tuples [1].\n",
    "\n",
    "### Lists\n",
    "\n",
    "A list is the Python equivalent of an array from Java or C++, however Python lists are resizable and can contain elements of different types. (Soon we will see how NumPy arrays build upon this idea of lists!)\n",
    "\n",
    "- Additional Sources\n",
    "    - [Python List Official Docs](https://docs.python.org/3.5/tutorial/datastructures.html#more-on-lists)\n",
    "    - [Real Python Introduction to Lists and Tuples](https://realpython.com/python-lists-tuples/)"
   ]
  },
  {
   "cell_type": "markdown",
   "metadata": {
    "id": "Oe0k6YQDESVU"
   },
   "source": [
    "To do so, use the using the square bracket syntax `[ ]` as shown in this [guide](https://realpython.com/python-lists-tuples/). "
   ]
  },
  {
   "cell_type": "code",
   "execution_count": 19,
   "metadata": {
    "id": "lIg1dIqzESVV"
   },
   "outputs": [
    {
     "name": "stdout",
     "output_type": "stream",
     "text": [
      "x_list was set to [3, 1, 2]\n"
     ]
    }
   ],
   "source": [
    "x_list = [3, 1, 2]\n",
    "print(f\"x_list was set to {x_list}\")"
   ]
  },
  {
   "cell_type": "markdown",
   "metadata": {
    "id": "RjrbD8L_ESVV"
   },
   "source": [
    "We can check the length of a list using the Python `len()` function mentioned earlier and passing the list to the function `len(x_list)`."
   ]
  },
  {
   "cell_type": "code",
   "execution_count": 20,
   "metadata": {
    "id": "CR7eUH_uESVW"
   },
   "outputs": [
    {
     "name": "stdout",
     "output_type": "stream",
     "text": [
      "The length of x_list is 3\n"
     ]
    }
   ],
   "source": [
    "x_list_len = len(x_list)\n",
    "print(f\"The length of x_list is {x_list_len}\")"
   ]
  },
  {
   "cell_type": "markdown",
   "metadata": {
    "id": "zOzgNKIMESVX"
   },
   "source": [
    "Here we can index the second element simply by doing the following! (We will look at indexing multiple values in the List Comprehension section which utilizes for loops)"
   ]
  },
  {
   "cell_type": "markdown",
   "metadata": {
    "id": "qZV9LpbJESVX"
   },
   "source": [
    "The index of the elements start from *0* not 1. Which means, `x_list[0]` is the first element in list `x_list`."
   ]
  },
  {
   "cell_type": "code",
   "execution_count": 21,
   "metadata": {
    "id": "N6GchtnrESVX"
   },
   "outputs": [
    {
     "data": {
      "text/plain": [
       "1"
      ]
     },
     "execution_count": 21,
     "metadata": {},
     "output_type": "execute_result"
    }
   ],
   "source": [
    "x_list[1]"
   ]
  },
  {
   "cell_type": "markdown",
   "metadata": {
    "id": "xMHuppGoESVY"
   },
   "source": [
    "Notice that a negative index indicates indexing is down from the end of the list instead. This is a very important idea as it applies to most all container types in Python and also NumPy arrays! "
   ]
  },
  {
   "cell_type": "code",
   "execution_count": 22,
   "metadata": {
    "id": "XqA0xMZ1ESVZ"
   },
   "outputs": [
    {
     "data": {
      "text/plain": [
       "2"
      ]
     },
     "execution_count": 22,
     "metadata": {},
     "output_type": "execute_result"
    }
   ],
   "source": [
    "x_list[-1]"
   ]
  },
  {
   "cell_type": "markdown",
   "metadata": {
    "id": "OD62vkE6ESVZ"
   },
   "source": [
    "Lists can contain elements of different types and we can set an element by doing the following"
   ]
  },
  {
   "cell_type": "code",
   "execution_count": 23,
   "metadata": {
    "id": "f0b0diRmESVZ"
   },
   "outputs": [
    {
     "data": {
      "text/plain": [
       "[3, 1, 'foo']"
      ]
     },
     "execution_count": 23,
     "metadata": {},
     "output_type": "execute_result"
    }
   ],
   "source": [
    "x_list[2] = 'foo'\n",
    "x_list # displays \"[3, 1, 'foo']\""
   ]
  },
  {
   "cell_type": "markdown",
   "metadata": {
    "id": "pAc-5ALpESVa"
   },
   "source": [
    "Add a new element to the end of the list."
   ]
  },
  {
   "cell_type": "code",
   "execution_count": 24,
   "metadata": {
    "id": "_thznY8sESVa"
   },
   "outputs": [
    {
     "data": {
      "text/plain": [
       "[3, 1, 'foo', 'bar']"
      ]
     },
     "execution_count": 24,
     "metadata": {},
     "output_type": "execute_result"
    }
   ],
   "source": [
    "x_list.append('bar')\n",
    "x_list"
   ]
  },
  {
   "cell_type": "markdown",
   "metadata": {
    "id": "O52PzzibESVb"
   },
   "source": [
    "Remove and return the last element of the list."
   ]
  },
  {
   "cell_type": "code",
   "execution_count": 25,
   "metadata": {
    "id": "JMUiuaDJESVb"
   },
   "outputs": [
    {
     "name": "stdout",
     "output_type": "stream",
     "text": [
      "bar [3, 1, 'foo']\n"
     ]
    }
   ],
   "source": [
    "x = x_list.pop()\n",
    "print(x, x_list)\n"
   ]
  },
  {
   "cell_type": "markdown",
   "metadata": {
    "id": "TPPrX4ElESVb"
   },
   "source": [
    "#### Slicing/Indexing\n",
    "\n",
    "In addition to accessing list elements one at a time, Python provides concise syntax to access sublists or multiple elements of data in a list at once. This is known as slicing. (This same idea of slicing will apply to NumPy arrays, TensorFlow Tensors, and Pandas DataFrames later on.)\n",
    "\n",
    "- Additional Sources\n",
    "    - [Stackoverflow discussion](https://stackoverflow.com/questions/4012340/colon-in-python-list-index) on using `:` with lists\n",
    "    - [Real Python intro to slicing](https://realpython.com/lessons/indexing-and-slicing/)"
   ]
  },
  {
   "cell_type": "markdown",
   "metadata": {
    "id": "nJkN24p7ESVc"
   },
   "source": [
    "We can quickly define a list by using Python's built-in functions `list` and `range`. Range is a built-in function that creates a generator of integers. [Generators](https://realpython.com/introduction-to-python-generators/) are objects that generator outputs on the fly instead of creating all the desired outputs at once and filling up memory."
   ]
  },
  {
   "cell_type": "code",
   "execution_count": 26,
   "metadata": {
    "id": "YaHIBH_sESVc"
   },
   "outputs": [
    {
     "data": {
      "text/plain": [
       "[0, 1, 2, 3, 4]"
      ]
     },
     "execution_count": 26,
     "metadata": {},
     "output_type": "execute_result"
    }
   ],
   "source": [
    "nums = list(range(5))# range is a built-in function that creates a list of integers\n",
    "nums"
   ]
  },
  {
   "cell_type": "markdown",
   "metadata": {
    "id": "H1RY8n5mESVc"
   },
   "source": [
    "We can easily specify a slice of a list by using a colon `:`. To get a slice from index 2 to 4 (exclusive) we do the following."
   ]
  },
  {
   "cell_type": "code",
   "execution_count": 27,
   "metadata": {
    "id": "P_GZw7GJESVd"
   },
   "outputs": [
    {
     "data": {
      "text/plain": [
       "[2, 3]"
      ]
     },
     "execution_count": 27,
     "metadata": {},
     "output_type": "execute_result"
    }
   ],
   "source": [
    "nums[2:4]"
   ]
  },
  {
   "cell_type": "markdown",
   "metadata": {
    "id": "kfwQl19xESVd"
   },
   "source": [
    "To get a slice from index 2 to the end we do."
   ]
  },
  {
   "cell_type": "code",
   "execution_count": 28,
   "metadata": {
    "id": "nYCsjitnESVd"
   },
   "outputs": [
    {
     "data": {
      "text/plain": [
       "[2, 3, 4]"
      ]
     },
     "execution_count": 28,
     "metadata": {},
     "output_type": "execute_result"
    }
   ],
   "source": [
    "nums[2:]"
   ]
  },
  {
   "cell_type": "markdown",
   "metadata": {
    "id": "fQ8Nj-APESVe"
   },
   "source": [
    "To get a slice that starts at the beginning and ends at the index 2 (exclusive)."
   ]
  },
  {
   "cell_type": "code",
   "execution_count": 29,
   "metadata": {
    "id": "-E1AYD-EESVe"
   },
   "outputs": [
    {
     "data": {
      "text/plain": [
       "[0, 1]"
      ]
     },
     "execution_count": 29,
     "metadata": {},
     "output_type": "execute_result"
    }
   ],
   "source": [
    "nums[:2]"
   ]
  },
  {
   "cell_type": "markdown",
   "metadata": {
    "id": "-SBgIiurESVe"
   },
   "source": [
    "Get a slice of the whole list"
   ]
  },
  {
   "cell_type": "code",
   "execution_count": 30,
   "metadata": {
    "id": "AyX4LFG7ESVf"
   },
   "outputs": [
    {
     "data": {
      "text/plain": [
       "[0, 1, 2, 3, 4]"
      ]
     },
     "execution_count": 30,
     "metadata": {},
     "output_type": "execute_result"
    }
   ],
   "source": [
    "nums[:]"
   ]
  },
  {
   "cell_type": "markdown",
   "metadata": {
    "id": "Enc9TRkRESVh"
   },
   "source": [
    "Slice indices can be negative as well."
   ]
  },
  {
   "cell_type": "code",
   "execution_count": 31,
   "metadata": {
    "id": "93DCIgA2ESVi"
   },
   "outputs": [
    {
     "data": {
      "text/plain": [
       "[0, 1, 2, 3]"
      ]
     },
     "execution_count": 31,
     "metadata": {},
     "output_type": "execute_result"
    }
   ],
   "source": [
    "nums[:-1]"
   ]
  },
  {
   "cell_type": "markdown",
   "metadata": {
    "id": "p3CWnv0uESVi"
   },
   "source": [
    "Finally, we can assign a sub-list to a slice."
   ]
  },
  {
   "cell_type": "code",
   "execution_count": 32,
   "metadata": {
    "id": "219Xs7l6ESVi"
   },
   "outputs": [
    {
     "data": {
      "text/plain": [
       "[0, 1, 8, 9, 4]"
      ]
     },
     "execution_count": 32,
     "metadata": {},
     "output_type": "execute_result"
    }
   ],
   "source": [
    "nums[2:4] = [8, 9]\n",
    "nums  "
   ]
  },
  {
   "cell_type": "markdown",
   "metadata": {
    "id": "D4llPMlhESVj"
   },
   "source": [
    "\n",
    "### TODO 5\n",
    "List and indexing practice.\n",
    "\n",
    "1. Create a list containing all even numbers up to and including 100. Store the list in a variable called `even_list`. Try using Pythons `range()` function ([docs](https://docs.python.org/3/library/functions.html#func-range))and then casting it as a list using `list()`. **You SHOULD NOT write out the list by hand or you will not get any points!** \n",
    "3. Check the length of the `even_list`. Store the output into the `even_list_length` variable.\n",
    "2. Use list indexing to return the last 5 elements of the `even_list`. Store the output into `last_five_even_elements`.\n",
    "3. Use list indexing to return the second to last element of the `even_list`. Store the output into `second_to_last_even_element`.\n",
    "4. Use list indexing to return the first 10 elements of the `even_list`. Store the output into `first_ten_even_elements`."
   ]
  },
  {
   "cell_type": "code",
   "execution_count": 33,
   "metadata": {
    "id": "KPlVFIqgESVj"
   },
   "outputs": [
    {
     "name": "stdout",
     "output_type": "stream",
     "text": [
      "even_list output: [2, 4, 6, 8, 10, 12, 14, 16, 18, 20, 22, 24, 26, 28, 30, 32, 34, 36, 38, 40, 42, 44, 46, 48, 50, 52, 54, 56, 58, 60, 62, 64, 66, 68, 70, 72, 74, 76, 78, 80, 82, 84, 86, 88, 90, 92, 94, 96, 98, 100]\n",
      "Your code PASSED the code check!\n"
     ]
    }
   ],
   "source": [
    "# TODO 5.1\n",
    "even_list =  list(range(2,101,2))\n",
    "print(f\"even_list output: {even_list}\")\n",
    "\n",
    "todo_check([\n",
    "    (even_list == [2,  4,  6,  8,  10,  12,  14,  16,  18,  20,  22,  24,  26,  28,  30,  32,  34,  36,  38,  40,  42,  44,  46,  48,  50,  52,  54,  56,  58,  60,  62,  64,  66,  68,  70,  72,  74,  76,  78,  80,  82,  84,  86,  88,  90,  92,  94,  96,  98,  100],\n",
    "    'even_list does not match the desired output! Make sure you have even numbers from 2 to and including 100!')\n",
    "    ])"
   ]
  },
  {
   "cell_type": "code",
   "execution_count": 34,
   "metadata": {
    "id": "znlb3CR9ESVj"
   },
   "outputs": [
    {
     "name": "stdout",
     "output_type": "stream",
     "text": [
      "even_list_length output: 50\n",
      "Your code PASSED the code check!\n"
     ]
    }
   ],
   "source": [
    "# TODO 5.2\n",
    "even_list_length = len(even_list)\n",
    "print(f\"even_list_length output: {even_list_length}\")\n",
    "\n",
    "todo_check([\n",
    "    (even_list_length == 50, 'even_list_length should be 50')\n",
    "])"
   ]
  },
  {
   "cell_type": "code",
   "execution_count": 35,
   "metadata": {
    "id": "6f1zdtD5ESVk"
   },
   "outputs": [
    {
     "name": "stdout",
     "output_type": "stream",
     "text": [
      "last_five_even_elements output: [92, 94, 96, 98, 100]\n",
      "Your code PASSED the code check!\n"
     ]
    }
   ],
   "source": [
    "# TODO 5.3\n",
    "last_five_even_elements =  even_list[45:]\n",
    "print(f\"last_five_even_elements output: {last_five_even_elements}\")\n",
    "\n",
    "todo_check([\n",
    "    (last_five_even_elements == [92, 94, 96, 98, 100], 'last_five_even_elements does not match [92, 94, 96, 98, 100]'),\n",
    "])"
   ]
  },
  {
   "cell_type": "code",
   "execution_count": 36,
   "metadata": {
    "id": "D9n5BXQ-I91E"
   },
   "outputs": [
    {
     "name": "stdout",
     "output_type": "stream",
     "text": [
      "second_to_last_even_element output: [98]\n"
     ]
    }
   ],
   "source": [
    "second_to_last_even_element =  even_list[48:49]\n",
    "print(f\"second_to_last_even_element output: {second_to_last_even_element}\")"
   ]
  },
  {
   "cell_type": "code",
   "execution_count": 37,
   "metadata": {
    "id": "XsLrpcsFESVk"
   },
   "outputs": [
    {
     "name": "stdout",
     "output_type": "stream",
     "text": [
      "second_to_last_even_element output: 98\n",
      "Your code PASSED the code check!\n"
     ]
    }
   ],
   "source": [
    "# TODO 5.4\n",
    "second_to_last_even_element =  even_list[-2]\n",
    "print(f\"second_to_last_even_element output: {second_to_last_even_element}\")\n",
    "\n",
    "todo_check([\n",
    "    (second_to_last_even_element == 98, \"second_to_last_even_element should be 98\")\n",
    "])"
   ]
  },
  {
   "cell_type": "code",
   "execution_count": 38,
   "metadata": {
    "id": "FowO4rc4ESVk"
   },
   "outputs": [
    {
     "name": "stdout",
     "output_type": "stream",
     "text": [
      "first_ten_even_elements output: [2, 4, 6, 8, 10, 12, 14, 16, 18, 20]\n",
      "Your code PASSED the code check!\n"
     ]
    }
   ],
   "source": [
    "# TODO 5.5\n",
    "first_ten_even_elements = even_list[0:10]\n",
    "print(f\"first_ten_even_elements output: {first_ten_even_elements}\")\n",
    "\n",
    "todo_check([\n",
    "    (first_ten_even_elements == [2,  4,  6,  8,  10,  12,  14,  16,  18,  20],\n",
    "    \"first_ten_even_elements should be [2,  4,  6,  8,  10,  12,  14,  16,  18,  20]\")\n",
    "])"
   ]
  },
  {
   "cell_type": "markdown",
   "metadata": {
    "id": "_sdiPw7oESVl"
   },
   "source": [
    "### Dictionaries\n",
    "\n",
    "A dictionary stores key-value pairs, similar to a Map in Java. Keys are unique within a dictionary while values may not be. The values of a dictionary can be of any type, but the keys must be of an immutable data type (meaning its values can't be changed once set) such as strings, numbers, or tuples.\n",
    "\n",
    "- Additional Information\n",
    "    - [Real Python Dictionary Tutorial](https://realpython.com/python-dicts/)."
   ]
  },
  {
   "cell_type": "markdown",
   "metadata": {
    "id": "f6OyvbbUESVl"
   },
   "source": [
    "We can create a dictionary simply by doing either of the following."
   ]
  },
  {
   "cell_type": "code",
   "execution_count": 39,
   "metadata": {
    "id": "Oz5za5IIESVl"
   },
   "outputs": [
    {
     "data": {
      "text/plain": [
       "{'cat': 'cute', 'dog': 'furry'}"
      ]
     },
     "execution_count": 39,
     "metadata": {},
     "output_type": "execute_result"
    }
   ],
   "source": [
    "d = {'cat': 'cute', 'dog': 'furry'}\n",
    "d"
   ]
  },
  {
   "cell_type": "code",
   "execution_count": 40,
   "metadata": {
    "id": "68k5tc6pESVm"
   },
   "outputs": [
    {
     "data": {
      "text/plain": [
       "{'cat': 'cute', 'dog': 'furry'}"
      ]
     },
     "execution_count": 40,
     "metadata": {},
     "output_type": "execute_result"
    }
   ],
   "source": [
    "# OR\n",
    "d = dict(cat='cute', dog='furry')\n",
    "d"
   ]
  },
  {
   "cell_type": "markdown",
   "metadata": {
    "id": "Z3My_tRuESVm"
   },
   "source": [
    "To get a value of a particular key simply index said key."
   ]
  },
  {
   "cell_type": "code",
   "execution_count": 41,
   "metadata": {
    "id": "EmWXz9wBESVm"
   },
   "outputs": [
    {
     "name": "stdout",
     "output_type": "stream",
     "text": [
      "cute\n"
     ]
    }
   ],
   "source": [
    "print(d['cat'])"
   ]
  },
  {
   "cell_type": "markdown",
   "metadata": {
    "id": "v7luAPQjESVn"
   },
   "source": [
    "We can easily create an entry by doing the following."
   ]
  },
  {
   "cell_type": "code",
   "execution_count": 42,
   "metadata": {
    "id": "cU5DcGq-ESVn"
   },
   "outputs": [
    {
     "data": {
      "text/plain": [
       "'wet'"
      ]
     },
     "execution_count": 42,
     "metadata": {},
     "output_type": "execute_result"
    }
   ],
   "source": [
    "d['fish'] = 'wet'\n",
    "d['fish']"
   ]
  },
  {
   "cell_type": "markdown",
   "metadata": {
    "id": "P-jEqxiHESVn"
   },
   "source": [
    "If the key doesn't exist Python will throw a runtime error! Below we catch this error for you."
   ]
  },
  {
   "cell_type": "code",
   "execution_count": 43,
   "metadata": {
    "id": "4cXCqngDESVo"
   },
   "outputs": [
    {
     "name": "stderr",
     "output_type": "stream",
     "text": [
      "Traceback (most recent call last):\n",
      "  File \"C:\\Users\\himat\\AppData\\Local\\Temp\\ipykernel_3548\\2298354547.py\", line 2, in <module>\n",
      "    print(d['monkey'])\n",
      "KeyError: 'monkey'\n"
     ]
    }
   ],
   "source": [
    "try:\n",
    "    print(d['monkey']) \n",
    "except KeyError as e:\n",
    "    traceback.print_exc()"
   ]
  },
  {
   "cell_type": "markdown",
   "metadata": {
    "id": "uaOhrnbkESVo"
   },
   "source": [
    "To check if the key exists, to avoid errors simply use the `in` Python keyword."
   ]
  },
  {
   "cell_type": "code",
   "execution_count": 44,
   "metadata": {
    "id": "QLZ7FQ-_ESVo"
   },
   "outputs": [
    {
     "name": "stdout",
     "output_type": "stream",
     "text": [
      "True\n"
     ]
    }
   ],
   "source": [
    "print('cat' in d) "
   ]
  },
  {
   "cell_type": "markdown",
   "metadata": {
    "id": "lraru3ipESVp"
   },
   "source": [
    "If we don't know if a key will exists we can use the `.get()` method to get an element where a default value is return if the key is not found. If no default value is given, then Python uses `None` as the default value."
   ]
  },
  {
   "cell_type": "code",
   "execution_count": 45,
   "metadata": {
    "id": "lQLkTyPcESVp"
   },
   "outputs": [
    {
     "data": {
      "text/plain": [
       "'Key does not exist'"
      ]
     },
     "execution_count": 45,
     "metadata": {},
     "output_type": "execute_result"
    }
   ],
   "source": [
    "d.get('monkey', 'Key does not exist')"
   ]
  },
  {
   "cell_type": "markdown",
   "metadata": {
    "id": "POFTZD77ESVq"
   },
   "source": [
    "Get an element with a default value where key exists."
   ]
  },
  {
   "cell_type": "code",
   "execution_count": 46,
   "metadata": {
    "id": "FpDlK6zoESVq"
   },
   "outputs": [
    {
     "data": {
      "text/plain": [
       "'wet'"
      ]
     },
     "execution_count": 46,
     "metadata": {},
     "output_type": "execute_result"
    }
   ],
   "source": [
    "d.get('fish', 'Key does not exist')"
   ]
  },
  {
   "cell_type": "markdown",
   "metadata": {
    "id": "XAaXofOlESVr"
   },
   "source": [
    "To remove an element from a dictionary. Notice the key \"fish\" is no longer a key so we get \"N/A\" the default value when using `.get()`."
   ]
  },
  {
   "cell_type": "code",
   "execution_count": 47,
   "metadata": {
    "id": "DRzyo6xMESVr"
   },
   "outputs": [
    {
     "data": {
      "text/plain": [
       "'wet'"
      ]
     },
     "execution_count": 47,
     "metadata": {},
     "output_type": "execute_result"
    }
   ],
   "source": [
    "d['fish'] = 'wet'\n",
    "d['fish']"
   ]
  },
  {
   "cell_type": "code",
   "execution_count": 48,
   "metadata": {
    "id": "ILSTro5sESVs"
   },
   "outputs": [
    {
     "data": {
      "text/plain": [
       "'Key does not exist'"
      ]
     },
     "execution_count": 48,
     "metadata": {},
     "output_type": "execute_result"
    }
   ],
   "source": [
    "del d['fish'] \n",
    "d.get('fish', 'Key does not exist')"
   ]
  },
  {
   "cell_type": "markdown",
   "metadata": {
    "id": "D-TEJg-KESVs"
   },
   "source": [
    "### Tuples\n",
    "\n",
    "A tuple is an immutable (meaning its values can't be changed once set) ordered list of values. A tuple is in many ways similar to a list; one of the most important differences is that tuples can be used as keys in dictionaries and as elements of sets, while lists cannot."
   ]
  },
  {
   "cell_type": "code",
   "execution_count": 49,
   "metadata": {
    "id": "X87sg2-7ESVs"
   },
   "outputs": [
    {
     "data": {
      "text/plain": [
       "(1, 2, 3, 4, 5)"
      ]
     },
     "execution_count": 49,
     "metadata": {},
     "output_type": "execute_result"
    }
   ],
   "source": [
    "t = (1, 2, 3, 4, 5)\n",
    "t"
   ]
  },
  {
   "cell_type": "markdown",
   "metadata": {
    "id": "ja9A4Eh1ESVt"
   },
   "source": [
    "Notice, since tuples are immutable we can't change a value once set, otherwise we get an error!"
   ]
  },
  {
   "cell_type": "code",
   "execution_count": 50,
   "metadata": {
    "id": "pSk-H1V_ESVt"
   },
   "outputs": [
    {
     "name": "stderr",
     "output_type": "stream",
     "text": [
      "Traceback (most recent call last):\n",
      "  File \"C:\\Users\\himat\\AppData\\Local\\Temp\\ipykernel_3548\\1780791338.py\", line 2, in <module>\n",
      "    t[0] =2\n",
      "TypeError: 'tuple' object does not support item assignment\n"
     ]
    }
   ],
   "source": [
    "try: \n",
    "    t[0] =2\n",
    "except TypeError as e:\n",
    "    traceback.print_exc()"
   ]
  },
  {
   "cell_type": "markdown",
   "metadata": {
    "id": "iQ3xK9APESVt"
   },
   "source": [
    "## Functions\n",
    "Python is a functional language, functions in Python can be defined by using Python's keyword `def`. Recall, a function is a block of code which only runs when it is called in which you can pass *arguments* to.\n",
    "\n",
    "- Additional Resources\n",
    "    - [Real Python Function Tutorial](https://realpython.com/defining-your-own-python-function/)"
   ]
  },
  {
   "cell_type": "markdown",
   "metadata": {
    "id": "f2dpXSJ5ESVu"
   },
   "source": [
    "Below is a very basic function definition."
   ]
  },
  {
   "cell_type": "code",
   "execution_count": 51,
   "metadata": {
    "id": "Y1gmmb1ZESVu"
   },
   "outputs": [],
   "source": [
    "def basic_func(a, b, c='default'):\n",
    "    print(a, b, c)"
   ]
  },
  {
   "cell_type": "markdown",
   "metadata": {
    "id": "2BG6EKUQESVu"
   },
   "source": [
    "We can call a function by specifying all the required arguments. In the above case, we only are required to specify `a` and `b`. Notice, the argument `c` has a default value. This means if we pass nothing to `c` it will use whatever the default value is set to."
   ]
  },
  {
   "cell_type": "code",
   "execution_count": 52,
   "metadata": {
    "id": "TM9C-LtQESVv"
   },
   "outputs": [
    {
     "name": "stdout",
     "output_type": "stream",
     "text": [
      "this is a default\n"
     ]
    }
   ],
   "source": [
    "basic_func('this', 'is a')"
   ]
  },
  {
   "cell_type": "markdown",
   "metadata": {
    "id": "IW0zPYIxESVv"
   },
   "source": [
    "Notice all the arguments are passed in order. Since the value 'this' is first, it is assigned to `a`. As the value 'is a' is second, it is assigned to `b`.\n",
    "\n",
    "We can pass *keyword arguments* to the function by specifying which argument should receive each value. Notice we also override the default value for `c`!"
   ]
  },
  {
   "cell_type": "code",
   "execution_count": 53,
   "metadata": {
    "id": "XWv46NdyESVv"
   },
   "outputs": [
    {
     "name": "stdout",
     "output_type": "stream",
     "text": [
      "this is a test\n"
     ]
    }
   ],
   "source": [
    "basic_func(a='this', b='is a', c='test')"
   ]
  },
  {
   "cell_type": "markdown",
   "metadata": {
    "id": "RnAz26qMESVw"
   },
   "source": [
    "By default, all functions return `None` or no value, similar to Java's `null`."
   ]
  },
  {
   "cell_type": "code",
   "execution_count": 54,
   "metadata": {
    "id": "MVvPH1CeESVw"
   },
   "outputs": [
    {
     "name": "stdout",
     "output_type": "stream",
     "text": [
      "this is a test\n",
      "function output: None\n"
     ]
    }
   ],
   "source": [
    "output = basic_func('this', 'is a', 'test')\n",
    "print(f\"function output: {output}\")"
   ]
  },
  {
   "cell_type": "markdown",
   "metadata": {
    "id": "6ZrV_kllESVx"
   },
   "source": [
    "To return a single or multiple values simply add the `return` keyword."
   ]
  },
  {
   "cell_type": "code",
   "execution_count": 55,
   "metadata": {
    "id": "-DtqohBlESVx"
   },
   "outputs": [],
   "source": [
    "def basic_func(a, b, c):\n",
    "    print(a, b, c)\n",
    "    return a, b, c"
   ]
  },
  {
   "cell_type": "code",
   "execution_count": 56,
   "metadata": {
    "id": "3EuMZ2WOESVy"
   },
   "outputs": [
    {
     "name": "stdout",
     "output_type": "stream",
     "text": [
      "this is a test\n",
      "function returned: this is a test\n"
     ]
    }
   ],
   "source": [
    "a, b, c = basic_func('this', 'is a', 'test')\n",
    "print(f\"function returned: {a} {b} {c}\")"
   ]
  },
  {
   "cell_type": "markdown",
   "metadata": {
    "id": "wgi-CKH8ESVz"
   },
   "source": [
    "### TODO 6\n",
    "Complete the following TODO by defining a function called `add_func()`.\n",
    "\n",
    "1. Define a function called `add_func()` that takes two arguments. The function should adds the two arguments together using `+` and return the output. For example, if the input values for the arguments are 1 and 2, then 3 should be returned. Likewise, if the input arguments are \"good\" and \" day\", then \"good day\" should be returned."
   ]
  },
  {
   "cell_type": "code",
   "execution_count": 57,
   "metadata": {
    "id": "cNyWEDqkESV0"
   },
   "outputs": [
    {
     "name": "stdout",
     "output_type": "stream",
     "text": [
      "add_func output for 1 + 2: 3\n",
      "add_func output for good + day: good day\n",
      "Your code PASSED the code check!\n"
     ]
    }
   ],
   "source": [
    "# TODO 6.1\n",
    "\n",
    "def add_func(a,b):\n",
    "  return a+b\n",
    "print(f\"add_func output for 1 + 2: {add_func(1, 2)}\")\n",
    "print(f\"add_func output for good + day: {add_func('good',' day')}\")\n",
    "\n",
    "todo_check([\n",
    "    (add_func(1, 2) == 3, 'add_func() did not return 3 when using input values 1 and 2.'), \n",
    "    (add_func('good', ' day') == \"good day\", 'add_func() did not return \"good day\" when using input values \"good\" and \" day\"')\n",
    "])"
   ]
  },
  {
   "cell_type": "markdown",
   "metadata": {
    "id": "j3ydffpKESV0"
   },
   "source": [
    "## Classes\n",
    "\n",
    "As Python is also an object oriented programming language, classes can be defined by using Python's keyword `class`.\n",
    "\n",
    "- Additional Resources\n",
    "    - [Real Python Classes Tutorial](https://realpython.com/python3-object-oriented-programming/)\n",
    "    - [Understanding 'self'](https://pythonprogramminglanguage.com/python-self/)    - "
   ]
  },
  {
   "cell_type": "markdown",
   "metadata": {
    "id": "afb5nzq1ESV1"
   },
   "source": [
    "Below is a very basic class definition. Notice, we use the `class` keyword to define a class.\n",
    "\n",
    "Further, the `def` keywords are used to declared methods. Notice all methods typically take in the `self` argument which is a reference to  current instance of the class, similar to `this` in Java. `self` is used to refer to the class's methods and arguments from inside the class. \n",
    "\n",
    "The constructor for the class is defined by the `__init__` method (though is not required) which is called anytime an class is instantiated. Methods with double leading and trailing underscores are typically methods defined by Python. There are many other types of these methods such as `__call__`, `__str__`, and `__add__`, however a deeper look at this is out of scope for this lab."
   ]
  },
  {
   "cell_type": "code",
   "execution_count": 58,
   "metadata": {
    "id": "ajs34hnpESV1"
   },
   "outputs": [],
   "source": [
    "class BasicClass():\n",
    "    def __init__(self, a, b, c):\n",
    "        self.a = a \n",
    "        self.b = b\n",
    "        self.c = c\n",
    "        \n",
    "    def print_args(self):\n",
    "        print(self.a, self.b, self.c)"
   ]
  },
  {
   "cell_type": "code",
   "execution_count": 59,
   "metadata": {
    "id": "HqIn01JDESV2"
   },
   "outputs": [
    {
     "name": "stdout",
     "output_type": "stream",
     "text": [
      "this is a test\n"
     ]
    }
   ],
   "source": [
    "# Initialize class\n",
    "basic_class = BasicClass('this', 'is a', 'test')\n",
    "# Call method\n",
    "basic_class.print_args()"
   ]
  },
  {
   "cell_type": "markdown",
   "metadata": {
    "id": "aVAp3_soESV2"
   },
   "source": [
    "### Inheritance\n",
    "\n",
    "First recall the following inheritance:\n",
    "\n",
    "**Parent class** is the class being inherited from, also called base class.\n",
    "\n",
    "**Child class** is the class that inherits from another class, also called derived class.\n",
    "\n",
    "\n",
    "Thus, inheritance of classes is what is called an *is a* relationship. This means that when you have a Derived class that inherits from a Base class, you created a relationship where Derived is a specialized version of Base.\n",
    "\n",
    "All this means is that inheritance allows us to define a class that inherits all the methods and arguments from another class. (Having inheritance in Python allows Python to be an object oriented language). Essentially, this helps us to organize our code and reuse aspects of our code as well."
   ]
  },
  {
   "cell_type": "markdown",
   "metadata": {
    "id": "AZ1Orq92ESV2"
   },
   "source": [
    "In Python, to create a class that inherits the methods and variables from another class, send the parent class as an argument when creating the child class as seen below `class Child(Parent)`.\n",
    "\n",
    "Note that the `super().__init__()` line allows us to run the parent classes `__init__` method which then initializes the parent class. Without doing this we wouldn't have access to `self.parent_name` or any variables defined in the `__init__` of the parent class."
   ]
  },
  {
   "cell_type": "code",
   "execution_count": 60,
   "metadata": {
    "id": "by1yaMh7ESV3"
   },
   "outputs": [],
   "source": [
    "class Parent():\n",
    "    def __init__(self):\n",
    "        self.parent_name = \"Parent\"\n",
    "        self.base_variable = 0\n",
    "    \n",
    "    def base_class_method(self):\n",
    "        print(f\"This is a base class method\")\n",
    "\n",
    "class Child(Parent):\n",
    "    def __init__(self):\n",
    "        super().__init__()\n",
    "        self.child_name = \"child\"\n",
    "        self.base_variable = 1"
   ]
  },
  {
   "cell_type": "markdown",
   "metadata": {
    "id": "pFNCQ1YEESV4"
   },
   "source": [
    "After we create an instance of the `Child` class which inherits the `Parent` class, we can use the methods and variables in `Parent`."
   ]
  },
  {
   "cell_type": "code",
   "execution_count": 61,
   "metadata": {
    "id": "dbPoMoDiESV5"
   },
   "outputs": [],
   "source": [
    "parent = Parent()\n",
    "child = Child()"
   ]
  },
  {
   "cell_type": "markdown",
   "metadata": {
    "id": "M54a60I_ESV6"
   },
   "source": [
    "First, we can start off by referring to the `Parent` class's variables from the `Child` class."
   ]
  },
  {
   "cell_type": "code",
   "execution_count": 62,
   "metadata": {
    "id": "OHmjygr3ESV6"
   },
   "outputs": [
    {
     "name": "stdout",
     "output_type": "stream",
     "text": [
      "The child's parent name is Parent\n"
     ]
    }
   ],
   "source": [
    "print(f\"The child's parent name is {child.parent_name}\")"
   ]
  },
  {
   "cell_type": "markdown",
   "metadata": {
    "id": "MDO6_N9UESV7"
   },
   "source": [
    "Next, we can try using one of the `Parent` class's methods."
   ]
  },
  {
   "cell_type": "code",
   "execution_count": 63,
   "metadata": {
    "id": "OR12wuqMESV7"
   },
   "outputs": [
    {
     "name": "stdout",
     "output_type": "stream",
     "text": [
      "This is a base class method\n"
     ]
    }
   ],
   "source": [
    "child.base_class_method()"
   ]
  },
  {
   "cell_type": "markdown",
   "metadata": {
    "id": "BFYdqdsFESV8"
   },
   "source": [
    "Notice, we still have access to the `Child` class's variables as well (this goes for methods as well). "
   ]
  },
  {
   "cell_type": "code",
   "execution_count": 64,
   "metadata": {
    "id": "V9iJniNlESV8"
   },
   "outputs": [
    {
     "name": "stdout",
     "output_type": "stream",
     "text": [
      "The child's name is child\n"
     ]
    }
   ],
   "source": [
    "print(f\"The child's name is {child.child_name}\")"
   ]
  },
  {
   "cell_type": "markdown",
   "metadata": {
    "id": "xxn82K7VESV8"
   },
   "source": [
    "However, also notice that we can overwrite the `Parents` class variables when we inherit (this goes for methods as well)."
   ]
  },
  {
   "cell_type": "code",
   "execution_count": 65,
   "metadata": {
    "id": "ztxlr4xBESV9"
   },
   "outputs": [
    {
     "name": "stdout",
     "output_type": "stream",
     "text": [
      "The parents's base_variable is 0\n",
      "The child's base_variable is 1\n"
     ]
    }
   ],
   "source": [
    "print(f\"The parents's base_variable is {parent.base_variable}\")\n",
    "print(f\"The child's base_variable is {child.base_variable}\")"
   ]
  },
  {
   "cell_type": "markdown",
   "metadata": {
    "id": "fntt6chsESV9"
   },
   "source": [
    "## For Loops and List Comprehension\n",
    "\n",
    "- Additional Sources\n",
    "    - [GeeksforGeeks Python for loops](https://www.geeksforgeeks.org/python-for-loops/)\n",
    "    - [Python List Comprehension](https://www.programiz.com/python-programming/list-comprehension)\n",
    "    - [Python range() function](https://www.pythoncentral.io/pythons-range-function-explained/)\n",
    "    - [Generators in Python](https://www.edureka.co/blog/generators-in-python/)"
   ]
  },
  {
   "cell_type": "markdown",
   "metadata": {
    "id": "prWmJ29-ESV-"
   },
   "source": [
    "### For Loops\n"
   ]
  },
  {
   "cell_type": "markdown",
   "metadata": {
    "id": "x80i3Zc4ESV-"
   },
   "source": [
    "A common way to loop over a list or any other sequence (tuple, set, dictionary, strings or any [Iterable object](https://pythonbasics.org/iterable/)) is to pair `for` with the keyword `in`. In the below example you can see that the `in` keyword allows us to loop over each element in the list."
   ]
  },
  {
   "cell_type": "code",
   "execution_count": 66,
   "metadata": {
    "id": "RRUEORgAESV-"
   },
   "outputs": [
    {
     "name": "stdout",
     "output_type": "stream",
     "text": [
      "0\n",
      "1\n",
      "2\n"
     ]
    }
   ],
   "source": [
    "l = [0, 1, 2]\n",
    "for i in l:\n",
    "    print(i)"
   ]
  },
  {
   "cell_type": "markdown",
   "metadata": {
    "id": "OP1Yk7YaESV_"
   },
   "source": [
    "If you want to use a `for` loop to simply repeat some operation a certain number of times, we can once again use the Python keyword range to do so. This operates closer to traditional for loops like `for (i=0; i<n; i++)` in C or Java."
   ]
  },
  {
   "cell_type": "code",
   "execution_count": 67,
   "metadata": {
    "id": "sxHMVNXPESV_"
   },
   "outputs": [
    {
     "name": "stdout",
     "output_type": "stream",
     "text": [
      "0\n",
      "1\n",
      "2\n"
     ]
    }
   ],
   "source": [
    "for i in range(3):\n",
    "    print(i)"
   ]
  },
  {
   "cell_type": "markdown",
   "metadata": {
    "id": "d3ZdhjjWESWA"
   },
   "source": [
    "Lastly, we can still use keywords like `break` to break out of a `for` loop or `continue` to skip a single iteration of a `for` loop."
   ]
  },
  {
   "cell_type": "code",
   "execution_count": 68,
   "metadata": {
    "id": "wvU-NMaUESWA"
   },
   "outputs": [
    {
     "name": "stdout",
     "output_type": "stream",
     "text": [
      "0\n",
      "2\n"
     ]
    }
   ],
   "source": [
    "for i in range(3):\n",
    "    if i == 1:\n",
    "        continue\n",
    "    print(i)"
   ]
  },
  {
   "cell_type": "code",
   "execution_count": 69,
   "metadata": {
    "id": "kwEz2UCmESWB"
   },
   "outputs": [
    {
     "name": "stdout",
     "output_type": "stream",
     "text": [
      "0\n"
     ]
    }
   ],
   "source": [
    "for i in range(3):\n",
    "    if i == 1:\n",
    "        break\n",
    "    print(i)"
   ]
  },
  {
   "cell_type": "markdown",
   "metadata": {
    "id": "g3gqGtH3ESWB"
   },
   "source": [
    "### List Comprehension\n",
    "One useful concept that Python allows for is list comprehension. List comprehension allows us to create lists from other lists or iterable objects in **one line of code**. List comprehension can also be thought of as a one line `for` loop.\n",
    "\n",
    "The basic outline for list comprehension is as follows:\n",
    "```\n",
    "[expression for item in list]\n",
    "```\n",
    "Here the `[]` brackets indicate list comprehension and our output will be a list, `expression` represents code that will run and its output will be stored in our list, and `for item in list` loops through each item in the iterable object.\n",
    "\n",
    "Let's test list comprehension by creating a list that contains the numbers 1-10. Recall that `range(1,11)` creates a sequence of numbers. These numbers are given in the form of a Python [generator](https://realpython.com/introduction-to-python-generators/) that we loop over. (Recall, a generator creates the numbers on the fly instead of creating them all at once and filling up memory.)"
   ]
  },
  {
   "cell_type": "code",
   "execution_count": 70,
   "metadata": {
    "id": "MiUDq9WPESWB"
   },
   "outputs": [
    {
     "data": {
      "text/plain": [
       "[1, 2, 3, 4, 5, 6, 7, 8, 9, 10]"
      ]
     },
     "execution_count": 70,
     "metadata": {},
     "output_type": "execute_result"
    }
   ],
   "source": [
    "x_list = [ele for ele in range(1, 11)]\n",
    "x_list"
   ]
  },
  {
   "cell_type": "markdown",
   "metadata": {
    "id": "HigotxhTESWC"
   },
   "source": [
    "**What if we wanted only even numbers? How do we add a condition?**\n",
    "\n",
    "The basic outline for list comprehension with a condition is as follows:\n",
    "```\n",
    "[expression for item in list if condition]\n",
    "```\n",
    "\n",
    "All the below line of code says is iterate over the the list `x_list`, if the the element `ele` is an even number, then store it in our new list. Recall, that the [modulo symbol](https://realpython.com/python-modulo-operator/) `%` computes the remainder."
   ]
  },
  {
   "cell_type": "code",
   "execution_count": 71,
   "metadata": {
    "id": "ywCGnRddESWC"
   },
   "outputs": [
    {
     "data": {
      "text/plain": [
       "[2, 4, 6, 8, 10]"
      ]
     },
     "execution_count": 71,
     "metadata": {},
     "output_type": "execute_result"
    }
   ],
   "source": [
    "[ele for ele in range(1, 11) if ele%2 == 0]"
   ]
  },
  {
   "cell_type": "markdown",
   "metadata": {
    "id": "ysVs9oGLESWD"
   },
   "source": [
    "Additionally, we can create **set** and **dictionary** by replacing the square brackets `[]` with curly braces `{}`."
   ]
  },
  {
   "cell_type": "code",
   "execution_count": 72,
   "metadata": {
    "id": "3AyoJa_NESWD"
   },
   "outputs": [
    {
     "data": {
      "text/plain": [
       "{2, 4, 6, 8, 10}"
      ]
     },
     "execution_count": 72,
     "metadata": {},
     "output_type": "execute_result"
    }
   ],
   "source": [
    "# Creates a set (unordered list)\n",
    "{ele for ele in range(1, 11) if ele%2 == 0}"
   ]
  },
  {
   "cell_type": "code",
   "execution_count": 73,
   "metadata": {
    "id": "l-ZgEYkyESWE"
   },
   "outputs": [
    {
     "data": {
      "text/plain": [
       "{1: 2, 3: 4, 5: 6, 7: 8, 9: 10}"
      ]
     },
     "execution_count": 73,
     "metadata": {},
     "output_type": "execute_result"
    }
   ],
   "source": [
    "# Creates a dictionary\n",
    "{idx:ele for idx, ele in enumerate(x_list) if ele%2 == 0}"
   ]
  },
  {
   "cell_type": "markdown",
   "metadata": {
    "id": "qAB-2AS9ESWE"
   },
   "source": [
    "Note, that `enumerate` is a built in Python function that returns the index of each element (denoted by `idx` the first position in the loop) in the list and is often used in loops such that we get the index position of the element and the actual element itself. Here it is used to simply create a key."
   ]
  },
  {
   "cell_type": "markdown",
   "metadata": {
    "id": "DyeCSEPfESWF"
   },
   "source": [
    "### TODO 7\n",
    "1. Create a list of all odd numbers up to 50 using list comprehension. Recall, you can use an `if` condition to check if the modulo left over is equal to 1. If true, the list will then only store odd numbers! Store the output into the `odd_list` variable."
   ]
  },
  {
   "cell_type": "code",
   "execution_count": 74,
   "metadata": {
    "id": "Dz0KPP5xESWJ"
   },
   "outputs": [
    {
     "name": "stdout",
     "output_type": "stream",
     "text": [
      "odd_list output: [1, 3, 5, 7, 9, 11, 13, 15, 17, 19, 21, 23, 25, 27, 29, 31, 33, 35, 37, 39, 41, 43, 45, 47, 49]\n",
      "Your code PASSED the code check!\n"
     ]
    }
   ],
   "source": [
    "#TODO 7.1\n",
    "odd_list = [ele for ele in range(1, 50) if ele%2 == 1]\n",
    "print(f\"odd_list output: {odd_list}\")\n",
    "\n",
    "todo_check([\n",
    "    (odd_list==[1,  3,  5,  7,  9,  11,  13,  15,  17,  19,  21,  23,  25,  27,  29,  31,  33,  35,  37,  39,  41,  43,  45,  47,  49],\n",
    "     'odd_list does not contain all odd numbers between 1 and 49')\n",
    "    ])"
   ]
  },
  {
   "cell_type": "markdown",
   "metadata": {
    "id": "ksFjDzGEESWL"
   },
   "source": [
    "## Lambda Functions\n",
    "Sometimes it can be useful to define functions on the go or for only a short period of time. This is where `lambda` functions come into play. The `lambda` keyword allows us to declare an anonymous function or a function with no name on the fly.\n",
    "\n",
    "- Additional Sources\n",
    "    - [What are Lambda Functions?](https://stackabuse.com/lambda-functions-in-python/)\n",
    "    - [Why are Python lambdas useful? - Stack Overflow](https://stackoverflow.com/questions/890128/why-are-python-lambdas-useful)"
   ]
  },
  {
   "cell_type": "code",
   "execution_count": 75,
   "metadata": {
    "id": "eWmOHZILESWM"
   },
   "outputs": [
    {
     "data": {
      "text/plain": [
       "[1, 2, 3, 4, 5]"
      ]
     },
     "execution_count": 75,
     "metadata": {},
     "output_type": "execute_result"
    }
   ],
   "source": [
    "x_list = list(range(1, 6))\n",
    "x_list"
   ]
  },
  {
   "cell_type": "markdown",
   "metadata": {
    "id": "CDzEv__3ESWN"
   },
   "source": [
    "If we wanted to double every element in `x_list` we might define a function and use list comprehension. "
   ]
  },
  {
   "cell_type": "code",
   "execution_count": 76,
   "metadata": {
    "id": "M1nvLpo7ESWO"
   },
   "outputs": [
    {
     "data": {
      "text/plain": [
       "[2, 4, 6, 8, 10]"
      ]
     },
     "execution_count": 76,
     "metadata": {},
     "output_type": "execute_result"
    }
   ],
   "source": [
    "def double(x):\n",
    "    return x * 2\n",
    "[double(ele) for ele in x_list]"
   ]
  },
  {
   "cell_type": "markdown",
   "metadata": {
    "id": "D8Di8nRxESWO"
   },
   "source": [
    "Alternatively, instead of defining a function we could define a `lambda` function.\n",
    "\n",
    "The basic outline for a `lambda` function is given below where `p1`, `p2` are the arguments of the function.\n",
    "\n",
    "```\n",
    "lambda p1, p2, ...: expression \n",
    "```"
   ]
  },
  {
   "cell_type": "code",
   "execution_count": 77,
   "metadata": {
    "id": "sJLhd1stESWP"
   },
   "outputs": [
    {
     "data": {
      "text/plain": [
       "[2, 4, 6, 8, 10]"
      ]
     },
     "execution_count": 77,
     "metadata": {},
     "output_type": "execute_result"
    }
   ],
   "source": [
    "# Nameless function stored inside a variable\n",
    "double_lambda = lambda x: x*2 \n",
    "[double_lambda(ele) for ele in x_list]"
   ]
  },
  {
   "cell_type": "markdown",
   "metadata": {
    "id": "QXDxpV4ZESWP"
   },
   "source": [
    "The real usefullness of `lambda` functions arises when a function takes as input another function. Take the built-in Python function [map](https://realpython.com/python-map-function/) for example. The `map` function applies a the passed function to every element in the list (basically it loops over a list and applies a function to every element like we just did). Note, we need to wrap the `map()` output in a list as maps returns a generator and we want a list so we can see all the output at once.\n",
    "\n",
    "So, we could define a function `double` and then pass it to `map`."
   ]
  },
  {
   "cell_type": "code",
   "execution_count": 78,
   "metadata": {
    "id": "V6eUc4zCESWQ"
   },
   "outputs": [
    {
     "data": {
      "text/plain": [
       "[2, 4, 6, 8, 10]"
      ]
     },
     "execution_count": 78,
     "metadata": {},
     "output_type": "execute_result"
    }
   ],
   "source": [
    "def double(x):\n",
    "    return x * 2\n",
    "list(map(double, x_list))"
   ]
  },
  {
   "cell_type": "markdown",
   "metadata": {
    "id": "zk8e3w80ESWQ"
   },
   "source": [
    "However, we can actually do the same thing in one line of code and forego defining a function by using `lambda` functions."
   ]
  },
  {
   "cell_type": "code",
   "execution_count": 79,
   "metadata": {
    "id": "rQvtRcNzESWR"
   },
   "outputs": [
    {
     "data": {
      "text/plain": [
       "[2, 4, 6, 8, 10]"
      ]
     },
     "execution_count": 79,
     "metadata": {},
     "output_type": "execute_result"
    }
   ],
   "source": [
    "list(map(lambda x: x*2, x_list))"
   ]
  },
  {
   "cell_type": "markdown",
   "metadata": {
    "id": "F6WuOidzESWR"
   },
   "source": [
    "## Debugging\n",
    "\n",
    "Frequently you'll find yourself very confused about why you are getting a certain error. One of your best tools to over come errors is through debugging. Learning how to debug in Python is crucial for this class!"
   ]
  },
  {
   "cell_type": "markdown",
   "metadata": {
    "id": "BUNIqHwyESWR"
   },
   "source": [
    "### Debugging with `print`\n",
    "The most naive form of debugging that most of us are familiar with is printing out the values of a variable. This is a great method if you just need some quick debugging."
   ]
  },
  {
   "cell_type": "code",
   "execution_count": 80,
   "metadata": {
    "id": "PRvMZMYXESWS"
   },
   "outputs": [
    {
     "name": "stdout",
     "output_type": "stream",
     "text": [
      "Samples: 2 Features: 10\n",
      "Weight shapes: (10,)\n"
     ]
    }
   ],
   "source": [
    "def toy_print_example():\n",
    "    import numpy as np\n",
    "    \n",
    "    samples = 2\n",
    "    features = 10\n",
    "    print(\"Samples: {} Features: {}\".format(samples, features))\n",
    "    \n",
    "    weights = np.zeros((features,))\n",
    "    print(\"Weight shapes:\", weights.shape)\n",
    "                       \n",
    "toy_print_example()"
   ]
  },
  {
   "cell_type": "markdown",
   "metadata": {
    "id": "gJv1psAYESWT"
   },
   "source": [
    "### Debugging with set_trace()\n",
    "\n",
    "The `set_trace()` method either from `pdb` or `IPython.core.debugger` allows for you to manually set a breakpoint in the code. When the code reaches the `set_trace()` it will pause the code and bring up a terminal like interface that allows you interact the local code scope that has ran so far. `IPython.core.debugger` is specifically adapts `pdb` for Jupyter notebook and adds a little better functionality in Jupyter.\n",
    "\n",
    "- Additional Sources\n",
    "    - [Python PDB documentation](https://docs.python.org/3/library/pdb.html)"
   ]
  },
  {
   "cell_type": "code",
   "execution_count": 81,
   "metadata": {
    "id": "_y2N7HnPESWT"
   },
   "outputs": [],
   "source": [
    "from IPython.core.debugger import set_trace"
   ]
  },
  {
   "cell_type": "markdown",
   "metadata": {
    "id": "zSfn_hhRESWT"
   },
   "source": [
    "While not recommended, you can use `pdb.set_trace()` though you might run into more errors. For instance, if you run the code cell twice without quiting with `q` the cell will lock-up. Use `pdb.set_trace()` when using an IDE or text editor!"
   ]
  },
  {
   "cell_type": "code",
   "execution_count": 82,
   "metadata": {
    "id": "OyiowyK-ESWU"
   },
   "outputs": [],
   "source": [
    "# from pdb import set_trace"
   ]
  },
  {
   "cell_type": "markdown",
   "metadata": {
    "id": "p19snhdvESWU"
   },
   "source": [
    "### Breakpoints\n",
    "When the code reaches the breakpoint an input box or terminal will appear where you enter code you want to run or debug commands (see below). For instance, if we want to print a variable called `weights` we can do so by entering either `weights` or `print(weights)` into the terminal. This will be useful when you need to debug your NumPy array shapes so keep this in mind! Further, you can also define new variables by simply entering a variable declaration like `new_variable = 3`.\n",
    "\n",
    "\n",
    "### Useful Commands\n",
    "- `c` Goes to the next breakpoint\n",
    "- `q` exits the debugger\n",
    "- `l` prints out the lines of code relative to the debugger\n",
    "- See [Python PDB documentation](https://docs.python.org/3/library/pdb.html) for all commands"
   ]
  },
  {
   "cell_type": "markdown",
   "metadata": {
    "id": "9O-R9ixTESWU"
   },
   "source": [
    "Below is an example of a function that has breakpoints set by calling `set_trace()`. Try running the below code. Wait for the interactive debugger terminal to appear once the first breakpoint has been reached. Next, try printing values of samples and features. Next, enter 'c' to continue to the next breakpoint and try printing value and shape of weights.\n",
    "\n",
    "Note, if you run the below cell and a terminal does not appear then make sure the `enable_debug = True` (`enable_debug` is defined at the top of this notebook in the 1st code cell)."
   ]
  },
  {
   "cell_type": "code",
   "execution_count": 266,
   "metadata": {
    "colab": {
     "base_uri": "https://localhost:8080/"
    },
    "id": "Gj17ATnoESWV",
    "outputId": "84737021-4db2-472a-c12e-cc5e51ac3d99",
    "scrolled": true
   },
   "outputs": [
    {
     "name": "stdout",
     "output_type": "stream",
     "text": [
      "> \u001b[1;32mc:\\users\\himat\\appdata\\local\\temp\\ipykernel_16952\\1266209670.py\u001b[0m(11)\u001b[0;36mtoy_ipython_example\u001b[1;34m()\u001b[0m\n",
      "\n",
      "--KeyboardInterrupt--\n",
      "\n",
      "KeyboardInterrupt: Interrupted by user\n",
      "--Return--\n",
      "None\n",
      "> \u001b[1;32mc:\\users\\himat\\appdata\\local\\temp\\ipykernel_16952\\1266209670.py\u001b[0m(11)\u001b[0;36mtoy_ipython_example\u001b[1;34m()\u001b[0m\n",
      "\n",
      "--KeyboardInterrupt--\n",
      "\n",
      "KeyboardInterrupt: Interrupted by user\n"
     ]
    }
   ],
   "source": [
    "def toy_ipython_example(enable=True):\n",
    "    import numpy as np\n",
    "    \n",
    "    samples = 2\n",
    "    features = 10\n",
    "    # Try printing values of samples and features\n",
    "    # enter the command 'c' to move to the next break point\n",
    "    if enable:\n",
    "        set_trace()\n",
    "    \n",
    "    weights = np.zeros((features,))\n",
    "    # Try printing value and shape of weights\n",
    "    # enter the command 'c' to continue running the code or use\n",
    "    # 'q' to qui\n",
    "    if enable: \n",
    "        set_trace()\n",
    "                       \n",
    "toy_ipython_example(enable=enable_debug)"
   ]
  },
  {
   "cell_type": "markdown",
   "metadata": {
    "id": "ABqcbGgLESWW",
    "tags": []
   },
   "source": [
    " # NumPy\n",
    "\n",
    "NumPy is a scientific library that is frequently used for its highly optimized linear algebra powers. One of NumPy's main attractions is its N-dimensional array objects which work great for storing and manipulating datasets! As we will come to see, most datasets are just 2D arrays where the number of data samples corresponds to the number of rows and the number of features corresponds to the number of columns. \n",
    "\n",
    "In later labs we will see examples of N-dimensional datasets. With this in mind, NumPy will be a library we use in almost every lab as it is so essential to manipulating datasets. "
   ]
  },
  {
   "cell_type": "code",
   "execution_count": 83,
   "metadata": {
    "id": "d8wdgH5tESWW"
   },
   "outputs": [],
   "source": [
    "import numpy as np\n",
    "\n",
    "# Sets NumPy gloabl seed such that any\n",
    "# randomly generation done by NumPy is seeded\n",
    "np.random.seed(0)"
   ]
  },
  {
   "cell_type": "markdown",
   "metadata": {
    "id": "mbWmLlCuESWW"
   },
   "source": [
    "## Generating Arrays\n",
    "\n",
    "A numpy array is a grid of values, typically all of the same type. Array values can be indexed by either a integer or tuple/list of nonnegative integers. The number of dimensions is usually referred to as the rank of the array; the shape of an array is a tuple of integers giving the size of the array along each dimension [1].\n",
    "\n",
    "Let's make this definition concrete by first creating a rank 1 array or an array with 1 dimension (1D)! Notice, we can make an array simply by passing a list as input!"
   ]
  },
  {
   "cell_type": "code",
   "execution_count": 84,
   "metadata": {
    "id": "k0sZQ2y3ESWX"
   },
   "outputs": [
    {
     "data": {
      "text/plain": [
       "array([1, 2, 3])"
      ]
     },
     "execution_count": 84,
     "metadata": {},
     "output_type": "execute_result"
    }
   ],
   "source": [
    "a = np.array([1, 2, 3])   # Create a rank 1 array\n",
    "a"
   ]
  },
  {
   "cell_type": "markdown",
   "metadata": {
    "id": "mTrPQ6xuESWX"
   },
   "source": [
    "We can check the type just like before."
   ]
  },
  {
   "cell_type": "code",
   "execution_count": 85,
   "metadata": {
    "id": "fC3Yh5adESWY"
   },
   "outputs": [
    {
     "data": {
      "text/plain": [
       "numpy.ndarray"
      ]
     },
     "execution_count": 85,
     "metadata": {},
     "output_type": "execute_result"
    }
   ],
   "source": [
    "type(a)"
   ]
  },
  {
   "cell_type": "markdown",
   "metadata": {
    "id": "8kwF321OESWY"
   },
   "source": [
    "Further, we can check the shape of the array which specifies the length of each dimensions. Since we have a 1D array we can only see one dimension!"
   ]
  },
  {
   "cell_type": "code",
   "execution_count": 86,
   "metadata": {
    "id": "i4bQa02-ESWZ"
   },
   "outputs": [
    {
     "data": {
      "text/plain": [
       "(3,)"
      ]
     },
     "execution_count": 86,
     "metadata": {},
     "output_type": "execute_result"
    }
   ],
   "source": [
    "a.shape"
   ]
  },
  {
   "cell_type": "markdown",
   "metadata": {
    "id": "mJIvjMdHESWZ"
   },
   "source": [
    "We can also use Python's `len` built-in function however it only checks the length of the first dimension! So, let's use `shape` for arrays."
   ]
  },
  {
   "cell_type": "code",
   "execution_count": 87,
   "metadata": {
    "id": "E03ujGNYESWa"
   },
   "outputs": [
    {
     "data": {
      "text/plain": [
       "3"
      ]
     },
     "execution_count": 87,
     "metadata": {},
     "output_type": "execute_result"
    }
   ],
   "source": [
    "len(a)"
   ]
  },
  {
   "cell_type": "markdown",
   "metadata": {
    "id": "Pu9jBkQiESWa"
   },
   "source": [
    "NumPy also let's generate arrays of different sizes that are automatically filled with values. For example, we can generate many different types of 2x2 arrays that are filled with different values automatically. Notice, we pass a tuple of `(2,2)` to define the shape we want.\n",
    "\n",
    "See the [Array Creation Routines docs](https://numpy.org/doc/stable/reference/routines.array-creation.html) to see all the different ways NumPy can generate different arrays."
   ]
  },
  {
   "cell_type": "markdown",
   "metadata": {
    "id": "kAgAtr6RESWa"
   },
   "source": [
    "`np.zeros` creates an array of zeros."
   ]
  },
  {
   "cell_type": "code",
   "execution_count": 88,
   "metadata": {
    "id": "mQHwtD8yESWb"
   },
   "outputs": [
    {
     "data": {
      "text/plain": [
       "array([[0., 0.],\n",
       "       [0., 0.]])"
      ]
     },
     "execution_count": 88,
     "metadata": {},
     "output_type": "execute_result"
    }
   ],
   "source": [
    "zeros_arr = np.zeros((2, 2))\n",
    "zeros_arr"
   ]
  },
  {
   "cell_type": "markdown",
   "metadata": {
    "id": "90AtjsEeESWb"
   },
   "source": [
    "If we check the shape we can see `zeros_arr` does indeed have 2 rows and 2 columns!"
   ]
  },
  {
   "cell_type": "code",
   "execution_count": 89,
   "metadata": {
    "id": "vzjQt7kHESWc"
   },
   "outputs": [
    {
     "data": {
      "text/plain": [
       "(2, 2)"
      ]
     },
     "execution_count": 89,
     "metadata": {},
     "output_type": "execute_result"
    }
   ],
   "source": [
    "zeros_arr.shape"
   ]
  },
  {
   "cell_type": "markdown",
   "metadata": {
    "id": "P03NED5oESWc"
   },
   "source": [
    "`np.ones` creates an array of ones."
   ]
  },
  {
   "cell_type": "code",
   "execution_count": 90,
   "metadata": {
    "id": "ySfg3PUhESWd"
   },
   "outputs": [
    {
     "data": {
      "text/plain": [
       "array([[1., 1.],\n",
       "       [1., 1.]])"
      ]
     },
     "execution_count": 90,
     "metadata": {},
     "output_type": "execute_result"
    }
   ],
   "source": [
    "ones_arr = np.ones((2, 2))\n",
    "ones_arr"
   ]
  },
  {
   "cell_type": "markdown",
   "metadata": {
    "id": "Oo1KJlbrESWd"
   },
   "source": [
    "`np.full` fills and array with any specified number."
   ]
  },
  {
   "cell_type": "code",
   "execution_count": 91,
   "metadata": {
    "id": "MIo90BywESWe"
   },
   "outputs": [
    {
     "data": {
      "text/plain": [
       "array([[10, 10],\n",
       "       [10, 10]])"
      ]
     },
     "execution_count": 91,
     "metadata": {},
     "output_type": "execute_result"
    }
   ],
   "source": [
    "tens_arr = np.full((2, 2), 10)\n",
    "tens_arr"
   ]
  },
  {
   "cell_type": "markdown",
   "metadata": {
    "id": "bPwjBLS8ESWe"
   },
   "source": [
    "`np.arange` makes an array of evenly spaced values within a given interval (much like Python's range function)."
   ]
  },
  {
   "cell_type": "code",
   "execution_count": 92,
   "metadata": {
    "id": "9y4cDyRNESWe"
   },
   "outputs": [
    {
     "data": {
      "text/plain": [
       "array([0, 1, 2, 3, 4, 5, 6, 7, 8, 9])"
      ]
     },
     "execution_count": 92,
     "metadata": {},
     "output_type": "execute_result"
    }
   ],
   "source": [
    "aranged_arr = np.arange(10)\n",
    "aranged_arr"
   ]
  },
  {
   "cell_type": "markdown",
   "metadata": {
    "id": "rvBY8puTESWe"
   },
   "source": [
    "`np.random.rand` creates an array with random values. Note that you can use `np.random.seed` to set a global seed such that the same random array will always be generated. You can also use `rng = np.random.RandomState` to set a local seed and then use `rng.rand` to use said local seed!"
   ]
  },
  {
   "cell_type": "code",
   "execution_count": 93,
   "metadata": {
    "id": "MFwOg1uWESWf"
   },
   "outputs": [
    {
     "data": {
      "text/plain": [
       "array([[0.5488135 , 0.71518937],\n",
       "       [0.60276338, 0.54488318],\n",
       "       [0.4236548 , 0.64589411]])"
      ]
     },
     "execution_count": 93,
     "metadata": {},
     "output_type": "execute_result"
    }
   ],
   "source": [
    "# Creates an array with random values using global seed\n",
    "random_arr = np.random.rand(3,2)\n",
    "random_arr"
   ]
  },
  {
   "cell_type": "code",
   "execution_count": 94,
   "metadata": {
    "id": "xVeW54_EESWf"
   },
   "outputs": [
    {
     "data": {
      "text/plain": [
       "array([[0.4359949 , 0.02592623],\n",
       "       [0.54966248, 0.43532239],\n",
       "       [0.4203678 , 0.33033482]])"
      ]
     },
     "execution_count": 94,
     "metadata": {},
     "output_type": "execute_result"
    }
   ],
   "source": [
    "# Creates an array with random values using local seed\n",
    "rng = np.random.RandomState(2) \n",
    "random_arr = rng.rand(3,2)\n",
    "random_arr"
   ]
  },
  {
   "cell_type": "markdown",
   "metadata": {
    "id": "-0tZdTWNESWf"
   },
   "source": [
    "### TODO 8\n",
    "1. Create an array of ones that has a size (10 , 1). Store the output into a variable called `bias_array`.\n",
    "2. Create an array from a the list `[100, 50, 32, 1000]`. Store the output into a variable called `array_from_list`."
   ]
  },
  {
   "cell_type": "code",
   "execution_count": 95,
   "metadata": {
    "id": "Wz30LXWhESWg"
   },
   "outputs": [
    {
     "name": "stdout",
     "output_type": "stream",
     "text": [
      "bias_array output: \n",
      "[[1.]\n",
      " [1.]\n",
      " [1.]\n",
      " [1.]\n",
      " [1.]\n",
      " [1.]\n",
      " [1.]\n",
      " [1.]\n",
      " [1.]\n",
      " [1.]]\n",
      "bias_array shape: (10, 1)\n",
      "Your code PASSED the code check!\n"
     ]
    }
   ],
   "source": [
    "# TODO 8.1\n",
    "bias_array = np.ones((10,1))\n",
    "\n",
    "print(f\"bias_array output: \\n{bias_array}\")\n",
    "print(f\"bias_array shape: {bias_array.shape}\")\n",
    "\n",
    "todo_check([\n",
    "    (bias_array.shape == (10, 1), 'bias_array does not have the shape (10, 1)'),\n",
    "    (np.all(bias_array == 1), 'all values in bias_array are not 1')\n",
    "])"
   ]
  },
  {
   "cell_type": "code",
   "execution_count": 96,
   "metadata": {
    "id": "uBt728VmESWg"
   },
   "outputs": [
    {
     "name": "stdout",
     "output_type": "stream",
     "text": [
      "array_from_list output: \n",
      "[ 100   50   32 1000]\n",
      "array_from_list shape: (4,)\n",
      "Your code PASSED the code check!\n"
     ]
    }
   ],
   "source": [
    "# TODO 8.2\n",
    "array_from_list = np.array([100,50,32,1000])\n",
    "\n",
    "print(f\"array_from_list output: \\n{array_from_list}\")\n",
    "print(f\"array_from_list shape: {array_from_list.shape}\")\n",
    "\n",
    "todo_check([\n",
    "    (array_from_list.shape == (4,), 'array_from_list did not have the shape (4,)'),\n",
    "    (list(array_from_list) == [100, 50, 32, 1000], 'array_from_list did not contain the values [100, 50, 32, 1000]')\n",
    "])"
   ]
  },
  {
   "cell_type": "markdown",
   "metadata": {
    "id": "uE34-1R6ESWg"
   },
   "source": [
    "## Indexing Arrays\n",
    "Indexing works just like with lists. Let's take a look at some examples."
   ]
  },
  {
   "cell_type": "markdown",
   "metadata": {
    "id": "d04KWqrpESWh"
   },
   "source": [
    "Indexing a rank 1 array or 1D array is very straight forward and most similar to indexing lists."
   ]
  },
  {
   "cell_type": "code",
   "execution_count": 97,
   "metadata": {
    "id": "V3tvDwhEESWh"
   },
   "outputs": [
    {
     "data": {
      "text/plain": [
       "array([1, 2, 3])"
      ]
     },
     "execution_count": 97,
     "metadata": {},
     "output_type": "execute_result"
    }
   ],
   "source": [
    "one_d = np.array([1, 2, 3])\n",
    "one_d"
   ]
  },
  {
   "cell_type": "code",
   "execution_count": 98,
   "metadata": {
    "id": "XpZQHGkoESWh"
   },
   "outputs": [
    {
     "name": "stdout",
     "output_type": "stream",
     "text": [
      "1 2 3\n"
     ]
    }
   ],
   "source": [
    "print(one_d[0], one_d[1], one_d[2])"
   ]
  },
  {
   "cell_type": "markdown",
   "metadata": {
    "id": "b7AplPqqESWi"
   },
   "source": [
    "Furthermore, we can index NumPy arrays with lists or tuples such that we index multiple elements at once! \n",
    "\n",
    "Notice, we have to add a comma after the tuple, otherwise NumPy attempts to check multiple dimensions which we don't have as we only have a rank 1 array!"
   ]
  },
  {
   "cell_type": "code",
   "execution_count": 99,
   "metadata": {
    "id": "8lEQlZV4ESWi"
   },
   "outputs": [
    {
     "name": "stdout",
     "output_type": "stream",
     "text": [
      "[1 2 3]\n",
      "[1 2 3]\n"
     ]
    }
   ],
   "source": [
    "print(one_d[(0,1,2),])\n",
    "print(one_d[[0,1,2]])"
   ]
  },
  {
   "cell_type": "markdown",
   "metadata": {
    "id": "YQgXsuoKESWj"
   },
   "source": [
    "We can change an element just like lists."
   ]
  },
  {
   "cell_type": "code",
   "execution_count": 100,
   "metadata": {
    "id": "_GO8Kr-_ESWk"
   },
   "outputs": [
    {
     "data": {
      "text/plain": [
       "array([5, 2, 3])"
      ]
     },
     "execution_count": 100,
     "metadata": {},
     "output_type": "execute_result"
    }
   ],
   "source": [
    "one_d[0] = 5 \n",
    "one_d"
   ]
  },
  {
   "cell_type": "markdown",
   "metadata": {
    "id": "zamF_b2eESWk"
   },
   "source": [
    "Now let's check indexing with a rank 2 array or a 2D array as follows."
   ]
  },
  {
   "cell_type": "code",
   "execution_count": 101,
   "metadata": {
    "id": "P3jg3AyBESWl"
   },
   "outputs": [
    {
     "data": {
      "text/plain": [
       "array([[1, 2, 3],\n",
       "       [4, 5, 6]])"
      ]
     },
     "execution_count": 101,
     "metadata": {},
     "output_type": "execute_result"
    }
   ],
   "source": [
    "two_d = np.array([[1,2,3],[4,5,6]]) \n",
    "two_d"
   ]
  },
  {
   "cell_type": "markdown",
   "metadata": {
    "id": "yMMQauxIESWl"
   },
   "source": [
    "Like before we can get the shape of the array. Notice, since we are a 2D array we now have two dimensions we can index!"
   ]
  },
  {
   "cell_type": "code",
   "execution_count": 102,
   "metadata": {
    "id": "gKo0UrPPESWm"
   },
   "outputs": [
    {
     "data": {
      "text/plain": [
       "(2, 3)"
      ]
     },
     "execution_count": 102,
     "metadata": {},
     "output_type": "execute_result"
    }
   ],
   "source": [
    "two_d.shape"
   ]
  },
  {
   "cell_type": "markdown",
   "metadata": {
    "id": "P85yu71zESWm"
   },
   "source": [
    "Also we can use `len` but notice only the length of the first dimension is returned!"
   ]
  },
  {
   "cell_type": "code",
   "execution_count": 103,
   "metadata": {
    "id": "VuXD_ymRESWm"
   },
   "outputs": [
    {
     "data": {
      "text/plain": [
       "2"
      ]
     },
     "execution_count": 103,
     "metadata": {},
     "output_type": "execute_result"
    }
   ],
   "source": [
    "len(two_d)"
   ]
  },
  {
   "cell_type": "markdown",
   "metadata": {
    "id": "MF314vYPESWn"
   },
   "source": [
    "Next, we can index each element by specifying two indices (one for the first dimension and one for the second)."
   ]
  },
  {
   "cell_type": "code",
   "execution_count": 104,
   "metadata": {
    "id": "82Qosc7dESWn"
   },
   "outputs": [
    {
     "name": "stdout",
     "output_type": "stream",
     "text": [
      "1 2 4\n"
     ]
    }
   ],
   "source": [
    "print(two_d[0, 0], two_d[0, 1], two_d[1, 0])"
   ]
  },
  {
   "cell_type": "markdown",
   "metadata": {
    "id": "CEZyl281ESWo"
   },
   "source": [
    "Likewise, we can slice arrays just like lists."
   ]
  },
  {
   "cell_type": "code",
   "execution_count": 105,
   "metadata": {
    "id": "9DSV2Ff1ESWo"
   },
   "outputs": [
    {
     "name": "stdout",
     "output_type": "stream",
     "text": [
      "Returns the first column for all rows: [1 4]\n",
      "Return all columns for the first row: [1 2 3]\n",
      "Returns the first two columns for all rows: \n",
      " [[1 2]\n",
      " [4 5]]\n"
     ]
    }
   ],
   "source": [
    "print(f\"Returns the first column for all rows: {two_d[:, 0]}\")\n",
    "print(f\"Return all columns for the first row: {two_d[0, :]}\")\n",
    "print(f\"Returns the first two columns for all rows: \\n {two_d[:, :2]}\")"
   ]
  },
  {
   "cell_type": "markdown",
   "metadata": {
    "id": "dGfnGw4LESWp"
   },
   "source": [
    "Finally, once again we can index using tuples or lists."
   ]
  },
  {
   "cell_type": "code",
   "execution_count": 106,
   "metadata": {
    "id": "weoS3L26ESWp"
   },
   "outputs": [
    {
     "name": "stdout",
     "output_type": "stream",
     "text": [
      "Tuple Indexing - Returns the first and last colums for all rows:\n",
      " [[1 3]\n",
      " [4 6]]\n",
      "List Indexing - Returns the first and last colums for all rows:\n",
      " [[1 3]\n",
      " [4 6]]\n"
     ]
    }
   ],
   "source": [
    "print(f\"Tuple Indexing - Returns the first and last colums for all rows:\\n {two_d[:, (0, -1)]}\")\n",
    "print(f\"List Indexing - Returns the first and last colums for all rows:\\n {two_d[:, [0, -1]]}\")"
   ]
  },
  {
   "cell_type": "markdown",
   "metadata": {
    "id": "KEnV5aOOESWp"
   },
   "source": [
    "### TODO 9\n",
    "Using the `dummy_array` given below, complete the following indexing/slicing TODOs.\n",
    "\n",
    "1. Index/slice the first (index 0), third (index 2), and last (index 4 or -1) columns of the array `dummy_array`. Store the output into the variable `column_slice`.\n",
    "    1. Hint: The output shape should be a (2, 3)!\n",
    "2. Index ONLY the first row (think about the corresponding index value) of `dummy_array`. Store the output into the variable `row_slice`.\n",
    "3. Index ONLY the second row and first two columns of `dummy_array`. Store the output into the variable `slice_array`."
   ]
  },
  {
   "cell_type": "code",
   "execution_count": 107,
   "metadata": {
    "id": "_JeRVeoiESWv"
   },
   "outputs": [
    {
     "name": "stdout",
     "output_type": "stream",
     "text": [
      "dummy_array output: \n",
      " [[0 1 2 3 4]\n",
      " [5 6 7 8 9]]\n",
      "dummy_array shape: (2, 5)\n"
     ]
    }
   ],
   "source": [
    "dummy_array = np.arange(10).reshape(2, -1)\n",
    "print(f\"dummy_array output: \\n {dummy_array}\")\n",
    "print(f\"dummy_array shape: {dummy_array.shape}\")"
   ]
  },
  {
   "cell_type": "code",
   "execution_count": 108,
   "metadata": {
    "id": "X6jQLsbsESWw"
   },
   "outputs": [
    {
     "name": "stdout",
     "output_type": "stream",
     "text": [
      "column_slice output: \n",
      " [[0 2 4]\n",
      " [5 7 9]]\n",
      "column_slice shape: (2, 3)\n",
      "Your code PASSED the code check!\n"
     ]
    }
   ],
   "source": [
    "# TODO 9.1\n",
    "column_slice = dummy_array[:, [0,2,4]]\n",
    "\n",
    "print(f\"column_slice output: \\n {column_slice}\")\n",
    "print(f\"column_slice shape: {column_slice.shape}\")\n",
    "\n",
    "todo_check([\n",
    "    (column_slice.shape == (2, 3), 'column_slice did not return the correct shape of (2, 3)'),\n",
    "    (np.all(column_slice == np.array([[0, 2, 4], [5, 7, 9]])), 'column_slice did not return the correct values!')\n",
    "])"
   ]
  },
  {
   "cell_type": "code",
   "execution_count": 109,
   "metadata": {
    "id": "9ALCyXiEESWw"
   },
   "outputs": [
    {
     "name": "stdout",
     "output_type": "stream",
     "text": [
      "row_slice output: \n",
      " [[0 1 2 3 4]]\n",
      "row_slice shape: (1, 5)\n",
      "Your code PASSED the code check!\n"
     ]
    }
   ],
   "source": [
    "# TODO 9.2\n",
    "row_slice = dummy_array[[0],:]\n",
    "\n",
    "print(f\"row_slice output: \\n {row_slice}\")\n",
    "print(f\"row_slice shape: {row_slice.shape}\")\n",
    "\n",
    "todo_check([\n",
    "    (row_slice.shape == (5,) or row_slice.shape == (1,5), 'row_slice does not have the correct shape of (5,) or (1, 5)' ),\n",
    "    (np.all(row_slice == np.array([0, 1, 2, 3, 4])), 'row_slice does not contain the correct values')\n",
    "])"
   ]
  },
  {
   "cell_type": "code",
   "execution_count": 110,
   "metadata": {
    "id": "8LVPEjtsESWx"
   },
   "outputs": [
    {
     "name": "stdout",
     "output_type": "stream",
     "text": [
      "slice_array output: \n",
      " [[5 6]]\n",
      "slice_array shape: (1, 2)\n",
      "Your code PASSED the code check!\n"
     ]
    }
   ],
   "source": [
    "# TODO 9.3\n",
    "slice_array = dummy_array[1:, [0,1]]\n",
    "\n",
    "print(f\"slice_array output: \\n {slice_array}\")\n",
    "print(f\"slice_array shape: {slice_array.shape}\")\n",
    "\n",
    "todo_check([\n",
    "    (slice_array.shape == (2,) or slice_array.shape == (1, 2), 'slice_array does not have the correct shape of (2,) or (1, 2)'),\n",
    "    (np.all(slice_array == np.array([5, 6])), 'slice_array does not contain the correct values')\n",
    "])"
   ]
  },
  {
   "cell_type": "markdown",
   "metadata": {
    "id": "ezDRq3-xESWx"
   },
   "source": [
    "## Copying and Slices\n",
    "\n",
    "An important and sometimes confusing concept regarding NumPy arrays is copying. There are typically two methods for copying arrays (and copying in general): shallow copying and deep copying.\n",
    "\n",
    "*Shallow copying* either copies the object or elements memory addresses such that if a copied element is changed then the change is reflected in the original and vice-versa. Further, NumPy allows for what they call *views* or *slices*. Views or slices can be naively thought of as shallow copies of an entire or only part of an array.\n",
    "\n",
    "> View/Slice: An array that does not own its data, but refers to another array’s data instead. For example, we may create a view that only shows every second element of another array:\n",
    "\n",
    "*Deep copying* make stores data in a new memory address such that if we make changes to a copied object or element the changes are **not** reflected in the original and vica-versa.\n",
    "\n",
    "- Additional Sources\n",
    "    - [Offical NumPy slicing docs](https://numpy.org/doc/stable/reference/arrays.indexing.html)\n",
    "    - [Views versus copies in NumPy](https://scipy-cookbook.readthedocs.io/items/ViewsVsCopies.html)\n",
    "    - [Copy and View in NumPy Array](https://www.geeksforgeeks.org/copy-and-view-in-numpy-array/)\n",
    "    - [What's the difference between a view and a shallow copy of a numpy array?](https://stackoverflow.com/questions/50593483/whats-the-difference-between-a-view-and-a-shallow-copy-of-a-numpy-array)"
   ]
  },
  {
   "cell_type": "markdown",
   "metadata": {
    "id": "UrK2wbv7ESWx"
   },
   "source": [
    "Below is an example of which operations will result in a shallow copy and which operations will result in a deep copy. We can check whether a certain operation acted as a shallow or deep copy by looking at the memory address and by physically changing an element of the original array and seeing if the change is reflected in the copied array.\n",
    "\n",
    "Notice that all the copied arrays that mention deep copy have a different memory ID from `a`, the original array. Also notice that the deep copy arrays second index remains unchanged by the change to the original arrays."
   ]
  },
  {
   "cell_type": "markdown",
   "metadata": {
    "id": "9sreuR6lESWy"
   },
   "source": [
    "**In short: if you want to modify the copied arrary while not affact the original array, use .copy() to get the copied array.**"
   ]
  },
  {
   "cell_type": "code",
   "execution_count": 111,
   "metadata": {
    "id": "VcEusuOSESWy",
    "scrolled": true
   },
   "outputs": [
    {
     "name": "stdout",
     "output_type": "stream",
     "text": [
      "Original before change: [0 1 2 3 4 5 6 7 8 9] Memory address: 1891824635792\n",
      "------------------------------------------------------------------------------------------\n",
      "Original after change \n",
      " Array: [  0 999   2   3   4   5   6   7   8   9] Memory address: 1891824635792\n",
      "Simple shallow copy of entire array \n",
      " Array: [  0 999   2   3   4   5   6   7   8   9] Memory address: 1891824635792\n",
      "Slice shallow copy \n",
      " Array: [999   2   3   4] Memory address: 1891845602256\n",
      "Slice enitre array and shallow copy \n",
      " Array: [  0 999   2   3   4   5   6   7   8   9] Memory address: 1891845602160\n",
      "Slice array and deep copy \n",
      " Array: [1 2 3 4] Memory address: 1891845602544\n",
      "Entire array and deep copy with NumPy \n",
      " Array: [0 1 2 3 4 5 6 7 8 9] Memory address: 1891845602448\n",
      "Enitre array and deep copy with Python \n",
      " Array: [0 1 2 3 4 5 6 7 8 9] Memory address: 1891845602640\n",
      "Deep copy elements of `a` into new array `c` \n",
      " Array: [0. 1. 2. 3. 4. 5. 6. 7. 8. 9.] Memory address: 1891845602832\n"
     ]
    }
   ],
   "source": [
    "import copy\n",
    "\n",
    "# Original array\n",
    "a = np.arange(10)\n",
    "\n",
    "object_copy = a # Copy object \n",
    "slice_shallow1 = a[1:5] # Copy select elements\n",
    "slice_shallow2 = a[:] # Copy all elements\n",
    "slice_deep1 = a[1:5].copy() # deep copy select elements\n",
    "deep1 = a.copy() # deep copy all elemenets using NumPy\n",
    "deep2 = copy.deepcopy(a) # deep copy all elements using Python\n",
    "\n",
    "c = np.zeros(a.shape)\n",
    "c[:] = a[:] # deep copy elements of a into a new array\n",
    "\n",
    "print(f\"Original before change: {a} Memory address: {id(a)}\")\n",
    "\n",
    "# Update index 1\n",
    "a[1] = 999\n",
    "\n",
    "# Debug information\n",
    "print('-'*90)\n",
    "print(f\"Original after change \\n Array: {a} Memory address: {id(a)}\")\n",
    "print(f\"Simple shallow copy of entire array \\n Array: {object_copy} Memory address: {id(object_copy)}\")\n",
    "print(f\"Slice shallow copy \\n Array: {slice_shallow1} Memory address: {id(slice_shallow1)}\")\n",
    "print(f\"Slice enitre array and shallow copy \\n Array: {slice_shallow2} Memory address: {id(slice_shallow2)}\")\n",
    "print(f'Slice array and deep copy \\n Array: {slice_deep1} Memory address: {id(slice_deep1)}')\n",
    "print(f'Entire array and deep copy with NumPy \\n Array: {deep1} Memory address: {id(deep1)}')\n",
    "print(f'Enitre array and deep copy with Python \\n Array: {deep2} Memory address: {id(deep2)}')\n",
    "print(f'Deep copy elements of `a` into new array `c` \\n Array: {c} Memory address: {id(c)}')"
   ]
  },
  {
   "cell_type": "markdown",
   "metadata": {
    "id": "FuN5EhGHESWy"
   },
   "source": [
    "## Reshaping and Adding New Dimensions\n",
    "\n",
    "Reshaping allows you to change the shapes of an array without changing data of array. Reshaping is a frequently used functions for making sure array mathematical operations such as the dot product work as intended and errors don't arise (we will see these specific errors shortly)."
   ]
  },
  {
   "cell_type": "code",
   "execution_count": 112,
   "metadata": {
    "id": "VIsHaW-nESWy"
   },
   "outputs": [
    {
     "data": {
      "text/plain": [
       "array([1, 2, 3, 4, 5, 6])"
      ]
     },
     "execution_count": 112,
     "metadata": {},
     "output_type": "execute_result"
    }
   ],
   "source": [
    "reshaping_array = np.arange(1, 7)\n",
    "reshaping_array"
   ]
  },
  {
   "cell_type": "markdown",
   "metadata": {
    "id": "o_qHOQmnESWz"
   },
   "source": [
    "If we wanted to change our rank 1 array into a rank 2 array we could then simply do a reshape as follows."
   ]
  },
  {
   "cell_type": "code",
   "execution_count": 113,
   "metadata": {
    "id": "zDuKe4RtESWz"
   },
   "outputs": [
    {
     "data": {
      "text/plain": [
       "array([[1, 2, 3],\n",
       "       [4, 5, 6]])"
      ]
     },
     "execution_count": 113,
     "metadata": {},
     "output_type": "execute_result"
    }
   ],
   "source": [
    "reshaping_array.reshape(2, 3)"
   ]
  },
  {
   "cell_type": "markdown",
   "metadata": {
    "id": "0JsLx5cOESW0"
   },
   "source": [
    "Notice $2*3 = 6$ where 6 is the total number of elements. This means if we tried to reshape to a  (2,4) we would get an error as follows."
   ]
  },
  {
   "cell_type": "markdown",
   "metadata": {
    "id": "N7kn2FXLESW0"
   },
   "source": [
    "In reshaping, Numpy will fill all the elments into the new shape **row by row**。"
   ]
  },
  {
   "cell_type": "code",
   "execution_count": 114,
   "metadata": {
    "id": "T4Uvsnk6ESW0",
    "scrolled": true
   },
   "outputs": [
    {
     "name": "stderr",
     "output_type": "stream",
     "text": [
      "Traceback (most recent call last):\n",
      "  File \"C:\\Users\\himat\\AppData\\Local\\Temp\\ipykernel_3548\\830660679.py\", line 2, in <module>\n",
      "    reshaping_array.reshape(2, 4)\n",
      "ValueError: cannot reshape array of size 6 into shape (2,4)\n"
     ]
    }
   ],
   "source": [
    "try:\n",
    "    reshaping_array.reshape(2, 4)\n",
    "except ValueError as e:\n",
    "    traceback.print_exc()"
   ]
  },
  {
   "cell_type": "markdown",
   "metadata": {
    "id": "Ek-Fy8CaESW0"
   },
   "source": [
    "Further, note we can use `-1` in a dimensions. This allows NumPy to automatically determine what the dimension size should be based on the other dimensions!\n",
    "\n",
    "Below is an example of automatically determining the size of the column dimension."
   ]
  },
  {
   "cell_type": "code",
   "execution_count": 115,
   "metadata": {
    "id": "esOYLDtoESW1"
   },
   "outputs": [
    {
     "name": "stdout",
     "output_type": "stream",
     "text": [
      "[[1 2 3]\n",
      " [4 5 6]]\n",
      "(2, 3)\n"
     ]
    }
   ],
   "source": [
    "print(reshaping_array.reshape(2, -1))\n",
    "print(reshaping_array.reshape(2, -1).shape)"
   ]
  },
  {
   "cell_type": "raw",
   "metadata": {
    "id": "d_AnQkW3ESW1"
   },
   "source": [
    "Below is an example of automatically determining the size of the row dimension."
   ]
  },
  {
   "cell_type": "code",
   "execution_count": 116,
   "metadata": {
    "id": "AkiC2BgDESW1"
   },
   "outputs": [
    {
     "name": "stdout",
     "output_type": "stream",
     "text": [
      "[[1 2 3]\n",
      " [4 5 6]]\n",
      "(2, 3)\n"
     ]
    }
   ],
   "source": [
    "print(reshaping_array.reshape(-1, 3))\n",
    "print(reshaping_array.reshape(-1, 3).shape)"
   ]
  },
  {
   "cell_type": "markdown",
   "metadata": {
    "id": "wovalSIvESW2"
   },
   "source": [
    "Lastly, we can also add new dimensions when using reshape by adding a 1."
   ]
  },
  {
   "cell_type": "code",
   "execution_count": 117,
   "metadata": {
    "id": "DyGX3fj1ESW2"
   },
   "outputs": [
    {
     "data": {
      "text/plain": [
       "(2, 3, 1)"
      ]
     },
     "execution_count": 117,
     "metadata": {},
     "output_type": "execute_result"
    }
   ],
   "source": [
    "reshaping_array.reshape(-1 ,3 ,1).shape"
   ]
  },
  {
   "cell_type": "markdown",
   "metadata": {
    "id": "WSFJ09DwESW2"
   },
   "source": [
    "Alternatively, we can do the following as well to add a new dimensions."
   ]
  },
  {
   "cell_type": "code",
   "execution_count": 118,
   "metadata": {
    "id": "sr42MRT8ESW2"
   },
   "outputs": [
    {
     "name": "stdout",
     "output_type": "stream",
     "text": [
      "reshaping_array original shape: (6,)\n"
     ]
    },
    {
     "data": {
      "text/plain": [
       "(6, 1, 1)"
      ]
     },
     "execution_count": 118,
     "metadata": {},
     "output_type": "execute_result"
    }
   ],
   "source": [
    "print(f\"reshaping_array original shape: {reshaping_array.shape}\")\n",
    "reshaping_array[:, None, None].shape"
   ]
  },
  {
   "cell_type": "markdown",
   "metadata": {
    "id": "CLH43i2sESW2"
   },
   "source": [
    "### TODO 10\n",
    "\n",
    "Use `twod_array` defined below to complete the following TODOs\n",
    "\n",
    "1. Reshape `twod_array` to have the shape (10, 1). Store the output into the variable `reshaped_array`. If you want, try using `-1` instead of hard coding 10! \n",
    "2. Add a third dimension to the `twod_array` such that the shape is (5, 2, 1). Store the output into the variable `three_d_array`"
   ]
  },
  {
   "cell_type": "code",
   "execution_count": 119,
   "metadata": {
    "id": "Rhr-eG9hESW3"
   },
   "outputs": [
    {
     "name": "stdout",
     "output_type": "stream",
     "text": [
      "twod_array output: \n",
      " [[0. 1.]\n",
      " [0. 1.]\n",
      " [0. 1.]\n",
      " [0. 1.]\n",
      " [0. 1.]]\n",
      "twod_array shape: (5, 2)\n"
     ]
    }
   ],
   "source": [
    "twod_array = np.hstack([np.zeros((5, 1)), np.ones((5, 1))])\n",
    "\n",
    "print(f\"twod_array output: \\n {twod_array}\")\n",
    "print(f\"twod_array shape: {twod_array.shape}\")"
   ]
  },
  {
   "cell_type": "code",
   "execution_count": 120,
   "metadata": {
    "id": "RYAdjCL2ESW3"
   },
   "outputs": [
    {
     "name": "stdout",
     "output_type": "stream",
     "text": [
      "reshaped_array output: \n",
      " [[0.]\n",
      " [1.]\n",
      " [0.]\n",
      " [1.]\n",
      " [0.]\n",
      " [1.]\n",
      " [0.]\n",
      " [1.]\n",
      " [0.]\n",
      " [1.]]\n",
      "reshaped_array shape: (10, 1)\n",
      "Your code PASSED the code check!\n"
     ]
    }
   ],
   "source": [
    "# TODO 10.1\n",
    "reshaped_array = twod_array.reshape(-1,1)\n",
    "\n",
    "print(f\"reshaped_array output: \\n {reshaped_array}\")\n",
    "print(f\"reshaped_array shape: {reshaped_array.shape}\")\n",
    "\n",
    "todo_check([\n",
    "    (reshaped_array.shape == (10,1), 'reshaped_array does not have the correct shape of (10 ,1)')\n",
    "])"
   ]
  },
  {
   "cell_type": "code",
   "execution_count": 121,
   "metadata": {
    "id": "ZLoy0IScESW4"
   },
   "outputs": [
    {
     "name": "stdout",
     "output_type": "stream",
     "text": [
      "three_d_array output: \n",
      " [[[0.]\n",
      "  [1.]]\n",
      "\n",
      " [[0.]\n",
      "  [1.]]\n",
      "\n",
      " [[0.]\n",
      "  [1.]]\n",
      "\n",
      " [[0.]\n",
      "  [1.]]\n",
      "\n",
      " [[0.]\n",
      "  [1.]]]\n",
      "three_d_array shape: (5, 2, 1)\n",
      "Your code PASSED the code check!\n"
     ]
    }
   ],
   "source": [
    "# TODO 10.2\n",
    "three_d_array = twod_array.reshape(5,2,1)\n",
    "\n",
    "print(f\"three_d_array output: \\n {three_d_array}\")\n",
    "print(f\"three_d_array shape: {three_d_array.shape}\")\n",
    "\n",
    "todo_check([\n",
    "    (three_d_array.shape == (5, 2, 1), 'three_d_array does not have the correct shape of (5, 2, 1)')\n",
    "])"
   ]
  },
  {
   "cell_type": "markdown",
   "metadata": {
    "id": "x8xIZIegESW4"
   },
   "source": [
    "## What is an Axis?\n",
    "Axis is a very common parameter found in many NumPy functions that determines which dimension the function will be applied across. In other words, the axis parameter essentially refers to which axis gets collapsed! Below we cover the simple rank 2 array or a 2D array. This idea of axes is correlated with dimensions so if we have a N-dimensional array we can apply a function across any of the possible dimensions.\n",
    "\n",
    "This idea can be really tricky for beginners so don't worry if it doesn't make complete sense at first. Please seek help or check the additional resources below if you are left really confused.\n",
    "\n",
    "```\n",
    "axis=None: Apply function or operation across the entire array-wise.\n",
    "\n",
    "axis=0: Apply operation column-wise, function or operation is applied across all rows for each column \n",
    "(i.e., 1 output for each column).\n",
    "\n",
    "axis=1: Apply operation row-wise, function or operation is applied across all columns for each row \n",
    "(i.e., 1 output for each row).\n",
    "```\n",
    "\n",
    "![](https://vrzkj25a871bpq7t1ugcgmn9-wpengine.netdna-ssl.com/wp-content/uploads/2018/11/numpy-arrays-have-axes.png)\n",
    "\n",
    "- Additional Sources\n",
    "    - [How to Set Axis for Rows and Columns in NumPy](https://machinelearningmastery.com/numpy-axis-for-rows-and-columns/)\n",
    "    - [NumPy Axes explained](https://www.sharpsightlabs.com/blog/numpy-axes-explained/)"
   ]
  },
  {
   "cell_type": "markdown",
   "metadata": {
    "id": "b7w08_YjESW5"
   },
   "source": [
    "Let's create a simply array with a shape of (3, 4). Notice, we use NumPy's `arange` function ([docs](https://numpy.org/doc/stable/reference/generated/numpy.arange.html)) to quickly generate 3 1D arrays and `vstack` ([docs](https://numpy.org/doc/stable/reference/generated/numpy.vstack.html)) function to stack said arrays into a (3, 4) array."
   ]
  },
  {
   "cell_type": "code",
   "execution_count": 122,
   "metadata": {
    "id": "uebbeIpSESW5"
   },
   "outputs": [
    {
     "name": "stdout",
     "output_type": "stream",
     "text": [
      "axis_array output: \n",
      " [[1 2 3 4]\n",
      " [1 2 3 4]\n",
      " [1 2 3 4]]\n",
      "axis_array shap|e: (3, 4)\n"
     ]
    }
   ],
   "source": [
    "axis_array = np.vstack([np.arange(1,5), np.arange(1,5), np.arange(1,5)])\n",
    "\n",
    "print(f\"axis_array output: \\n {axis_array}\")\n",
    "print(f\"axis_array shap|e: {axis_array.shape}\")"
   ]
  },
  {
   "cell_type": "markdown",
   "metadata": {
    "id": "wNqLM4ZWESW5"
   },
   "source": [
    "Alternatively, we could have used NumPy's `stack` function ([docs](https://numpy.org/doc/stable/reference/generated/numpy.stack.html)) and specified `axis=0` to indicate we have to vertically stack each array on top of one another."
   ]
  },
  {
   "cell_type": "code",
   "execution_count": 123,
   "metadata": {
    "id": "-mqZK3kZESW5"
   },
   "outputs": [
    {
     "name": "stdout",
     "output_type": "stream",
     "text": [
      "axis_array output: \n",
      " [[1 2 3 4]\n",
      " [1 2 3 4]\n",
      " [1 2 3 4]]\n",
      "axis_array shape: (3, 4)\n"
     ]
    }
   ],
   "source": [
    "axis_array = np.stack([np.arange(1,5), np.arange(1,5), np.arange(1,5)], axis=0)\n",
    "\n",
    "print(f\"axis_array output: \\n {axis_array}\")\n",
    "print(f\"axis_array shape: {axis_array.shape}\")"
   ]
  },
  {
   "cell_type": "markdown",
   "metadata": {
    "id": "zEWrOCjAESW6"
   },
   "source": [
    "Here we take the sum with no axis parameter given (in other words, `axis=None` by default). Thus, the sum of the entire array is computed."
   ]
  },
  {
   "cell_type": "code",
   "execution_count": 124,
   "metadata": {
    "id": "jCJXSXCSESW6"
   },
   "outputs": [
    {
     "data": {
      "text/plain": [
       "30"
      ]
     },
     "execution_count": 124,
     "metadata": {},
     "output_type": "execute_result"
    }
   ],
   "source": [
    "np.sum(axis_array)"
   ]
  },
  {
   "cell_type": "markdown",
   "metadata": {
    "id": "1W9bhoGLESW6"
   },
   "source": [
    "Likewise, we can apply the same idea to the `max` function where the max of the entire array is taken."
   ]
  },
  {
   "cell_type": "code",
   "execution_count": 125,
   "metadata": {
    "id": "1rAcLYAaESW6"
   },
   "outputs": [
    {
     "data": {
      "text/plain": [
       "4"
      ]
     },
     "execution_count": 125,
     "metadata": {},
     "output_type": "execute_result"
    }
   ],
   "source": [
    "np.max(axis_array)"
   ]
  },
  {
   "cell_type": "markdown",
   "metadata": {
    "id": "CfehB5wRESW7"
   },
   "source": [
    "Here we take the sum and max for each column by passing `axis=0` which means the 1st dimension (the row dimension) is collapsed. Meaning, we now want to take the sum/max across columns! \n",
    "\n",
    "Alternatively, think about the axis visually. Recall, `axis=0` points down vertically (see above picture). This means the operation is applied for each column."
   ]
  },
  {
   "cell_type": "code",
   "execution_count": 126,
   "metadata": {
    "id": "B970gbfQESW7"
   },
   "outputs": [
    {
     "data": {
      "text/plain": [
       "array([ 3,  6,  9, 12])"
      ]
     },
     "execution_count": 126,
     "metadata": {},
     "output_type": "execute_result"
    }
   ],
   "source": [
    "# Column-wise: 1 number for each column\n",
    "np.sum(axis_array,  axis=0)"
   ]
  },
  {
   "cell_type": "code",
   "execution_count": 127,
   "metadata": {
    "id": "1-tmRKV4ESW7"
   },
   "outputs": [
    {
     "data": {
      "text/plain": [
       "array([1, 2, 3, 4])"
      ]
     },
     "execution_count": 127,
     "metadata": {},
     "output_type": "execute_result"
    }
   ],
   "source": [
    "# Another example but now using max\n",
    "np.max(axis_array, axis=0)"
   ]
  },
  {
   "cell_type": "markdown",
   "metadata": {
    "id": "xfFlaHqgESW7"
   },
   "source": [
    "Here we take the sum and max row-wise (for each row) by passing `axis=1` which means the 2nd dimension (the column dimension) is collapsed. Meaning, we now want to take the sum/max across rows!\n",
    "\n",
    "Alternatively, think about the axis visually. Recall, `axis=1` points across the array horizontally (see above picture). This means the operation is applied for each row."
   ]
  },
  {
   "cell_type": "code",
   "execution_count": 128,
   "metadata": {
    "id": "mzrJ-kAcESW8"
   },
   "outputs": [
    {
     "data": {
      "text/plain": [
       "array([10, 10, 10])"
      ]
     },
     "execution_count": 128,
     "metadata": {},
     "output_type": "execute_result"
    }
   ],
   "source": [
    "# Row-wise: 1 number for each row\n",
    "np.sum(axis_array,  axis=1)"
   ]
  },
  {
   "cell_type": "code",
   "execution_count": 129,
   "metadata": {
    "id": "yL_YwnGOESW8"
   },
   "outputs": [
    {
     "data": {
      "text/plain": [
       "array([4, 4, 4])"
      ]
     },
     "execution_count": 129,
     "metadata": {},
     "output_type": "execute_result"
    }
   ],
   "source": [
    "# Another example but now using max\n",
    "np.max(axis_array, axis=1)"
   ]
  },
  {
   "cell_type": "markdown",
   "metadata": {
    "id": "6XkKcUkaESW8"
   },
   "source": [
    "### TODO 11\n",
    "\n",
    "Using the `axis_array` defined below complete the following TODOs.\n",
    "\n",
    "**Hint: Think about which axis is being collapsed or the direction of the arrow for each axis in the above picture.**\n",
    "\n",
    "1. Compute the average using `np.average` **for each row**. Store the output into the variable `row_avg`. \n",
    "2. Find the minimum value using `np.min` **for each column**. Store the output into the variable `col_min`."
   ]
  },
  {
   "cell_type": "code",
   "execution_count": 130,
   "metadata": {
    "id": "Qza-5Xj8ESW9"
   },
   "outputs": [
    {
     "name": "stdout",
     "output_type": "stream",
     "text": [
      "axis_array output: \n",
      " [[2 2 2 2 2]\n",
      " [5 5 5 5 5]]\n",
      "axis_array shape: (2, 5)\n"
     ]
    }
   ],
   "source": [
    "axis_array = np.vstack([np.full((1, 5), 2), np.full((1, 5), 5)])\n",
    "print(f\"axis_array output: \\n {axis_array}\")\n",
    "print(f\"axis_array shape: {axis_array.shape}\")"
   ]
  },
  {
   "cell_type": "code",
   "execution_count": 131,
   "metadata": {
    "id": "cpyICImUESW9"
   },
   "outputs": [
    {
     "name": "stdout",
     "output_type": "stream",
     "text": [
      "row_avg output: \n",
      " [2. 5.]\n",
      "row_avg shape: (2,)\n",
      "Your code PASSED the code check!\n"
     ]
    }
   ],
   "source": [
    "# TODO 11.1\n",
    "row_avg = np.average(axis_array, axis=1)\n",
    "\n",
    "print(f\"row_avg output: \\n {row_avg}\")\n",
    "print(f\"row_avg shape: {row_avg.shape}\")\n",
    "\n",
    "todo_check([\n",
    "    (row_avg.shape == (2,), 'row_avg does not have the correct shape of (2,)'),\n",
    "    (np.all(row_avg == np.array([2, 5])), 'row_avg does not have the correct values')\n",
    "])"
   ]
  },
  {
   "cell_type": "code",
   "execution_count": 132,
   "metadata": {
    "id": "aK-RkjHmESW-"
   },
   "outputs": [
    {
     "name": "stdout",
     "output_type": "stream",
     "text": [
      "col_min output: \n",
      " [2 2 2 2 2]\n",
      "col_min shape: (5,)\n",
      "Your code PASSED the code check!\n"
     ]
    }
   ],
   "source": [
    "# TODO 11.2\n",
    "col_min = np.min(axis_array, axis=0)\n",
    "\n",
    "print(f\"col_min output: \\n {col_min}\")\n",
    "print(f\"col_min shape: {col_min.shape}\")\n",
    "\n",
    "todo_check([\n",
    "    (col_min.shape == (5,), \"col_min does not have the correct shape of (5,)\"),\n",
    "    (np.all(col_min == np.array([2, 2, 2, 2, 2])), 'col_min does not have the correct values')\n",
    "])"
   ]
  },
  {
   "cell_type": "markdown",
   "metadata": {
    "id": "TYaB7t6XESW-"
   },
   "source": [
    "## Datatypes\n",
    "\n",
    "Every NumPy array is a grid of elements of the same type. NumPy provides a large set of numeric datatypes that you can use to construct arrays. NumPy tries to guess a datatype when you create an array, but functions that construct arrays usually also includes an optional argument to explicitly specify the datatype [1]. "
   ]
  },
  {
   "cell_type": "markdown",
   "metadata": {
    "id": "sUkQHHROESW-"
   },
   "source": [
    "As we can see below, NumPy automatically detects our list being converted into an array is integers. We use the `dtype` method to check the type of the elements."
   ]
  },
  {
   "cell_type": "code",
   "execution_count": 133,
   "metadata": {
    "id": "ll73UdEgESW_"
   },
   "outputs": [
    {
     "data": {
      "text/plain": [
       "dtype('int32')"
      ]
     },
     "execution_count": 133,
     "metadata": {},
     "output_type": "execute_result"
    }
   ],
   "source": [
    "x = np.array([1, 2])  \n",
    "x.dtype"
   ]
  },
  {
   "cell_type": "markdown",
   "metadata": {
    "id": "lsbZOdR5ESW_"
   },
   "source": [
    "Likewise the same applies to floats."
   ]
  },
  {
   "cell_type": "code",
   "execution_count": 134,
   "metadata": {
    "id": "zDvZoo3xESW_"
   },
   "outputs": [
    {
     "data": {
      "text/plain": [
       "dtype('float64')"
      ]
     },
     "execution_count": 134,
     "metadata": {},
     "output_type": "execute_result"
    }
   ],
   "source": [
    "x = np.array([1.0, 2.0])\n",
    "x.dtype        "
   ]
  },
  {
   "cell_type": "markdown",
   "metadata": {
    "id": "gKlSM785ESXA"
   },
   "source": [
    "Lastly, we can specify the type either when initializing the array or after the array has been initialized."
   ]
  },
  {
   "cell_type": "code",
   "execution_count": 135,
   "metadata": {
    "id": "yMw6VYs-ESXA"
   },
   "outputs": [
    {
     "data": {
      "text/plain": [
       "dtype('float64')"
      ]
     },
     "execution_count": 135,
     "metadata": {},
     "output_type": "execute_result"
    }
   ],
   "source": [
    "x = np.array([1, 2], dtype=np.float64)\n",
    "x.dtype"
   ]
  },
  {
   "cell_type": "code",
   "execution_count": 136,
   "metadata": {
    "id": "va4uI3YmESXA"
   },
   "outputs": [
    {
     "data": {
      "text/plain": [
       "dtype('int64')"
      ]
     },
     "execution_count": 136,
     "metadata": {},
     "output_type": "execute_result"
    }
   ],
   "source": [
    "x = x.astype(np.int64)\n",
    "x.dtype"
   ]
  },
  {
   "cell_type": "markdown",
   "metadata": {
    "id": "f2W80N_2ESXB"
   },
   "source": [
    "## List Comprehension with Arrays"
   ]
  },
  {
   "cell_type": "markdown",
   "metadata": {
    "id": "e5pEbhhXESXB"
   },
   "source": [
    "The same idea of list comprehension applies to NumPy arrays. However, now when we a 2D array you we need nested loops!"
   ]
  },
  {
   "cell_type": "code",
   "execution_count": 137,
   "metadata": {
    "id": "9Tw-g9heESXB"
   },
   "outputs": [
    {
     "data": {
      "text/plain": [
       "array([[ 1,  2,  3,  4,  5],\n",
       "       [ 6,  7,  8,  9, 10]])"
      ]
     },
     "execution_count": 137,
     "metadata": {},
     "output_type": "execute_result"
    }
   ],
   "source": [
    "x_list = np.arange(1, 11).reshape(2,5)\n",
    "x_list"
   ]
  },
  {
   "cell_type": "markdown",
   "metadata": {
    "id": "NDceNBgvESXC"
   },
   "source": [
    "Normally, If we wanted to loop through this array to find all the even numbers we would need a nested for loop."
   ]
  },
  {
   "cell_type": "code",
   "execution_count": 138,
   "metadata": {
    "id": "Jt1QY-EnESXC",
    "tags": []
   },
   "outputs": [
    {
     "data": {
      "text/plain": [
       "array([ 2,  4,  6,  8, 10])"
      ]
     },
     "execution_count": 138,
     "metadata": {},
     "output_type": "execute_result"
    }
   ],
   "source": [
    "even = []\n",
    "for row in x_list:\n",
    "    for col in row:\n",
    "        if col%2 == 0:\n",
    "            even.append(col)\n",
    "np.array(even)"
   ]
  },
  {
   "cell_type": "markdown",
   "metadata": {
    "id": "v-SoPc_sESXD"
   },
   "source": [
    " However, we can easily write this in one line of code with list comprehension, which basically flattens the above nested for loop.\n",
    " \n",
    "The basic outline for list comprehension with nested loops and a condition is as follows:\n",
    " ```\n",
    "[expression for item in list for item2 in item condition]\n",
    "```"
   ]
  },
  {
   "cell_type": "code",
   "execution_count": 139,
   "metadata": {
    "id": "wVZpsLvbESXD"
   },
   "outputs": [
    {
     "data": {
      "text/plain": [
       "array([ 2,  4,  6,  8, 10])"
      ]
     },
     "execution_count": 139,
     "metadata": {},
     "output_type": "execute_result"
    }
   ],
   "source": [
    "evens_array = np.array([col for row in x_list for col in row if col%2==0])\n",
    "evens_array"
   ]
  },
  {
   "cell_type": "markdown",
   "metadata": {
    "id": "p7hgOtPCESXD"
   },
   "source": [
    "## Searching Arrays: Finding Specific Values and Indexes \n",
    "\n",
    "Frequently in machine learning when you have a dataset you will need to select only certain data samples. For instance, you might want to select only data samples that belong to certain class (in other words, selecting data samples with certain a \"label\"). Luckily, NumPy makes this idea of finding values relatively simply by using concepts such as subsetting.\n",
    "\n",
    "- Additional Sources\n",
    "    - [numpy.where() – Explained with examples](https://thispointer.com/numpy-where-tutorial-examples-python/)\n",
    "    - [fast python numpy where functionality?](https://stackoverflow.com/questions/18452591/fast-python-numpy-where-functionality)\n",
    "    -[np.where docs](https://numpy.org/doc/stable/reference/generated/numpy.where.html)"
   ]
  },
  {
   "cell_type": "markdown",
   "metadata": {
    "id": "Qp1HQPJSESXE"
   },
   "source": [
    "Let's say we have a fake dataset where `X` contains the features and `y` contains the labels which correspond to the class each data sample belongs to.\n",
    "\n",
    "Further, let's say we our fake dataset has 20 data samples (rows) and there are 5 features (columns). Additionally, our fake label array `y` contains 20 labels whose values can be either 0, 1, or 2 where each value indicates which class each data sample in `X` belongs to. **Keep in mind, each row in `y` corresponds to the same row in `X`.**"
   ]
  },
  {
   "cell_type": "markdown",
   "metadata": {
    "id": "sj4qsBJ-ESXE"
   },
   "source": [
    "Below creates a fake data set with corresponding labels. We use some NumPy functions to randomly generate them."
   ]
  },
  {
   "cell_type": "code",
   "execution_count": 140,
   "metadata": {
    "id": "3qD5sGMUESXF"
   },
   "outputs": [],
   "source": [
    "# Here we set a seed such that everytime we run this cell we can the same random array!\n",
    "rng = np.random.RandomState(0) \n",
    "X = rng.normal(size=(20, 5))\n",
    "y = rng.randint(0, 3, size=20)"
   ]
  },
  {
   "cell_type": "code",
   "execution_count": 141,
   "metadata": {
    "id": "7T_eMpDCESXF"
   },
   "outputs": [
    {
     "data": {
      "text/plain": [
       "array([[ 1.76405235,  0.40015721,  0.97873798,  2.2408932 ,  1.86755799],\n",
       "       [-0.97727788,  0.95008842, -0.15135721, -0.10321885,  0.4105985 ],\n",
       "       [ 0.14404357,  1.45427351,  0.76103773,  0.12167502,  0.44386323],\n",
       "       [ 0.33367433,  1.49407907, -0.20515826,  0.3130677 , -0.85409574],\n",
       "       [-2.55298982,  0.6536186 ,  0.8644362 , -0.74216502,  2.26975462],\n",
       "       [-1.45436567,  0.04575852, -0.18718385,  1.53277921,  1.46935877],\n",
       "       [ 0.15494743,  0.37816252, -0.88778575, -1.98079647, -0.34791215],\n",
       "       [ 0.15634897,  1.23029068,  1.20237985, -0.38732682, -0.30230275],\n",
       "       [-1.04855297, -1.42001794, -1.70627019,  1.9507754 , -0.50965218],\n",
       "       [-0.4380743 , -1.25279536,  0.77749036, -1.61389785, -0.21274028],\n",
       "       [-0.89546656,  0.3869025 , -0.51080514, -1.18063218, -0.02818223],\n",
       "       [ 0.42833187,  0.06651722,  0.3024719 , -0.63432209, -0.36274117],\n",
       "       [-0.67246045, -0.35955316, -0.81314628, -1.7262826 ,  0.17742614],\n",
       "       [-0.40178094, -1.63019835,  0.46278226, -0.90729836,  0.0519454 ],\n",
       "       [ 0.72909056,  0.12898291,  1.13940068, -1.23482582,  0.40234164],\n",
       "       [-0.68481009, -0.87079715, -0.57884966, -0.31155253,  0.05616534],\n",
       "       [-1.16514984,  0.90082649,  0.46566244, -1.53624369,  1.48825219],\n",
       "       [ 1.89588918,  1.17877957, -0.17992484, -1.07075262,  1.05445173],\n",
       "       [-0.40317695,  1.22244507,  0.20827498,  0.97663904,  0.3563664 ],\n",
       "       [ 0.70657317,  0.01050002,  1.78587049,  0.12691209,  0.40198936]])"
      ]
     },
     "execution_count": 141,
     "metadata": {},
     "output_type": "execute_result"
    }
   ],
   "source": [
    "X"
   ]
  },
  {
   "cell_type": "code",
   "execution_count": 142,
   "metadata": {
    "id": "alxr6iJyESXF"
   },
   "outputs": [
    {
     "data": {
      "text/plain": [
       "array([[0],\n",
       "       [0],\n",
       "       [1],\n",
       "       [2],\n",
       "       [1],\n",
       "       [1],\n",
       "       [0],\n",
       "       [0],\n",
       "       [1],\n",
       "       [2],\n",
       "       [0],\n",
       "       [2],\n",
       "       [2],\n",
       "       [1],\n",
       "       [1],\n",
       "       [1],\n",
       "       [2],\n",
       "       [0],\n",
       "       [0],\n",
       "       [1]])"
      ]
     },
     "execution_count": 142,
     "metadata": {},
     "output_type": "execute_result"
    }
   ],
   "source": [
    "y.reshape(-1, 1)"
   ]
  },
  {
   "cell_type": "markdown",
   "metadata": {
    "id": "SGRLCYSyESXG"
   },
   "source": [
    "Remember that the first data sample `X[0, :]` corresponds to the first label `y[0]`!"
   ]
  },
  {
   "cell_type": "code",
   "execution_count": 143,
   "metadata": {
    "id": "z0DSi7sFESXG"
   },
   "outputs": [
    {
     "name": "stdout",
     "output_type": "stream",
     "text": [
      "1st data sample: [1.76405235 0.40015721 0.97873798 2.2408932  1.86755799] \n",
      "1st data sample's label: 0\n"
     ]
    }
   ],
   "source": [
    "print(f\"1st data sample: {X[0, :]} \\n1st data sample's label: {y[0]}\")"
   ]
  },
  {
   "cell_type": "markdown",
   "metadata": {
    "id": "v4omj7fMESXG"
   },
   "source": [
    "### Subsetting (Boolean Indexing)\n",
    "\n",
    "Subsetting entails finding values in a array based on some condition. This condition creates a boolean array, which is then used to select all the data samples that are true (i.e., meets the specified condition)."
   ]
  },
  {
   "cell_type": "code",
   "execution_count": 144,
   "metadata": {
    "id": "5t5sFmEDESXH"
   },
   "outputs": [
    {
     "data": {
      "text/plain": [
       "array([0, 0, 1, 2, 1, 1, 0, 0, 1, 2, 0, 2, 2, 1, 1, 1, 2, 0, 0, 1])"
      ]
     },
     "execution_count": 144,
     "metadata": {},
     "output_type": "execute_result"
    }
   ],
   "source": [
    "y"
   ]
  },
  {
   "cell_type": "markdown",
   "metadata": {
    "id": "8CfnstlEESXH"
   },
   "source": [
    "First, we can make a condition where we only want the labels whose class is 1. Notice that all the 1 elements in the below output are set to True while all the 0 and 2 elements are False."
   ]
  },
  {
   "cell_type": "code",
   "execution_count": 145,
   "metadata": {
    "id": "d41ioM69ESXI"
   },
   "outputs": [
    {
     "data": {
      "text/plain": [
       "array([False, False,  True, False,  True,  True, False, False,  True,\n",
       "       False, False, False, False,  True,  True,  True, False, False,\n",
       "       False,  True])"
      ]
     },
     "execution_count": 145,
     "metadata": {},
     "output_type": "execute_result"
    }
   ],
   "source": [
    "y == 1"
   ]
  },
  {
   "cell_type": "markdown",
   "metadata": {
    "id": "tTI_4y_7ESXI"
   },
   "source": [
    "Now we can perform some sort of computation on our selected data. Let's take the mean for each feature/column for all the data samples whose class labels are 1."
   ]
  },
  {
   "cell_type": "code",
   "execution_count": 146,
   "metadata": {
    "id": "spoq3Qg2ESXI"
   },
   "outputs": [
    {
     "data": {
      "text/plain": [
       "array([-0.57034902, -0.20348499,  0.31765296,  0.0670375 ,  0.57322077])"
      ]
     },
     "execution_count": 146,
     "metadata": {},
     "output_type": "execute_result"
    }
   ],
   "source": [
    "np.mean(X[y == 1], axis=0)"
   ]
  },
  {
   "cell_type": "markdown",
   "metadata": {
    "id": "5HhjxhFuESXJ"
   },
   "source": [
    "We can also check the means of the other classes as well!"
   ]
  },
  {
   "cell_type": "code",
   "execution_count": 147,
   "metadata": {
    "id": "UuVEwe7CESXJ"
   },
   "outputs": [
    {
     "data": {
      "text/plain": [
       "array([ 0.24218808,  0.82097514,  0.09421713, -0.21502782,  0.4300825 ])"
      ]
     },
     "execution_count": 147,
     "metadata": {},
     "output_type": "execute_result"
    }
   ],
   "source": [
    "np.mean(X[y == 0], axis=0)"
   ]
  },
  {
   "cell_type": "code",
   "execution_count": 148,
   "metadata": {
    "id": "0GlTRGvvESXK"
   },
   "outputs": [
    {
     "data": {
      "text/plain": [
       "array([-0.30273568,  0.16981485,  0.10546403, -1.03953571,  0.04722023])"
      ]
     },
     "execution_count": 148,
     "metadata": {},
     "output_type": "execute_result"
    }
   ],
   "source": [
    "np.mean(X[y == 2], axis=0)"
   ]
  },
  {
   "cell_type": "markdown",
   "metadata": {
    "id": "AfO_ilXyESXK"
   },
   "source": [
    "Additionally, we can combine conditions (**make sure to include parenthesis surrounding each condition**). So we can want to take the mean of the data samples whose class labels are 1 and 2."
   ]
  },
  {
   "cell_type": "code",
   "execution_count": 149,
   "metadata": {
    "id": "u5-UuSPBESXL"
   },
   "outputs": [
    {
     "data": {
      "text/plain": [
       "array([-0.46742081, -0.05990812,  0.23604183, -0.35856758,  0.37091287])"
      ]
     },
     "execution_count": 149,
     "metadata": {},
     "output_type": "execute_result"
    }
   ],
   "source": [
    "np.mean( X[(y == 1) | (y == 2)], axis=0)"
   ]
  },
  {
   "cell_type": "markdown",
   "metadata": {
    "id": "pKdgEf7mESXL"
   },
   "source": [
    "### Finding Data Locations\n",
    "Subsetting is great for accessing data but what if we want the indexes or locations instead? For instance, what do we do if we want to get all the data sample **indexes** whose class label is 1? This is where the NumPy `where()` function comes into play as it will find all the indexes in the array that satisfy some condition.\n",
    "\n",
    "**Note, we index `np.where(y == 1)[0]` at 0 because `np.where` returns a tuple of rows and columns indexes. Since our labels `y` is a 1D array it only returns a tuple with only row information.**"
   ]
  },
  {
   "cell_type": "code",
   "execution_count": 150,
   "metadata": {
    "id": "ZdrkEYS8ESXM"
   },
   "outputs": [],
   "source": [
    "locs = np.where(y == 1)[0]"
   ]
  },
  {
   "cell_type": "markdown",
   "metadata": {
    "id": "1O1s9WpeESXM"
   },
   "source": [
    "Here we can see `locs` holds all the index values which have labels equal to 1."
   ]
  },
  {
   "cell_type": "code",
   "execution_count": 151,
   "metadata": {
    "id": "jXDncco2ESXM"
   },
   "outputs": [
    {
     "data": {
      "text/plain": [
       "array([ 2,  4,  5,  8, 13, 14, 15, 19], dtype=int64)"
      ]
     },
     "execution_count": 151,
     "metadata": {},
     "output_type": "execute_result"
    }
   ],
   "source": [
    "locs"
   ]
  },
  {
   "cell_type": "markdown",
   "metadata": {
    "id": "yPQvd1H1ESXN"
   },
   "source": [
    "We can see what the corresponding data samples are by indexing `X` with `locs`. "
   ]
  },
  {
   "cell_type": "code",
   "execution_count": 152,
   "metadata": {
    "id": "edzXhajPESXN"
   },
   "outputs": [
    {
     "data": {
      "text/plain": [
       "array([[ 0.14404357,  1.45427351,  0.76103773,  0.12167502,  0.44386323],\n",
       "       [-2.55298982,  0.6536186 ,  0.8644362 , -0.74216502,  2.26975462],\n",
       "       [-1.45436567,  0.04575852, -0.18718385,  1.53277921,  1.46935877],\n",
       "       [-1.04855297, -1.42001794, -1.70627019,  1.9507754 , -0.50965218],\n",
       "       [-0.40178094, -1.63019835,  0.46278226, -0.90729836,  0.0519454 ],\n",
       "       [ 0.72909056,  0.12898291,  1.13940068, -1.23482582,  0.40234164],\n",
       "       [-0.68481009, -0.87079715, -0.57884966, -0.31155253,  0.05616534],\n",
       "       [ 0.70657317,  0.01050002,  1.78587049,  0.12691209,  0.40198936]])"
      ]
     },
     "execution_count": 152,
     "metadata": {},
     "output_type": "execute_result"
    }
   ],
   "source": [
    "X[locs]"
   ]
  },
  {
   "cell_type": "markdown",
   "metadata": {
    "id": "QSVT1dvOESXO"
   },
   "source": [
    "Moreover, we can check to make sure each sample has label 1 by indexing `T` with `locs`."
   ]
  },
  {
   "cell_type": "code",
   "execution_count": 153,
   "metadata": {
    "id": "XEHX0tDLESXP"
   },
   "outputs": [
    {
     "data": {
      "text/plain": [
       "array([1, 1, 1, 1, 1, 1, 1, 1])"
      ]
     },
     "execution_count": 153,
     "metadata": {},
     "output_type": "execute_result"
    }
   ],
   "source": [
    "y[locs]"
   ]
  },
  {
   "cell_type": "markdown",
   "metadata": {
    "id": "dFmFuiDhESXQ"
   },
   "source": [
    "Once again we can perform some operation on all the data samples whose class is 1 just like with subsetting."
   ]
  },
  {
   "cell_type": "code",
   "execution_count": 154,
   "metadata": {
    "id": "mdqbcBHUESXQ"
   },
   "outputs": [
    {
     "data": {
      "text/plain": [
       "array([-0.57034902, -0.20348499,  0.31765296,  0.0670375 ,  0.57322077])"
      ]
     },
     "execution_count": 154,
     "metadata": {},
     "output_type": "execute_result"
    }
   ],
   "source": [
    "X[locs].mean(axis=0)"
   ]
  },
  {
   "cell_type": "markdown",
   "metadata": {
    "id": "_B997Io3ESXR"
   },
   "source": [
    "Additionally, we can combine conditions just like with subsetting (make sure to include parenthesis surrounding each condition)."
   ]
  },
  {
   "cell_type": "code",
   "execution_count": 155,
   "metadata": {
    "id": "s3cpaLFJESXR",
    "scrolled": true
   },
   "outputs": [
    {
     "data": {
      "text/plain": [
       "array([ 2,  3,  4,  5,  8,  9, 11, 12, 13, 14, 15, 16, 19], dtype=int64)"
      ]
     },
     "execution_count": 155,
     "metadata": {},
     "output_type": "execute_result"
    }
   ],
   "source": [
    "np.where((y == 1) | (y == 2))[0]"
   ]
  },
  {
   "cell_type": "markdown",
   "metadata": {
    "id": "mguI4u7mESXR"
   },
   "source": [
    "### TODO 12\n",
    "Use `X` and `y` defined below to complete the following TODOs.\n",
    "1. Using `np.where` and the label array `y`, find all the **indexes** whose labels are equal to 2. Store the output into `two_class_idx`.\n",
    "    1. Hint: Don't forget to index `np.where()` at 0 like we did above! Otherwise, you might not pass the todo check!"
   ]
  },
  {
   "cell_type": "code",
   "execution_count": 156,
   "metadata": {
    "id": "TtnXtsR_ESXS"
   },
   "outputs": [
    {
     "name": "stdout",
     "output_type": "stream",
     "text": [
      "two_class_idx output: \n",
      " [ 3  9 11 12 16]\n",
      "two_class_idx shape: (5,)\n",
      "Your code PASSED the code check!\n"
     ]
    }
   ],
   "source": [
    "# TODO 12.1\n",
    "two_class_idx = np.where(y==2)[0]\n",
    "\n",
    "print(f\"two_class_idx output: \\n {two_class_idx}\")\n",
    "try:\n",
    "    print(f\"two_class_idx shape: {two_class_idx.shape}\")\n",
    "except Exception:\n",
    "    pass\n",
    "\n",
    "todo_check([\n",
    "    (isinstance(two_class_idx, np.ndarray), f'two_class_idx is not an NumPy array! two_class_idx is currently a {type(two_class_idx)}'),\n",
    "    (np.all(two_class_idx == np.array([ 3,  9, 11, 12, 16])), 'two_class_idx does not contain the correct location values')\n",
    "])"
   ]
  },
  {
   "cell_type": "markdown",
   "metadata": {
    "id": "pW3C8tjLESXS"
   },
   "source": [
    "## Array Operations\n",
    "NumPy array allows for basic matrix/array operations to be conducted using minimal syntax. For more advanced linear algebra operations, NumPy has specific methods and functions."
   ]
  },
  {
   "cell_type": "code",
   "execution_count": 157,
   "metadata": {
    "id": "JqSyuzGfESXT"
   },
   "outputs": [],
   "source": [
    "x = np.array([[1,2],[3,4]])\n",
    "y = np.array([[5,6],[7,8]])"
   ]
  },
  {
   "cell_type": "code",
   "execution_count": 159,
   "metadata": {
    "id": "vDKGSzmiESXT"
   },
   "outputs": [
    {
     "data": {
      "text/plain": [
       "array([[1, 2],\n",
       "       [3, 4]])"
      ]
     },
     "execution_count": 159,
     "metadata": {},
     "output_type": "execute_result"
    }
   ],
   "source": [
    "x"
   ]
  },
  {
   "cell_type": "code",
   "execution_count": 160,
   "metadata": {
    "id": "i7F6IFMeESXT"
   },
   "outputs": [
    {
     "data": {
      "text/plain": [
       "array([[5, 6],\n",
       "       [7, 8]])"
      ]
     },
     "execution_count": 160,
     "metadata": {},
     "output_type": "execute_result"
    }
   ],
   "source": [
    "y"
   ]
  },
  {
   "cell_type": "markdown",
   "metadata": {
    "id": "JDg9uZiQESXU"
   },
   "source": [
    "Below performs elementwise addition"
   ]
  },
  {
   "cell_type": "code",
   "execution_count": 161,
   "metadata": {
    "id": "33825JkNESXU"
   },
   "outputs": [
    {
     "data": {
      "text/plain": [
       "array([[ 6,  8],\n",
       "       [10, 12]])"
      ]
     },
     "execution_count": 161,
     "metadata": {},
     "output_type": "execute_result"
    }
   ],
   "source": [
    "x + y"
   ]
  },
  {
   "cell_type": "markdown",
   "metadata": {
    "id": "YecOd92wESXU"
   },
   "source": [
    "Below performs elementwise subtraction"
   ]
  },
  {
   "cell_type": "code",
   "execution_count": 162,
   "metadata": {
    "id": "rggED2PKESXU"
   },
   "outputs": [
    {
     "data": {
      "text/plain": [
       "array([[-4, -4],\n",
       "       [-4, -4]])"
      ]
     },
     "execution_count": 162,
     "metadata": {},
     "output_type": "execute_result"
    }
   ],
   "source": [
    "x - y"
   ]
  },
  {
   "cell_type": "markdown",
   "metadata": {
    "id": "etT8r-NyESXV"
   },
   "source": [
    "Below performs elementwise multiplication"
   ]
  },
  {
   "cell_type": "code",
   "execution_count": 163,
   "metadata": {
    "id": "sf2OwktDESXV"
   },
   "outputs": [
    {
     "data": {
      "text/plain": [
       "array([[ 5, 12],\n",
       "       [21, 32]])"
      ]
     },
     "execution_count": 163,
     "metadata": {},
     "output_type": "execute_result"
    }
   ],
   "source": [
    "x * y"
   ]
  },
  {
   "cell_type": "markdown",
   "metadata": {
    "id": "WTAKi_SKESXV"
   },
   "source": [
    "Below performs elementwise division"
   ]
  },
  {
   "cell_type": "code",
   "execution_count": 164,
   "metadata": {
    "id": "4N2oIkxLESXW"
   },
   "outputs": [
    {
     "data": {
      "text/plain": [
       "array([[0.2       , 0.33333333],\n",
       "       [0.42857143, 0.5       ]])"
      ]
     },
     "execution_count": 164,
     "metadata": {},
     "output_type": "execute_result"
    }
   ],
   "source": [
    "x / y"
   ]
  },
  {
   "cell_type": "markdown",
   "metadata": {
    "id": "dNlUyVOdESXW"
   },
   "source": [
    "Below performs the [dot product](https://www.mathsisfun.com/algebra/vectors-dot-product.html)"
   ]
  },
  {
   "cell_type": "code",
   "execution_count": 165,
   "metadata": {
    "id": "o5SunlfvESXW"
   },
   "outputs": [
    {
     "data": {
      "text/plain": [
       "array([[19, 22],\n",
       "       [43, 50]])"
      ]
     },
     "execution_count": 165,
     "metadata": {},
     "output_type": "execute_result"
    }
   ],
   "source": [
    "x @ y"
   ]
  },
  {
   "cell_type": "markdown",
   "metadata": {
    "id": "0WnvKkEeESXW"
   },
   "source": [
    "## Matmul, Shape Mismatch, and Broadcasting Errors"
   ]
  },
  {
   "cell_type": "markdown",
   "metadata": {
    "id": "Br_kJou8ESXX"
   },
   "source": [
    "### Matmul and Shape Mismatch Errors\n",
    "\n",
    "Throughout this course you will frequently run into what we refer to as \"matmul\" errors. Matmul errors typically arise when taking the dot product of two arrays and the shapes of the arrays aren't compatible. Recall that the **dot product requires the columns of the first array and rows of the second array to match**!\n",
    "\n",
    "For this example, let's assume `A` is some fake data and `b` is a weight vector. Let's then try to make a prediction by taking the dot product of our data and weights (this is something we will do frequently throughout the semester). \n",
    "\n",
    "Below are a few different ways to compute the dot product. The main difference between `@` or `np.matmul` and `np.dot` only really comes into play when dealing with arrays with dimensions greater than 3. For those interested, see this [post](https://stackoverflow.com/questions/34142485/difference-between-numpy-dot-and-python-3-5-matrix-multiplication) on the differences between the methods. For now, we can assume that all operations are roughly doing the same thing - computing the dot product. "
   ]
  },
  {
   "cell_type": "code",
   "execution_count": 166,
   "metadata": {
    "id": "ThIt9GJgESXX",
    "scrolled": true
   },
   "outputs": [
    {
     "name": "stdout",
     "output_type": "stream",
     "text": [
      "A shape: (5, 3)\n",
      "b shape: (1, 3)\n"
     ]
    }
   ],
   "source": [
    "A = np.ones((5, 3))\n",
    "b = np.arange(3).reshape(1, -1)\n",
    "print(f\"A shape: {A.shape}\")\n",
    "print(f\"b shape: {b.shape}\")"
   ]
  },
  {
   "cell_type": "markdown",
   "metadata": {
    "id": "mbL3VKu4ESXX"
   },
   "source": [
    "Based on these shapes given above, can you see the error we are about to run into? Take a second to think about what conditions need to be met in order for the dot product to be taken."
   ]
  },
  {
   "cell_type": "code",
   "execution_count": 167,
   "metadata": {
    "id": "LDYuXd-5ESXY"
   },
   "outputs": [
    {
     "name": "stderr",
     "output_type": "stream",
     "text": [
      "Traceback (most recent call last):\n",
      "  File \"C:\\Users\\himat\\AppData\\Local\\Temp\\ipykernel_3548\\4201264362.py\", line 2, in <module>\n",
      "    A @ b\n",
      "ValueError: matmul: Input operand 1 has a mismatch in its core dimension 0, with gufunc signature (n?,k),(k,m?)->(n?,m?) (size 1 is different from 3)\n"
     ]
    }
   ],
   "source": [
    "try:\n",
    "    A @ b\n",
    "except ValueError as e:\n",
    "    traceback.print_exc()"
   ]
  },
  {
   "cell_type": "code",
   "execution_count": 168,
   "metadata": {
    "id": "y9pGl7qvESXY"
   },
   "outputs": [
    {
     "name": "stderr",
     "output_type": "stream",
     "text": [
      "Traceback (most recent call last):\n",
      "  File \"C:\\Users\\himat\\AppData\\Local\\Temp\\ipykernel_3548\\46849502.py\", line 2, in <module>\n",
      "    np.matmul(A, b)\n",
      "ValueError: matmul: Input operand 1 has a mismatch in its core dimension 0, with gufunc signature (n?,k),(k,m?)->(n?,m?) (size 1 is different from 3)\n"
     ]
    }
   ],
   "source": [
    "try:\n",
    "    np.matmul(A, b)\n",
    "except ValueError as e:\n",
    "    traceback.print_exc()"
   ]
  },
  {
   "cell_type": "code",
   "execution_count": 169,
   "metadata": {
    "id": "PLFkpcznESXY"
   },
   "outputs": [
    {
     "name": "stderr",
     "output_type": "stream",
     "text": [
      "Traceback (most recent call last):\n",
      "  File \"C:\\Users\\himat\\AppData\\Local\\Temp\\ipykernel_3548\\391474462.py\", line 2, in <module>\n",
      "    np.dot(A, b)\n",
      "  File \"<__array_function__ internals>\", line 5, in dot\n",
      "ValueError: shapes (5,3) and (1,3) not aligned: 3 (dim 1) != 1 (dim 0)\n"
     ]
    }
   ],
   "source": [
    "try:\n",
    "    np.dot(A, b)\n",
    "except ValueError as e:\n",
    "    traceback.print_exc()"
   ]
  },
  {
   "cell_type": "markdown",
   "metadata": {
    "id": "FMZ_kkCZESXZ"
   },
   "source": [
    "Notice that none of the above methods work because the shapes of the arrays don't match which means the dot product can't be computed! Also, note that the first two throw slightly different errors than the last method."
   ]
  },
  {
   "cell_type": "markdown",
   "metadata": {
    "id": "wupTvbxMESXZ"
   },
   "source": [
    "**Templating print statements for equations:**\n",
    "Often times these `matmul` errors leave beginners scratching their heads at what they did wrong. The issue here is that our shapes don't match. One useful method for debugging shape issues is to print the equation of interest where you replace the variables with their shapes. This is a useful practice when you are first learning to covert matrix equations to code.\n",
    "\n",
    "For instance given \n",
    "```\n",
    "A @ b\n",
    "```\n",
    "\n",
    "It can be useful to add the shapes next to the variables in print statements.\n",
    "```\n",
    "A(5, 3) @ b(1, 3)\n",
    "```"
   ]
  },
  {
   "cell_type": "code",
   "execution_count": 170,
   "metadata": {
    "id": "vmzjcpMlESXZ"
   },
   "outputs": [
    {
     "name": "stdout",
     "output_type": "stream",
     "text": [
      "A(5, 3) @ b(1, 3)\n"
     ]
    }
   ],
   "source": [
    "print(f\"A{A.shape} @ b{b.shape}\")"
   ]
  },
  {
   "cell_type": "markdown",
   "metadata": {
    "id": "H27cXA0TESXZ"
   },
   "source": [
    "See, notice the rows of `b` don't match the columns of `A`. What do we need to do to fix this? One possible solution is simply to transpose `b` using the `.T` method for NumPy arrays."
   ]
  },
  {
   "cell_type": "code",
   "execution_count": 171,
   "metadata": {
    "id": "hrAVk9tOESXa"
   },
   "outputs": [
    {
     "name": "stdout",
     "output_type": "stream",
     "text": [
      "A(5, 3) @ b(3, 1)\n"
     ]
    }
   ],
   "source": [
    "print(f\"A{A.shape} @ b{b.T.shape}\")"
   ]
  },
  {
   "cell_type": "markdown",
   "metadata": {
    "id": "QS-Vv-LqESXa"
   },
   "source": [
    "Now, notice the columns of `A` and rows of `b` match! Let's try recomputing the dot product with the rows and columns matching."
   ]
  },
  {
   "cell_type": "code",
   "execution_count": 172,
   "metadata": {
    "id": "EyKrEv_rESXa"
   },
   "outputs": [
    {
     "name": "stdout",
     "output_type": "stream",
     "text": [
      "Result shape: (5, 1)\n"
     ]
    },
    {
     "data": {
      "text/plain": [
       "array([[3.],\n",
       "       [3.],\n",
       "       [3.],\n",
       "       [3.],\n",
       "       [3.]])"
      ]
     },
     "execution_count": 172,
     "metadata": {},
     "output_type": "execute_result"
    }
   ],
   "source": [
    "result = A @ b.T\n",
    "print(f\"Result shape: {result.shape}\")\n",
    "result"
   ]
  },
  {
   "cell_type": "markdown",
   "metadata": {
    "id": "yDOdA6kBESXa"
   },
   "source": [
    "Alternatively, we can reshape `b` to fix this issue as well."
   ]
  },
  {
   "cell_type": "code",
   "execution_count": 173,
   "metadata": {
    "id": "03883eD3ESXb"
   },
   "outputs": [
    {
     "name": "stdout",
     "output_type": "stream",
     "text": [
      "Result shape: (5, 1)\n"
     ]
    },
    {
     "data": {
      "text/plain": [
       "array([[3.],\n",
       "       [3.],\n",
       "       [3.],\n",
       "       [3.],\n",
       "       [3.]])"
      ]
     },
     "execution_count": 173,
     "metadata": {},
     "output_type": "execute_result"
    }
   ],
   "source": [
    "result = A @ b.reshape(-1, 1)\n",
    "print(f\"Result shape: {result.shape}\")\n",
    "result"
   ]
  },
  {
   "cell_type": "markdown",
   "metadata": {
    "id": "sOXO3HxHESXb"
   },
   "source": [
    "### TODO 13\n",
    "\n",
    "Given the below arrays `X` and `w` complete the following TODOs.\n",
    "\n",
    "1. Compute the dot product between `X` and `w`. Store the output into the variable `dotted_array`."
   ]
  },
  {
   "cell_type": "code",
   "execution_count": 174,
   "metadata": {
    "id": "YjsJqe4vESXb"
   },
   "outputs": [
    {
     "name": "stdout",
     "output_type": "stream",
     "text": [
      "X shape: (5, 5)\n",
      "w shape: (1, 5)\n"
     ]
    }
   ],
   "source": [
    "X = np.ones((5, 5))\n",
    "w = np.arange(5).reshape(1, -1)\n",
    "print(f\"X shape: {X.shape}\")\n",
    "print(f\"w shape: {w.shape}\")"
   ]
  },
  {
   "cell_type": "code",
   "execution_count": 175,
   "metadata": {
    "id": "4esBlTiHESXb"
   },
   "outputs": [
    {
     "name": "stdout",
     "output_type": "stream",
     "text": [
      "dotted_array output: \n",
      " [[10.]\n",
      " [10.]\n",
      " [10.]\n",
      " [10.]\n",
      " [10.]]\n",
      "dotted_array shape: (5, 1)\n",
      "Your code PASSED the code check!\n"
     ]
    }
   ],
   "source": [
    "# TODO 13.1\n",
    "dotted_array = X @ w.T\n",
    "\n",
    "print(f\"dotted_array output: \\n {dotted_array}\")\n",
    "print(f\"dotted_array shape: {dotted_array.shape}\")\n",
    "\n",
    "todo_check([\n",
    "    (dotted_array.shape == (5, 1), 'dotted_array does not have the correct shape of (5,1)'),\n",
    "    (np.all(dotted_array == np.array([10, 10, 10, 10, 10])), 'dotted_array does not have the correct values')\n",
    "])"
   ]
  },
  {
   "cell_type": "markdown",
   "metadata": {
    "id": "naVMpVLDESXc"
   },
   "source": [
    "### Broadcasting\n",
    "\n",
    "Broadcasting is an implicit functionality of NumPy to allow arithmetic between arrays of different dimensions or shapes. This is a functionality you will be aware of as it will naturally arise in your code and can potentially cause you headaches if you don't know how it works! Below are the three general rules that broadcasting follows.\n",
    "\n",
    "> Rule 1: If the two arrays differ in their number of dimensions, the shape of the one with fewer dimensions has its shape padded with ones on its leading (left) side.\n",
    "\n",
    "> Rule 2: If the shape of the two arrays does not match in any dimension, the array with shape equal to 1 in that dimension is stretched to match the other shape.\n",
    "\n",
    "> Rule 3: If in any dimension sizes disagree and neither is equal to 1, an error is raised.\n",
    "\n",
    "\n",
    "Given these rules, let's take a deeper look at what they are actually saying. We are going to reproduce the examples given in the image below and step through them and see how each rule applies to each example. Lastly, note that idea of braodcasting is not limited to the addition operation!\n",
    "\n",
    "![](https://jakevdp.github.io/PythonDataScienceHandbook/figures/02.05-broadcasting.png)\n",
    "\n",
    "- Additional Sources\n",
    "    - [Gentle Introduction to Broadcasting](https://machinelearningmastery.com/broadcasting-with-numpy-arrays)\n",
    "    - [Numpy Broadcasting Docs](https://docs.scipy.org/doc/numpy/user/basics.broadcasting.html)\n",
    "    - [Introduction to Broadcasting](https://jakevdp.github.io/PythonDataScienceHandbook/02.05-computation-on-arrays-broadcasting.html)"
   ]
  },
  {
   "cell_type": "markdown",
   "metadata": {
    "id": "n__M08i_ESXc"
   },
   "source": [
    "**Example 1 - Adding a scalar to an array**\n",
    "\n",
    "1. Initial shapes: \n",
    "Note that `a` is a 1D array and `b` is a scalar and therefore has no shape!\n",
    "```\n",
    "    a.shape = (3,)\n",
    "    b.shape = ()\n",
    "```\n",
    "2. Convert to array: \n",
    "NumPy first turns the scalar `b` into a 1D array.\n",
    "```\n",
    "    a.shape = (3,)\n",
    "    b.shape = (1,)\n",
    "```\n",
    "\n",
    "\n",
    "3. Apply rule 2: \n",
    "NumPy stretches `b` by copying the scalar value of `b` repeatedly until the first dimension of `b` matches the first dimension of `a`. Refer to the above picture where the 5 is copied two more times!\n",
    "```\n",
    "    a.shape = (3,)\n",
    "    b.shape = (3,)\n",
    "```"
   ]
  },
  {
   "cell_type": "code",
   "execution_count": 176,
   "metadata": {
    "id": "Li5nWLcqESXc"
   },
   "outputs": [
    {
     "data": {
      "text/plain": [
       "array([5, 6, 7])"
      ]
     },
     "execution_count": 176,
     "metadata": {},
     "output_type": "execute_result"
    }
   ],
   "source": [
    "a = np.arange(3)\n",
    "b = 5\n",
    "\n",
    "a + 5"
   ]
  },
  {
   "cell_type": "markdown",
   "metadata": {
    "id": "7uILTIwLESXd"
   },
   "source": [
    "**Example 2 - Adding a 1D array to a 2D array (MOST COMMON SCENARIO)**\n",
    "1. Beginning shapes:\n",
    "```\n",
    "    A.shape = (3, 3)\n",
    "    b.shape = (3,)\n",
    "```\n",
    "\n",
    "\n",
    "2. Apply rule 1 to `b`: NumPy does so by adding a new dimension to the left of the existing dimensions of `b`.\n",
    "\n",
    "```\n",
    "    A.shape = (3, 3)\n",
    "    b.shape = (1, 3)\n",
    "```\n",
    "\n",
    "\n",
    "3. Apply rule 2 to `b`: NumPy stretches `b` by copying `b` repeatedly until the first dimension of `b` matches the first dimension of `A`.  Refer to the above picture where `b` is copied two more additional times!\n",
    "\n",
    "```\n",
    "    A.shape = (3, 3)\n",
    "    b.shape = (3, 3)\n",
    "```"
   ]
  },
  {
   "cell_type": "code",
   "execution_count": 177,
   "metadata": {
    "id": "XWEI-SoXESXd"
   },
   "outputs": [
    {
     "data": {
      "text/plain": [
       "array([[1., 2., 3.],\n",
       "       [1., 2., 3.],\n",
       "       [1., 2., 3.]])"
      ]
     },
     "execution_count": 177,
     "metadata": {},
     "output_type": "execute_result"
    }
   ],
   "source": [
    "A = np.ones((3, 3))\n",
    "b = np.arange(3,)\n",
    "\n",
    "A + b"
   ]
  },
  {
   "cell_type": "markdown",
   "metadata": {
    "id": "8heRktKZESXe"
   },
   "source": [
    "**Example 3 - Adding 1D array to a 2D array**\n",
    "1. Beginning shapes:\n",
    "```\n",
    "    A.shape = (3, 1)\n",
    "    b.shape = (3,)\n",
    "```\n",
    "\n",
    "\n",
    "2. Apply rule 1 to `b`: NumPy does so by adding a new dimension to the left of the existing dimensions for `b`.\n",
    "```\n",
    "    A.shape = (3, 1)\n",
    "    b.shape = (1, 3)\n",
    "```\n",
    "\n",
    "\n",
    "3. Apply rule 2 to `A` and `b`: \n",
    "Notice now NumPy needs to stretch both `A` and `b` so their dimension lengths match! NumPy does this once again by copying the values of `A` and `b` each twice.\n",
    "```\n",
    "    A.shape = (3, 3)\n",
    "    b.shape = (3, 3)\n",
    "```"
   ]
  },
  {
   "cell_type": "code",
   "execution_count": 178,
   "metadata": {
    "id": "SfUk8ukeESXe"
   },
   "outputs": [
    {
     "data": {
      "text/plain": [
       "array([[0, 1, 2],\n",
       "       [1, 2, 3],\n",
       "       [2, 3, 4]])"
      ]
     },
     "execution_count": 178,
     "metadata": {},
     "output_type": "execute_result"
    }
   ],
   "source": [
    "A = np.arange(3).reshape((3, 1))\n",
    "b = np.arange(3)\n",
    "\n",
    "A + b"
   ]
  },
  {
   "cell_type": "markdown",
   "metadata": {
    "id": "ahVB-kNSESXf"
   },
   "source": [
    "**Example 4 - Broadcasting Error (No corresponding image)**\n",
    "1. Beginning shapes:\n",
    "```\n",
    "    A.shape = (3, 2)\n",
    "    b.shape = (3,)\n",
    "```\n",
    "2. Apply rule 1 to `b`: \n",
    "NumPy does so by adding a new dimension to the left of the existing dimensions for `b`.\n",
    "```\n",
    "    A.shape = (3, 2)\n",
    "    b.shape = (1, 3)\n",
    "```\n",
    "\n",
    "\n",
    "3. Apply rule 2 to `b`:\n",
    "NumPy stretches `b` by copying `b` repeatedly until the first dimension of `b` matches the first dimension of `A`. \n",
    "```\n",
    "    A.shape = (3, 2)\n",
    "    b.shape = (3, 3)\n",
    "```\n",
    "\n",
    "3. Mismatch error is thrown because `A`'s second dimension does not have a length of `1` which means rule 2 can't be applied to it! Meaning, the shapes can not be made to match!\n",
    "```\n",
    "    (3, 2) != (3, 3)\n",
    "```"
   ]
  },
  {
   "cell_type": "code",
   "execution_count": 179,
   "metadata": {
    "id": "4dp7h3McESXf"
   },
   "outputs": [
    {
     "name": "stderr",
     "output_type": "stream",
     "text": [
      "Traceback (most recent call last):\n",
      "  File \"C:\\Users\\himat\\AppData\\Local\\Temp\\ipykernel_3548\\4033666338.py\", line 5, in <module>\n",
      "    A + b\n",
      "ValueError: operands could not be broadcast together with shapes (3,2) (3,) \n"
     ]
    }
   ],
   "source": [
    "A =  np.ones((3, 2))\n",
    "b = np.arange(3)\n",
    "\n",
    "try:\n",
    "    A + b\n",
    "except ValueError as e:\n",
    "    traceback.print_exc()"
   ]
  },
  {
   "cell_type": "markdown",
   "metadata": {
    "id": "ViC3VLQAESXf"
   },
   "source": [
    "# Pandas\n",
    "\n",
    "While NumPy is great for performing numerical operations with data, Pandas acts as a high-level data analysis and manipulation tool. Typically, our workflow will involves loading data with Pandas, filtering, cleaning, and observing data trends and then converting out data to NumPy arrays to then be used by our machine learning algorithms. \n",
    "\n",
    "In this section we'll take a quick look at Pandas basics and we'll build/reinforce these basics in following labs!\n",
    "\n",
    "- Addtional Sources\n",
    "    - [Pandas Cheat Sheet PDF](https://pandas.pydata.org/Pandas_Cheat_Sheet.pdf)\n",
    "    - [tutorial: loc vs iloc](https://www.marsja.se/how-to-use-iloc-and-loc-for-indexing-and-slicing-pandas-dataframes/)\n",
    "    - [RealPython: Exploring Datasets with Pandas Tutorial](https://realpython.com/pandas-python-explore-dataset/)"
   ]
  },
  {
   "cell_type": "markdown",
   "metadata": {
    "id": "-zHansp-ESXg"
   },
   "source": [
    "## DataFrames\n",
    "\n",
    "The main object that the Pandas library is centered around is the `DataFrame` class ([docs](https://pandas.pydata.org/pandas-docs/stable/reference/api/pandas.DataFrame.html)). A `DataFrame` is a 2 dimensional data structure, like a 2 dimensional array, or a table with rows and columns. However, a `DataFrame` is much more akin to what a CSV file is like when using Google Sheets or Excel! Note, `DataFrames` are built ontop of NumPy arrays!\n",
    "\n",
    "Let's take a look to really understand what exactly a `DataFrame` is! "
   ]
  },
  {
   "cell_type": "code",
   "execution_count": 180,
   "metadata": {
    "id": "lilvqHA8ESXg"
   },
   "outputs": [],
   "source": [
    "import pandas as pd"
   ]
  },
  {
   "cell_type": "markdown",
   "metadata": {
    "id": "SPyI4giSESXg"
   },
   "source": [
    "To start off we need some fake data, so we generate some using NumPy where we have 20 data samples and 5 features"
   ]
  },
  {
   "cell_type": "code",
   "execution_count": 181,
   "metadata": {
    "id": "jWD66yOjESXg"
   },
   "outputs": [
    {
     "data": {
      "text/plain": [
       "array([[ 1.76405235,  0.40015721,  0.97873798,  2.2408932 ,  1.86755799],\n",
       "       [-0.97727788,  0.95008842, -0.15135721, -0.10321885,  0.4105985 ],\n",
       "       [ 0.14404357,  1.45427351,  0.76103773,  0.12167502,  0.44386323],\n",
       "       [ 0.33367433,  1.49407907, -0.20515826,  0.3130677 , -0.85409574],\n",
       "       [-2.55298982,  0.6536186 ,  0.8644362 , -0.74216502,  2.26975462],\n",
       "       [-1.45436567,  0.04575852, -0.18718385,  1.53277921,  1.46935877],\n",
       "       [ 0.15494743,  0.37816252, -0.88778575, -1.98079647, -0.34791215],\n",
       "       [ 0.15634897,  1.23029068,  1.20237985, -0.38732682, -0.30230275],\n",
       "       [-1.04855297, -1.42001794, -1.70627019,  1.9507754 , -0.50965218],\n",
       "       [-0.4380743 , -1.25279536,  0.77749036, -1.61389785, -0.21274028],\n",
       "       [-0.89546656,  0.3869025 , -0.51080514, -1.18063218, -0.02818223],\n",
       "       [ 0.42833187,  0.06651722,  0.3024719 , -0.63432209, -0.36274117],\n",
       "       [-0.67246045, -0.35955316, -0.81314628, -1.7262826 ,  0.17742614],\n",
       "       [-0.40178094, -1.63019835,  0.46278226, -0.90729836,  0.0519454 ],\n",
       "       [ 0.72909056,  0.12898291,  1.13940068, -1.23482582,  0.40234164],\n",
       "       [-0.68481009, -0.87079715, -0.57884966, -0.31155253,  0.05616534],\n",
       "       [-1.16514984,  0.90082649,  0.46566244, -1.53624369,  1.48825219],\n",
       "       [ 1.89588918,  1.17877957, -0.17992484, -1.07075262,  1.05445173],\n",
       "       [-0.40317695,  1.22244507,  0.20827498,  0.97663904,  0.3563664 ],\n",
       "       [ 0.70657317,  0.01050002,  1.78587049,  0.12691209,  0.40198936]])"
      ]
     },
     "execution_count": 181,
     "metadata": {},
     "output_type": "execute_result"
    }
   ],
   "source": [
    "# Set s generate same data everytime\n",
    "rng = np.random.RandomState(0)\n",
    "rand_data = rng.normal(size=(20, 5))\n",
    "rand_data"
   ]
  },
  {
   "cell_type": "markdown",
   "metadata": {
    "id": "LtAtKwUGESXh"
   },
   "source": [
    "We can easily convert a NumPy array into a `DataFrame` as follows."
   ]
  },
  {
   "cell_type": "code",
   "execution_count": 182,
   "metadata": {
    "id": "mw19Cg5YESXh"
   },
   "outputs": [
    {
     "data": {
      "text/html": [
       "<div>\n",
       "<style scoped>\n",
       "    .dataframe tbody tr th:only-of-type {\n",
       "        vertical-align: middle;\n",
       "    }\n",
       "\n",
       "    .dataframe tbody tr th {\n",
       "        vertical-align: top;\n",
       "    }\n",
       "\n",
       "    .dataframe thead th {\n",
       "        text-align: right;\n",
       "    }\n",
       "</style>\n",
       "<table border=\"1\" class=\"dataframe\">\n",
       "  <thead>\n",
       "    <tr style=\"text-align: right;\">\n",
       "      <th></th>\n",
       "      <th>A</th>\n",
       "      <th>B</th>\n",
       "      <th>C</th>\n",
       "      <th>D</th>\n",
       "      <th>E</th>\n",
       "    </tr>\n",
       "  </thead>\n",
       "  <tbody>\n",
       "    <tr>\n",
       "      <th>0</th>\n",
       "      <td>1.764052</td>\n",
       "      <td>0.400157</td>\n",
       "      <td>0.978738</td>\n",
       "      <td>2.240893</td>\n",
       "      <td>1.867558</td>\n",
       "    </tr>\n",
       "    <tr>\n",
       "      <th>1</th>\n",
       "      <td>-0.977278</td>\n",
       "      <td>0.950088</td>\n",
       "      <td>-0.151357</td>\n",
       "      <td>-0.103219</td>\n",
       "      <td>0.410599</td>\n",
       "    </tr>\n",
       "    <tr>\n",
       "      <th>2</th>\n",
       "      <td>0.144044</td>\n",
       "      <td>1.454274</td>\n",
       "      <td>0.761038</td>\n",
       "      <td>0.121675</td>\n",
       "      <td>0.443863</td>\n",
       "    </tr>\n",
       "    <tr>\n",
       "      <th>3</th>\n",
       "      <td>0.333674</td>\n",
       "      <td>1.494079</td>\n",
       "      <td>-0.205158</td>\n",
       "      <td>0.313068</td>\n",
       "      <td>-0.854096</td>\n",
       "    </tr>\n",
       "    <tr>\n",
       "      <th>4</th>\n",
       "      <td>-2.552990</td>\n",
       "      <td>0.653619</td>\n",
       "      <td>0.864436</td>\n",
       "      <td>-0.742165</td>\n",
       "      <td>2.269755</td>\n",
       "    </tr>\n",
       "    <tr>\n",
       "      <th>5</th>\n",
       "      <td>-1.454366</td>\n",
       "      <td>0.045759</td>\n",
       "      <td>-0.187184</td>\n",
       "      <td>1.532779</td>\n",
       "      <td>1.469359</td>\n",
       "    </tr>\n",
       "    <tr>\n",
       "      <th>6</th>\n",
       "      <td>0.154947</td>\n",
       "      <td>0.378163</td>\n",
       "      <td>-0.887786</td>\n",
       "      <td>-1.980796</td>\n",
       "      <td>-0.347912</td>\n",
       "    </tr>\n",
       "    <tr>\n",
       "      <th>7</th>\n",
       "      <td>0.156349</td>\n",
       "      <td>1.230291</td>\n",
       "      <td>1.202380</td>\n",
       "      <td>-0.387327</td>\n",
       "      <td>-0.302303</td>\n",
       "    </tr>\n",
       "    <tr>\n",
       "      <th>8</th>\n",
       "      <td>-1.048553</td>\n",
       "      <td>-1.420018</td>\n",
       "      <td>-1.706270</td>\n",
       "      <td>1.950775</td>\n",
       "      <td>-0.509652</td>\n",
       "    </tr>\n",
       "    <tr>\n",
       "      <th>9</th>\n",
       "      <td>-0.438074</td>\n",
       "      <td>-1.252795</td>\n",
       "      <td>0.777490</td>\n",
       "      <td>-1.613898</td>\n",
       "      <td>-0.212740</td>\n",
       "    </tr>\n",
       "    <tr>\n",
       "      <th>10</th>\n",
       "      <td>-0.895467</td>\n",
       "      <td>0.386902</td>\n",
       "      <td>-0.510805</td>\n",
       "      <td>-1.180632</td>\n",
       "      <td>-0.028182</td>\n",
       "    </tr>\n",
       "    <tr>\n",
       "      <th>11</th>\n",
       "      <td>0.428332</td>\n",
       "      <td>0.066517</td>\n",
       "      <td>0.302472</td>\n",
       "      <td>-0.634322</td>\n",
       "      <td>-0.362741</td>\n",
       "    </tr>\n",
       "    <tr>\n",
       "      <th>12</th>\n",
       "      <td>-0.672460</td>\n",
       "      <td>-0.359553</td>\n",
       "      <td>-0.813146</td>\n",
       "      <td>-1.726283</td>\n",
       "      <td>0.177426</td>\n",
       "    </tr>\n",
       "    <tr>\n",
       "      <th>13</th>\n",
       "      <td>-0.401781</td>\n",
       "      <td>-1.630198</td>\n",
       "      <td>0.462782</td>\n",
       "      <td>-0.907298</td>\n",
       "      <td>0.051945</td>\n",
       "    </tr>\n",
       "    <tr>\n",
       "      <th>14</th>\n",
       "      <td>0.729091</td>\n",
       "      <td>0.128983</td>\n",
       "      <td>1.139401</td>\n",
       "      <td>-1.234826</td>\n",
       "      <td>0.402342</td>\n",
       "    </tr>\n",
       "    <tr>\n",
       "      <th>15</th>\n",
       "      <td>-0.684810</td>\n",
       "      <td>-0.870797</td>\n",
       "      <td>-0.578850</td>\n",
       "      <td>-0.311553</td>\n",
       "      <td>0.056165</td>\n",
       "    </tr>\n",
       "    <tr>\n",
       "      <th>16</th>\n",
       "      <td>-1.165150</td>\n",
       "      <td>0.900826</td>\n",
       "      <td>0.465662</td>\n",
       "      <td>-1.536244</td>\n",
       "      <td>1.488252</td>\n",
       "    </tr>\n",
       "    <tr>\n",
       "      <th>17</th>\n",
       "      <td>1.895889</td>\n",
       "      <td>1.178780</td>\n",
       "      <td>-0.179925</td>\n",
       "      <td>-1.070753</td>\n",
       "      <td>1.054452</td>\n",
       "    </tr>\n",
       "    <tr>\n",
       "      <th>18</th>\n",
       "      <td>-0.403177</td>\n",
       "      <td>1.222445</td>\n",
       "      <td>0.208275</td>\n",
       "      <td>0.976639</td>\n",
       "      <td>0.356366</td>\n",
       "    </tr>\n",
       "    <tr>\n",
       "      <th>19</th>\n",
       "      <td>0.706573</td>\n",
       "      <td>0.010500</td>\n",
       "      <td>1.785870</td>\n",
       "      <td>0.126912</td>\n",
       "      <td>0.401989</td>\n",
       "    </tr>\n",
       "  </tbody>\n",
       "</table>\n",
       "</div>"
      ],
      "text/plain": [
       "           A         B         C         D         E\n",
       "0   1.764052  0.400157  0.978738  2.240893  1.867558\n",
       "1  -0.977278  0.950088 -0.151357 -0.103219  0.410599\n",
       "2   0.144044  1.454274  0.761038  0.121675  0.443863\n",
       "3   0.333674  1.494079 -0.205158  0.313068 -0.854096\n",
       "4  -2.552990  0.653619  0.864436 -0.742165  2.269755\n",
       "5  -1.454366  0.045759 -0.187184  1.532779  1.469359\n",
       "6   0.154947  0.378163 -0.887786 -1.980796 -0.347912\n",
       "7   0.156349  1.230291  1.202380 -0.387327 -0.302303\n",
       "8  -1.048553 -1.420018 -1.706270  1.950775 -0.509652\n",
       "9  -0.438074 -1.252795  0.777490 -1.613898 -0.212740\n",
       "10 -0.895467  0.386902 -0.510805 -1.180632 -0.028182\n",
       "11  0.428332  0.066517  0.302472 -0.634322 -0.362741\n",
       "12 -0.672460 -0.359553 -0.813146 -1.726283  0.177426\n",
       "13 -0.401781 -1.630198  0.462782 -0.907298  0.051945\n",
       "14  0.729091  0.128983  1.139401 -1.234826  0.402342\n",
       "15 -0.684810 -0.870797 -0.578850 -0.311553  0.056165\n",
       "16 -1.165150  0.900826  0.465662 -1.536244  1.488252\n",
       "17  1.895889  1.178780 -0.179925 -1.070753  1.054452\n",
       "18 -0.403177  1.222445  0.208275  0.976639  0.356366\n",
       "19  0.706573  0.010500  1.785870  0.126912  0.401989"
      ]
     },
     "execution_count": 182,
     "metadata": {},
     "output_type": "execute_result"
    }
   ],
   "source": [
    "df = pd.DataFrame(rand_data, columns=['A', 'B', 'C', 'D', 'E'])\n",
    "df"
   ]
  },
  {
   "cell_type": "markdown",
   "metadata": {
    "id": "PVFABRHSESXh"
   },
   "source": [
    "Notice how much nicer, visually, the table looks compared to the NumPy version. This is just one benefit of Pandas! Note, if we print the `DataFrame` using `print` we lose some of the nice formatting. However, we can easily recover the formatting by using the `display` provided by Jupyter Notebook."
   ]
  },
  {
   "cell_type": "code",
   "execution_count": 183,
   "metadata": {
    "id": "FmC-cm91ESXi"
   },
   "outputs": [
    {
     "name": "stdout",
     "output_type": "stream",
     "text": [
      "           A         B         C         D         E\n",
      "0   1.764052  0.400157  0.978738  2.240893  1.867558\n",
      "1  -0.977278  0.950088 -0.151357 -0.103219  0.410599\n",
      "2   0.144044  1.454274  0.761038  0.121675  0.443863\n",
      "3   0.333674  1.494079 -0.205158  0.313068 -0.854096\n",
      "4  -2.552990  0.653619  0.864436 -0.742165  2.269755\n",
      "5  -1.454366  0.045759 -0.187184  1.532779  1.469359\n",
      "6   0.154947  0.378163 -0.887786 -1.980796 -0.347912\n",
      "7   0.156349  1.230291  1.202380 -0.387327 -0.302303\n",
      "8  -1.048553 -1.420018 -1.706270  1.950775 -0.509652\n",
      "9  -0.438074 -1.252795  0.777490 -1.613898 -0.212740\n",
      "10 -0.895467  0.386902 -0.510805 -1.180632 -0.028182\n",
      "11  0.428332  0.066517  0.302472 -0.634322 -0.362741\n",
      "12 -0.672460 -0.359553 -0.813146 -1.726283  0.177426\n",
      "13 -0.401781 -1.630198  0.462782 -0.907298  0.051945\n",
      "14  0.729091  0.128983  1.139401 -1.234826  0.402342\n",
      "15 -0.684810 -0.870797 -0.578850 -0.311553  0.056165\n",
      "16 -1.165150  0.900826  0.465662 -1.536244  1.488252\n",
      "17  1.895889  1.178780 -0.179925 -1.070753  1.054452\n",
      "18 -0.403177  1.222445  0.208275  0.976639  0.356366\n",
      "19  0.706573  0.010500  1.785870  0.126912  0.401989\n"
     ]
    }
   ],
   "source": [
    "print(df)"
   ]
  },
  {
   "cell_type": "code",
   "execution_count": 184,
   "metadata": {
    "id": "F5Nf5J-tESXi"
   },
   "outputs": [
    {
     "data": {
      "text/html": [
       "<div>\n",
       "<style scoped>\n",
       "    .dataframe tbody tr th:only-of-type {\n",
       "        vertical-align: middle;\n",
       "    }\n",
       "\n",
       "    .dataframe tbody tr th {\n",
       "        vertical-align: top;\n",
       "    }\n",
       "\n",
       "    .dataframe thead th {\n",
       "        text-align: right;\n",
       "    }\n",
       "</style>\n",
       "<table border=\"1\" class=\"dataframe\">\n",
       "  <thead>\n",
       "    <tr style=\"text-align: right;\">\n",
       "      <th></th>\n",
       "      <th>A</th>\n",
       "      <th>B</th>\n",
       "      <th>C</th>\n",
       "      <th>D</th>\n",
       "      <th>E</th>\n",
       "    </tr>\n",
       "  </thead>\n",
       "  <tbody>\n",
       "    <tr>\n",
       "      <th>0</th>\n",
       "      <td>1.764052</td>\n",
       "      <td>0.400157</td>\n",
       "      <td>0.978738</td>\n",
       "      <td>2.240893</td>\n",
       "      <td>1.867558</td>\n",
       "    </tr>\n",
       "    <tr>\n",
       "      <th>1</th>\n",
       "      <td>-0.977278</td>\n",
       "      <td>0.950088</td>\n",
       "      <td>-0.151357</td>\n",
       "      <td>-0.103219</td>\n",
       "      <td>0.410599</td>\n",
       "    </tr>\n",
       "    <tr>\n",
       "      <th>2</th>\n",
       "      <td>0.144044</td>\n",
       "      <td>1.454274</td>\n",
       "      <td>0.761038</td>\n",
       "      <td>0.121675</td>\n",
       "      <td>0.443863</td>\n",
       "    </tr>\n",
       "    <tr>\n",
       "      <th>3</th>\n",
       "      <td>0.333674</td>\n",
       "      <td>1.494079</td>\n",
       "      <td>-0.205158</td>\n",
       "      <td>0.313068</td>\n",
       "      <td>-0.854096</td>\n",
       "    </tr>\n",
       "    <tr>\n",
       "      <th>4</th>\n",
       "      <td>-2.552990</td>\n",
       "      <td>0.653619</td>\n",
       "      <td>0.864436</td>\n",
       "      <td>-0.742165</td>\n",
       "      <td>2.269755</td>\n",
       "    </tr>\n",
       "    <tr>\n",
       "      <th>5</th>\n",
       "      <td>-1.454366</td>\n",
       "      <td>0.045759</td>\n",
       "      <td>-0.187184</td>\n",
       "      <td>1.532779</td>\n",
       "      <td>1.469359</td>\n",
       "    </tr>\n",
       "    <tr>\n",
       "      <th>6</th>\n",
       "      <td>0.154947</td>\n",
       "      <td>0.378163</td>\n",
       "      <td>-0.887786</td>\n",
       "      <td>-1.980796</td>\n",
       "      <td>-0.347912</td>\n",
       "    </tr>\n",
       "    <tr>\n",
       "      <th>7</th>\n",
       "      <td>0.156349</td>\n",
       "      <td>1.230291</td>\n",
       "      <td>1.202380</td>\n",
       "      <td>-0.387327</td>\n",
       "      <td>-0.302303</td>\n",
       "    </tr>\n",
       "    <tr>\n",
       "      <th>8</th>\n",
       "      <td>-1.048553</td>\n",
       "      <td>-1.420018</td>\n",
       "      <td>-1.706270</td>\n",
       "      <td>1.950775</td>\n",
       "      <td>-0.509652</td>\n",
       "    </tr>\n",
       "    <tr>\n",
       "      <th>9</th>\n",
       "      <td>-0.438074</td>\n",
       "      <td>-1.252795</td>\n",
       "      <td>0.777490</td>\n",
       "      <td>-1.613898</td>\n",
       "      <td>-0.212740</td>\n",
       "    </tr>\n",
       "    <tr>\n",
       "      <th>10</th>\n",
       "      <td>-0.895467</td>\n",
       "      <td>0.386902</td>\n",
       "      <td>-0.510805</td>\n",
       "      <td>-1.180632</td>\n",
       "      <td>-0.028182</td>\n",
       "    </tr>\n",
       "    <tr>\n",
       "      <th>11</th>\n",
       "      <td>0.428332</td>\n",
       "      <td>0.066517</td>\n",
       "      <td>0.302472</td>\n",
       "      <td>-0.634322</td>\n",
       "      <td>-0.362741</td>\n",
       "    </tr>\n",
       "    <tr>\n",
       "      <th>12</th>\n",
       "      <td>-0.672460</td>\n",
       "      <td>-0.359553</td>\n",
       "      <td>-0.813146</td>\n",
       "      <td>-1.726283</td>\n",
       "      <td>0.177426</td>\n",
       "    </tr>\n",
       "    <tr>\n",
       "      <th>13</th>\n",
       "      <td>-0.401781</td>\n",
       "      <td>-1.630198</td>\n",
       "      <td>0.462782</td>\n",
       "      <td>-0.907298</td>\n",
       "      <td>0.051945</td>\n",
       "    </tr>\n",
       "    <tr>\n",
       "      <th>14</th>\n",
       "      <td>0.729091</td>\n",
       "      <td>0.128983</td>\n",
       "      <td>1.139401</td>\n",
       "      <td>-1.234826</td>\n",
       "      <td>0.402342</td>\n",
       "    </tr>\n",
       "    <tr>\n",
       "      <th>15</th>\n",
       "      <td>-0.684810</td>\n",
       "      <td>-0.870797</td>\n",
       "      <td>-0.578850</td>\n",
       "      <td>-0.311553</td>\n",
       "      <td>0.056165</td>\n",
       "    </tr>\n",
       "    <tr>\n",
       "      <th>16</th>\n",
       "      <td>-1.165150</td>\n",
       "      <td>0.900826</td>\n",
       "      <td>0.465662</td>\n",
       "      <td>-1.536244</td>\n",
       "      <td>1.488252</td>\n",
       "    </tr>\n",
       "    <tr>\n",
       "      <th>17</th>\n",
       "      <td>1.895889</td>\n",
       "      <td>1.178780</td>\n",
       "      <td>-0.179925</td>\n",
       "      <td>-1.070753</td>\n",
       "      <td>1.054452</td>\n",
       "    </tr>\n",
       "    <tr>\n",
       "      <th>18</th>\n",
       "      <td>-0.403177</td>\n",
       "      <td>1.222445</td>\n",
       "      <td>0.208275</td>\n",
       "      <td>0.976639</td>\n",
       "      <td>0.356366</td>\n",
       "    </tr>\n",
       "    <tr>\n",
       "      <th>19</th>\n",
       "      <td>0.706573</td>\n",
       "      <td>0.010500</td>\n",
       "      <td>1.785870</td>\n",
       "      <td>0.126912</td>\n",
       "      <td>0.401989</td>\n",
       "    </tr>\n",
       "  </tbody>\n",
       "</table>\n",
       "</div>"
      ],
      "text/plain": [
       "           A         B         C         D         E\n",
       "0   1.764052  0.400157  0.978738  2.240893  1.867558\n",
       "1  -0.977278  0.950088 -0.151357 -0.103219  0.410599\n",
       "2   0.144044  1.454274  0.761038  0.121675  0.443863\n",
       "3   0.333674  1.494079 -0.205158  0.313068 -0.854096\n",
       "4  -2.552990  0.653619  0.864436 -0.742165  2.269755\n",
       "5  -1.454366  0.045759 -0.187184  1.532779  1.469359\n",
       "6   0.154947  0.378163 -0.887786 -1.980796 -0.347912\n",
       "7   0.156349  1.230291  1.202380 -0.387327 -0.302303\n",
       "8  -1.048553 -1.420018 -1.706270  1.950775 -0.509652\n",
       "9  -0.438074 -1.252795  0.777490 -1.613898 -0.212740\n",
       "10 -0.895467  0.386902 -0.510805 -1.180632 -0.028182\n",
       "11  0.428332  0.066517  0.302472 -0.634322 -0.362741\n",
       "12 -0.672460 -0.359553 -0.813146 -1.726283  0.177426\n",
       "13 -0.401781 -1.630198  0.462782 -0.907298  0.051945\n",
       "14  0.729091  0.128983  1.139401 -1.234826  0.402342\n",
       "15 -0.684810 -0.870797 -0.578850 -0.311553  0.056165\n",
       "16 -1.165150  0.900826  0.465662 -1.536244  1.488252\n",
       "17  1.895889  1.178780 -0.179925 -1.070753  1.054452\n",
       "18 -0.403177  1.222445  0.208275  0.976639  0.356366\n",
       "19  0.706573  0.010500  1.785870  0.126912  0.401989"
      ]
     },
     "metadata": {},
     "output_type": "display_data"
    }
   ],
   "source": [
    "display(df)"
   ]
  },
  {
   "cell_type": "markdown",
   "metadata": {
    "id": "NIqLJP_WESXi"
   },
   "source": [
    "One of the useful methods we can call on our `DataFrame` is the `describe()` method which provides a statistical summary of our data. Here we can see the mean, std, min, max, ect stats for each feature or column in our `DataFrame`."
   ]
  },
  {
   "cell_type": "code",
   "execution_count": 185,
   "metadata": {
    "id": "nmDH_tWGESXj"
   },
   "outputs": [
    {
     "data": {
      "text/html": [
       "<div>\n",
       "<style scoped>\n",
       "    .dataframe tbody tr th:only-of-type {\n",
       "        vertical-align: middle;\n",
       "    }\n",
       "\n",
       "    .dataframe tbody tr th {\n",
       "        vertical-align: top;\n",
       "    }\n",
       "\n",
       "    .dataframe thead th {\n",
       "        text-align: right;\n",
       "    }\n",
       "</style>\n",
       "<table border=\"1\" class=\"dataframe\">\n",
       "  <thead>\n",
       "    <tr style=\"text-align: right;\">\n",
       "      <th></th>\n",
       "      <th>A</th>\n",
       "      <th>B</th>\n",
       "      <th>C</th>\n",
       "      <th>D</th>\n",
       "      <th>E</th>\n",
       "    </tr>\n",
       "  </thead>\n",
       "  <tbody>\n",
       "    <tr>\n",
       "      <th>count</th>\n",
       "      <td>20.000000</td>\n",
       "      <td>20.000000</td>\n",
       "      <td>20.000000</td>\n",
       "      <td>20.000000</td>\n",
       "      <td>20.000000</td>\n",
       "    </tr>\n",
       "    <tr>\n",
       "      <th>mean</th>\n",
       "      <td>-0.219058</td>\n",
       "      <td>0.248401</td>\n",
       "      <td>0.186403</td>\n",
       "      <td>-0.308329</td>\n",
       "      <td>0.391622</td>\n",
       "    </tr>\n",
       "    <tr>\n",
       "      <th>std</th>\n",
       "      <td>1.061908</td>\n",
       "      <td>0.953088</td>\n",
       "      <td>0.851692</td>\n",
       "      <td>1.220991</td>\n",
       "      <td>0.836367</td>\n",
       "    </tr>\n",
       "    <tr>\n",
       "      <th>min</th>\n",
       "      <td>-2.552990</td>\n",
       "      <td>-1.630198</td>\n",
       "      <td>-1.706270</td>\n",
       "      <td>-1.980796</td>\n",
       "      <td>-0.854096</td>\n",
       "    </tr>\n",
       "    <tr>\n",
       "      <th>25%</th>\n",
       "      <td>-0.915919</td>\n",
       "      <td>-0.082013</td>\n",
       "      <td>-0.281570</td>\n",
       "      <td>-1.194181</td>\n",
       "      <td>-0.235131</td>\n",
       "    </tr>\n",
       "    <tr>\n",
       "      <th>50%</th>\n",
       "      <td>-0.402479</td>\n",
       "      <td>0.382533</td>\n",
       "      <td>0.255373</td>\n",
       "      <td>-0.510824</td>\n",
       "      <td>0.266896</td>\n",
       "    </tr>\n",
       "    <tr>\n",
       "      <th>75%</th>\n",
       "      <td>0.357339</td>\n",
       "      <td>1.007261</td>\n",
       "      <td>0.799227</td>\n",
       "      <td>0.173451</td>\n",
       "      <td>0.596510</td>\n",
       "    </tr>\n",
       "    <tr>\n",
       "      <th>max</th>\n",
       "      <td>1.895889</td>\n",
       "      <td>1.494079</td>\n",
       "      <td>1.785870</td>\n",
       "      <td>2.240893</td>\n",
       "      <td>2.269755</td>\n",
       "    </tr>\n",
       "  </tbody>\n",
       "</table>\n",
       "</div>"
      ],
      "text/plain": [
       "               A          B          C          D          E\n",
       "count  20.000000  20.000000  20.000000  20.000000  20.000000\n",
       "mean   -0.219058   0.248401   0.186403  -0.308329   0.391622\n",
       "std     1.061908   0.953088   0.851692   1.220991   0.836367\n",
       "min    -2.552990  -1.630198  -1.706270  -1.980796  -0.854096\n",
       "25%    -0.915919  -0.082013  -0.281570  -1.194181  -0.235131\n",
       "50%    -0.402479   0.382533   0.255373  -0.510824   0.266896\n",
       "75%     0.357339   1.007261   0.799227   0.173451   0.596510\n",
       "max     1.895889   1.494079   1.785870   2.240893   2.269755"
      ]
     },
     "execution_count": 185,
     "metadata": {},
     "output_type": "execute_result"
    }
   ],
   "source": [
    "df.describe()"
   ]
  },
  {
   "cell_type": "markdown",
   "metadata": {
    "id": "NZEeAW30ESXj"
   },
   "source": [
    "To get back out NumPy array we can use the `values` method."
   ]
  },
  {
   "cell_type": "code",
   "execution_count": 186,
   "metadata": {
    "id": "OylTK35vESXj"
   },
   "outputs": [
    {
     "data": {
      "text/plain": [
       "array([[ 1.76405235,  0.40015721,  0.97873798,  2.2408932 ,  1.86755799],\n",
       "       [-0.97727788,  0.95008842, -0.15135721, -0.10321885,  0.4105985 ],\n",
       "       [ 0.14404357,  1.45427351,  0.76103773,  0.12167502,  0.44386323],\n",
       "       [ 0.33367433,  1.49407907, -0.20515826,  0.3130677 , -0.85409574],\n",
       "       [-2.55298982,  0.6536186 ,  0.8644362 , -0.74216502,  2.26975462],\n",
       "       [-1.45436567,  0.04575852, -0.18718385,  1.53277921,  1.46935877],\n",
       "       [ 0.15494743,  0.37816252, -0.88778575, -1.98079647, -0.34791215],\n",
       "       [ 0.15634897,  1.23029068,  1.20237985, -0.38732682, -0.30230275],\n",
       "       [-1.04855297, -1.42001794, -1.70627019,  1.9507754 , -0.50965218],\n",
       "       [-0.4380743 , -1.25279536,  0.77749036, -1.61389785, -0.21274028],\n",
       "       [-0.89546656,  0.3869025 , -0.51080514, -1.18063218, -0.02818223],\n",
       "       [ 0.42833187,  0.06651722,  0.3024719 , -0.63432209, -0.36274117],\n",
       "       [-0.67246045, -0.35955316, -0.81314628, -1.7262826 ,  0.17742614],\n",
       "       [-0.40178094, -1.63019835,  0.46278226, -0.90729836,  0.0519454 ],\n",
       "       [ 0.72909056,  0.12898291,  1.13940068, -1.23482582,  0.40234164],\n",
       "       [-0.68481009, -0.87079715, -0.57884966, -0.31155253,  0.05616534],\n",
       "       [-1.16514984,  0.90082649,  0.46566244, -1.53624369,  1.48825219],\n",
       "       [ 1.89588918,  1.17877957, -0.17992484, -1.07075262,  1.05445173],\n",
       "       [-0.40317695,  1.22244507,  0.20827498,  0.97663904,  0.3563664 ],\n",
       "       [ 0.70657317,  0.01050002,  1.78587049,  0.12691209,  0.40198936]])"
      ]
     },
     "execution_count": 186,
     "metadata": {},
     "output_type": "execute_result"
    }
   ],
   "source": [
    "df.values"
   ]
  },
  {
   "cell_type": "markdown",
   "metadata": {
    "id": "m0wmoKMWESXj"
   },
   "source": [
    "Lastly, Pandas shares many similarly named methods to NumPy. For instance, if we wanted to check the shape of the `DataFrame` we still use the `shape` method."
   ]
  },
  {
   "cell_type": "code",
   "execution_count": 187,
   "metadata": {
    "id": "sGYwEWijESXk"
   },
   "outputs": [
    {
     "data": {
      "text/plain": [
       "(20, 5)"
      ]
     },
     "execution_count": 187,
     "metadata": {},
     "output_type": "execute_result"
    }
   ],
   "source": [
    "df.shape"
   ]
  },
  {
   "cell_type": "markdown",
   "metadata": {
    "id": "1nEGwCUmESXk"
   },
   "source": [
    "## Indexing DataFrames\n",
    "\n",
    "Indexing DataFrames can be a little weird for beginners as it is slightly different from NumPy. To index we have three options: `iloc`, `loc`, and brackets `[ ]`."
   ]
  },
  {
   "cell_type": "markdown",
   "metadata": {
    "id": "H5I4JA28ESXk"
   },
   "source": [
    "`iloc` ([docs](https://pandas.pydata.org/pandas-docs/stable/reference/api/pandas.DataFrame.iloc.html)) works similar to NumPy where you use integers to index the `DataFrame`. Note that the idea of dimensions still applies just like in NumPy."
   ]
  },
  {
   "cell_type": "markdown",
   "metadata": {
    "id": "P05NpQX2ESXk"
   },
   "source": [
    "To index the first row we can simply pass `0`."
   ]
  },
  {
   "cell_type": "code",
   "execution_count": 188,
   "metadata": {
    "id": "sZaLkmlmESXl"
   },
   "outputs": [
    {
     "data": {
      "text/plain": [
       "A    1.764052\n",
       "B    0.400157\n",
       "C    0.978738\n",
       "D    2.240893\n",
       "E    1.867558\n",
       "Name: 0, dtype: float64"
      ]
     },
     "execution_count": 188,
     "metadata": {},
     "output_type": "execute_result"
    }
   ],
   "source": [
    "df.iloc[0]"
   ]
  },
  {
   "cell_type": "markdown",
   "metadata": {
    "id": "FzH8LXlmESXl"
   },
   "source": [
    "To index all rows we can pass `:` and to index the first column we can additionally pass `0` just like in NumPy."
   ]
  },
  {
   "cell_type": "code",
   "execution_count": 189,
   "metadata": {
    "id": "nuNaTyvUESXl"
   },
   "outputs": [
    {
     "data": {
      "text/plain": [
       "0     1.764052\n",
       "1    -0.977278\n",
       "2     0.144044\n",
       "3     0.333674\n",
       "4    -2.552990\n",
       "5    -1.454366\n",
       "6     0.154947\n",
       "7     0.156349\n",
       "8    -1.048553\n",
       "9    -0.438074\n",
       "10   -0.895467\n",
       "11    0.428332\n",
       "12   -0.672460\n",
       "13   -0.401781\n",
       "14    0.729091\n",
       "15   -0.684810\n",
       "16   -1.165150\n",
       "17    1.895889\n",
       "18   -0.403177\n",
       "19    0.706573\n",
       "Name: A, dtype: float64"
      ]
     },
     "execution_count": 189,
     "metadata": {},
     "output_type": "execute_result"
    }
   ],
   "source": [
    "df.iloc[:, 0]"
   ]
  },
  {
   "cell_type": "markdown",
   "metadata": {
    "id": "-R3ojK_vESXm"
   },
   "source": [
    "Slicing a part of the `DataFrame` also works just like in NumPy."
   ]
  },
  {
   "cell_type": "code",
   "execution_count": 190,
   "metadata": {
    "id": "lPgg7uMAESXm"
   },
   "outputs": [
    {
     "data": {
      "text/html": [
       "<div>\n",
       "<style scoped>\n",
       "    .dataframe tbody tr th:only-of-type {\n",
       "        vertical-align: middle;\n",
       "    }\n",
       "\n",
       "    .dataframe tbody tr th {\n",
       "        vertical-align: top;\n",
       "    }\n",
       "\n",
       "    .dataframe thead th {\n",
       "        text-align: right;\n",
       "    }\n",
       "</style>\n",
       "<table border=\"1\" class=\"dataframe\">\n",
       "  <thead>\n",
       "    <tr style=\"text-align: right;\">\n",
       "      <th></th>\n",
       "      <th>C</th>\n",
       "      <th>D</th>\n",
       "    </tr>\n",
       "  </thead>\n",
       "  <tbody>\n",
       "    <tr>\n",
       "      <th>1</th>\n",
       "      <td>-0.151357</td>\n",
       "      <td>-0.103219</td>\n",
       "    </tr>\n",
       "    <tr>\n",
       "      <th>2</th>\n",
       "      <td>0.761038</td>\n",
       "      <td>0.121675</td>\n",
       "    </tr>\n",
       "    <tr>\n",
       "      <th>3</th>\n",
       "      <td>-0.205158</td>\n",
       "      <td>0.313068</td>\n",
       "    </tr>\n",
       "    <tr>\n",
       "      <th>4</th>\n",
       "      <td>0.864436</td>\n",
       "      <td>-0.742165</td>\n",
       "    </tr>\n",
       "  </tbody>\n",
       "</table>\n",
       "</div>"
      ],
      "text/plain": [
       "          C         D\n",
       "1 -0.151357 -0.103219\n",
       "2  0.761038  0.121675\n",
       "3 -0.205158  0.313068\n",
       "4  0.864436 -0.742165"
      ]
     },
     "execution_count": 190,
     "metadata": {},
     "output_type": "execute_result"
    }
   ],
   "source": [
    "df.iloc[1:5, 2:4]"
   ]
  },
  {
   "cell_type": "markdown",
   "metadata": {
    "id": "Q_r7VuacESXm"
   },
   "source": [
    "Next, is `loc` ([docs](https://pandas.pydata.org/pandas-docs/stable/reference/api/pandas.DataFrame.loc.html)) which access the rows and columns of the `DataFrame` using the labels."
   ]
  },
  {
   "cell_type": "markdown",
   "metadata": {
    "id": "KldFxQHjESXm"
   },
   "source": [
    "To see the labels for your rows you can use the `index` method. You can also manually set the `index` label but by default it is just a sequence of numbers."
   ]
  },
  {
   "cell_type": "code",
   "execution_count": 191,
   "metadata": {
    "id": "TIafaPCiESXn"
   },
   "outputs": [
    {
     "data": {
      "text/plain": [
       "[0, 1, 2, 3, 4, 5, 6, 7, 8, 9, 10, 11, 12, 13, 14, 15, 16, 17, 18, 19]"
      ]
     },
     "execution_count": 191,
     "metadata": {},
     "output_type": "execute_result"
    }
   ],
   "source": [
    "list(df.index)"
   ]
  },
  {
   "cell_type": "markdown",
   "metadata": {
    "id": "rqKIgTO3ESXn"
   },
   "source": [
    "To see the labels for your columns you can use the `columns` method. Note, we set the columns when we created the `DataFrame`. You can also change the `column` labels after creation. "
   ]
  },
  {
   "cell_type": "code",
   "execution_count": 192,
   "metadata": {
    "id": "YX0nlPRmESXn"
   },
   "outputs": [
    {
     "data": {
      "text/plain": [
       "Index(['A', 'B', 'C', 'D', 'E'], dtype='object')"
      ]
     },
     "execution_count": 192,
     "metadata": {},
     "output_type": "execute_result"
    }
   ],
   "source": [
    "df.columns"
   ]
  },
  {
   "cell_type": "markdown",
   "metadata": {
    "id": "toTjxny1ESXn"
   },
   "source": [
    "Knowing what our row and column labels are we can now index using `iloc`. We can index a single row by referring to its label. In this case, it is just an integer so it works just like `loc`!"
   ]
  },
  {
   "cell_type": "code",
   "execution_count": 193,
   "metadata": {
    "id": "GDlB1ypqESXo"
   },
   "outputs": [
    {
     "data": {
      "text/plain": [
       "A    1.764052\n",
       "B    0.400157\n",
       "C    0.978738\n",
       "D    2.240893\n",
       "E    1.867558\n",
       "Name: 0, dtype: float64"
      ]
     },
     "execution_count": 193,
     "metadata": {},
     "output_type": "execute_result"
    }
   ],
   "source": [
    "df.loc[0]"
   ]
  },
  {
   "cell_type": "markdown",
   "metadata": {
    "id": "s1d2SrmtESXo"
   },
   "source": [
    "We can index all rows using `:` and a single column by referring to its label as well."
   ]
  },
  {
   "cell_type": "code",
   "execution_count": 194,
   "metadata": {
    "id": "kl4UY8lKESXo"
   },
   "outputs": [
    {
     "data": {
      "text/plain": [
       "0     1.764052\n",
       "1    -0.977278\n",
       "2     0.144044\n",
       "3     0.333674\n",
       "4    -2.552990\n",
       "5    -1.454366\n",
       "6     0.154947\n",
       "7     0.156349\n",
       "8    -1.048553\n",
       "9    -0.438074\n",
       "10   -0.895467\n",
       "11    0.428332\n",
       "12   -0.672460\n",
       "13   -0.401781\n",
       "14    0.729091\n",
       "15   -0.684810\n",
       "16   -1.165150\n",
       "17    1.895889\n",
       "18   -0.403177\n",
       "19    0.706573\n",
       "Name: A, dtype: float64"
      ]
     },
     "execution_count": 194,
     "metadata": {},
     "output_type": "execute_result"
    }
   ],
   "source": [
    "df.loc[:, 'A']"
   ]
  },
  {
   "cell_type": "markdown",
   "metadata": {
    "id": "Mu_wzxiUESXo"
   },
   "source": [
    "Since we only passed a single column a Pandas `Series` ([docs](https://pandas.pydata.org/pandas-docs/stable/reference/api/pandas.Series.html)) was returned instead of another `DataFrame`. A `Series` is essentially just a 1D DataFrame. (Notice some of the nice formating features are gone!)"
   ]
  },
  {
   "cell_type": "code",
   "execution_count": 195,
   "metadata": {
    "id": "fs-osP50ESXp"
   },
   "outputs": [
    {
     "data": {
      "text/plain": [
       "pandas.core.series.Series"
      ]
     },
     "execution_count": 195,
     "metadata": {},
     "output_type": "execute_result"
    }
   ],
   "source": [
    "type(df.loc[:, 'A'])"
   ]
  },
  {
   "cell_type": "markdown",
   "metadata": {
    "id": "70X8oolfESXp"
   },
   "source": [
    "To get back a `DataFrame` simply pass the desired column in a list."
   ]
  },
  {
   "cell_type": "code",
   "execution_count": 196,
   "metadata": {
    "id": "0kUl0zOUESXp"
   },
   "outputs": [
    {
     "data": {
      "text/html": [
       "<div>\n",
       "<style scoped>\n",
       "    .dataframe tbody tr th:only-of-type {\n",
       "        vertical-align: middle;\n",
       "    }\n",
       "\n",
       "    .dataframe tbody tr th {\n",
       "        vertical-align: top;\n",
       "    }\n",
       "\n",
       "    .dataframe thead th {\n",
       "        text-align: right;\n",
       "    }\n",
       "</style>\n",
       "<table border=\"1\" class=\"dataframe\">\n",
       "  <thead>\n",
       "    <tr style=\"text-align: right;\">\n",
       "      <th></th>\n",
       "      <th>A</th>\n",
       "    </tr>\n",
       "  </thead>\n",
       "  <tbody>\n",
       "    <tr>\n",
       "      <th>0</th>\n",
       "      <td>1.764052</td>\n",
       "    </tr>\n",
       "    <tr>\n",
       "      <th>1</th>\n",
       "      <td>-0.977278</td>\n",
       "    </tr>\n",
       "    <tr>\n",
       "      <th>2</th>\n",
       "      <td>0.144044</td>\n",
       "    </tr>\n",
       "    <tr>\n",
       "      <th>3</th>\n",
       "      <td>0.333674</td>\n",
       "    </tr>\n",
       "    <tr>\n",
       "      <th>4</th>\n",
       "      <td>-2.552990</td>\n",
       "    </tr>\n",
       "    <tr>\n",
       "      <th>5</th>\n",
       "      <td>-1.454366</td>\n",
       "    </tr>\n",
       "    <tr>\n",
       "      <th>6</th>\n",
       "      <td>0.154947</td>\n",
       "    </tr>\n",
       "    <tr>\n",
       "      <th>7</th>\n",
       "      <td>0.156349</td>\n",
       "    </tr>\n",
       "    <tr>\n",
       "      <th>8</th>\n",
       "      <td>-1.048553</td>\n",
       "    </tr>\n",
       "    <tr>\n",
       "      <th>9</th>\n",
       "      <td>-0.438074</td>\n",
       "    </tr>\n",
       "    <tr>\n",
       "      <th>10</th>\n",
       "      <td>-0.895467</td>\n",
       "    </tr>\n",
       "    <tr>\n",
       "      <th>11</th>\n",
       "      <td>0.428332</td>\n",
       "    </tr>\n",
       "    <tr>\n",
       "      <th>12</th>\n",
       "      <td>-0.672460</td>\n",
       "    </tr>\n",
       "    <tr>\n",
       "      <th>13</th>\n",
       "      <td>-0.401781</td>\n",
       "    </tr>\n",
       "    <tr>\n",
       "      <th>14</th>\n",
       "      <td>0.729091</td>\n",
       "    </tr>\n",
       "    <tr>\n",
       "      <th>15</th>\n",
       "      <td>-0.684810</td>\n",
       "    </tr>\n",
       "    <tr>\n",
       "      <th>16</th>\n",
       "      <td>-1.165150</td>\n",
       "    </tr>\n",
       "    <tr>\n",
       "      <th>17</th>\n",
       "      <td>1.895889</td>\n",
       "    </tr>\n",
       "    <tr>\n",
       "      <th>18</th>\n",
       "      <td>-0.403177</td>\n",
       "    </tr>\n",
       "    <tr>\n",
       "      <th>19</th>\n",
       "      <td>0.706573</td>\n",
       "    </tr>\n",
       "  </tbody>\n",
       "</table>\n",
       "</div>"
      ],
      "text/plain": [
       "           A\n",
       "0   1.764052\n",
       "1  -0.977278\n",
       "2   0.144044\n",
       "3   0.333674\n",
       "4  -2.552990\n",
       "5  -1.454366\n",
       "6   0.154947\n",
       "7   0.156349\n",
       "8  -1.048553\n",
       "9  -0.438074\n",
       "10 -0.895467\n",
       "11  0.428332\n",
       "12 -0.672460\n",
       "13 -0.401781\n",
       "14  0.729091\n",
       "15 -0.684810\n",
       "16 -1.165150\n",
       "17  1.895889\n",
       "18 -0.403177\n",
       "19  0.706573"
      ]
     },
     "execution_count": 196,
     "metadata": {},
     "output_type": "execute_result"
    }
   ],
   "source": [
    "df.loc[:, ['A']]"
   ]
  },
  {
   "cell_type": "code",
   "execution_count": 197,
   "metadata": {
    "id": "SuLAG3qbESXq"
   },
   "outputs": [
    {
     "data": {
      "text/plain": [
       "pandas.core.frame.DataFrame"
      ]
     },
     "execution_count": 197,
     "metadata": {},
     "output_type": "execute_result"
    }
   ],
   "source": [
    "type(df.loc[:, ['A']])"
   ]
  },
  {
   "cell_type": "markdown",
   "metadata": {
    "id": "Lt_A-vagESXq"
   },
   "source": [
    "Further, a group of columns also just requires a list of labels to be passed."
   ]
  },
  {
   "cell_type": "code",
   "execution_count": 198,
   "metadata": {
    "id": "MQ_i0rMcESXq"
   },
   "outputs": [
    {
     "data": {
      "text/html": [
       "<div>\n",
       "<style scoped>\n",
       "    .dataframe tbody tr th:only-of-type {\n",
       "        vertical-align: middle;\n",
       "    }\n",
       "\n",
       "    .dataframe tbody tr th {\n",
       "        vertical-align: top;\n",
       "    }\n",
       "\n",
       "    .dataframe thead th {\n",
       "        text-align: right;\n",
       "    }\n",
       "</style>\n",
       "<table border=\"1\" class=\"dataframe\">\n",
       "  <thead>\n",
       "    <tr style=\"text-align: right;\">\n",
       "      <th></th>\n",
       "      <th>A</th>\n",
       "      <th>C</th>\n",
       "    </tr>\n",
       "  </thead>\n",
       "  <tbody>\n",
       "    <tr>\n",
       "      <th>0</th>\n",
       "      <td>1.764052</td>\n",
       "      <td>0.978738</td>\n",
       "    </tr>\n",
       "    <tr>\n",
       "      <th>1</th>\n",
       "      <td>-0.977278</td>\n",
       "      <td>-0.151357</td>\n",
       "    </tr>\n",
       "    <tr>\n",
       "      <th>2</th>\n",
       "      <td>0.144044</td>\n",
       "      <td>0.761038</td>\n",
       "    </tr>\n",
       "    <tr>\n",
       "      <th>3</th>\n",
       "      <td>0.333674</td>\n",
       "      <td>-0.205158</td>\n",
       "    </tr>\n",
       "    <tr>\n",
       "      <th>4</th>\n",
       "      <td>-2.552990</td>\n",
       "      <td>0.864436</td>\n",
       "    </tr>\n",
       "    <tr>\n",
       "      <th>5</th>\n",
       "      <td>-1.454366</td>\n",
       "      <td>-0.187184</td>\n",
       "    </tr>\n",
       "    <tr>\n",
       "      <th>6</th>\n",
       "      <td>0.154947</td>\n",
       "      <td>-0.887786</td>\n",
       "    </tr>\n",
       "    <tr>\n",
       "      <th>7</th>\n",
       "      <td>0.156349</td>\n",
       "      <td>1.202380</td>\n",
       "    </tr>\n",
       "    <tr>\n",
       "      <th>8</th>\n",
       "      <td>-1.048553</td>\n",
       "      <td>-1.706270</td>\n",
       "    </tr>\n",
       "    <tr>\n",
       "      <th>9</th>\n",
       "      <td>-0.438074</td>\n",
       "      <td>0.777490</td>\n",
       "    </tr>\n",
       "    <tr>\n",
       "      <th>10</th>\n",
       "      <td>-0.895467</td>\n",
       "      <td>-0.510805</td>\n",
       "    </tr>\n",
       "    <tr>\n",
       "      <th>11</th>\n",
       "      <td>0.428332</td>\n",
       "      <td>0.302472</td>\n",
       "    </tr>\n",
       "    <tr>\n",
       "      <th>12</th>\n",
       "      <td>-0.672460</td>\n",
       "      <td>-0.813146</td>\n",
       "    </tr>\n",
       "    <tr>\n",
       "      <th>13</th>\n",
       "      <td>-0.401781</td>\n",
       "      <td>0.462782</td>\n",
       "    </tr>\n",
       "    <tr>\n",
       "      <th>14</th>\n",
       "      <td>0.729091</td>\n",
       "      <td>1.139401</td>\n",
       "    </tr>\n",
       "    <tr>\n",
       "      <th>15</th>\n",
       "      <td>-0.684810</td>\n",
       "      <td>-0.578850</td>\n",
       "    </tr>\n",
       "    <tr>\n",
       "      <th>16</th>\n",
       "      <td>-1.165150</td>\n",
       "      <td>0.465662</td>\n",
       "    </tr>\n",
       "    <tr>\n",
       "      <th>17</th>\n",
       "      <td>1.895889</td>\n",
       "      <td>-0.179925</td>\n",
       "    </tr>\n",
       "    <tr>\n",
       "      <th>18</th>\n",
       "      <td>-0.403177</td>\n",
       "      <td>0.208275</td>\n",
       "    </tr>\n",
       "    <tr>\n",
       "      <th>19</th>\n",
       "      <td>0.706573</td>\n",
       "      <td>1.785870</td>\n",
       "    </tr>\n",
       "  </tbody>\n",
       "</table>\n",
       "</div>"
      ],
      "text/plain": [
       "           A         C\n",
       "0   1.764052  0.978738\n",
       "1  -0.977278 -0.151357\n",
       "2   0.144044  0.761038\n",
       "3   0.333674 -0.205158\n",
       "4  -2.552990  0.864436\n",
       "5  -1.454366 -0.187184\n",
       "6   0.154947 -0.887786\n",
       "7   0.156349  1.202380\n",
       "8  -1.048553 -1.706270\n",
       "9  -0.438074  0.777490\n",
       "10 -0.895467 -0.510805\n",
       "11  0.428332  0.302472\n",
       "12 -0.672460 -0.813146\n",
       "13 -0.401781  0.462782\n",
       "14  0.729091  1.139401\n",
       "15 -0.684810 -0.578850\n",
       "16 -1.165150  0.465662\n",
       "17  1.895889 -0.179925\n",
       "18 -0.403177  0.208275\n",
       "19  0.706573  1.785870"
      ]
     },
     "execution_count": 198,
     "metadata": {},
     "output_type": "execute_result"
    }
   ],
   "source": [
    "df.loc[:, ['A', 'C']]"
   ]
  },
  {
   "cell_type": "markdown",
   "metadata": {
    "id": "xQRGlTpQESXq"
   },
   "source": [
    "Lastly, to quickly access just columns you can simply use `[ ]` following the `DataFrame`."
   ]
  },
  {
   "cell_type": "code",
   "execution_count": 199,
   "metadata": {
    "id": "YqbFz58yESXr"
   },
   "outputs": [
    {
     "data": {
      "text/html": [
       "<div>\n",
       "<style scoped>\n",
       "    .dataframe tbody tr th:only-of-type {\n",
       "        vertical-align: middle;\n",
       "    }\n",
       "\n",
       "    .dataframe tbody tr th {\n",
       "        vertical-align: top;\n",
       "    }\n",
       "\n",
       "    .dataframe thead th {\n",
       "        text-align: right;\n",
       "    }\n",
       "</style>\n",
       "<table border=\"1\" class=\"dataframe\">\n",
       "  <thead>\n",
       "    <tr style=\"text-align: right;\">\n",
       "      <th></th>\n",
       "      <th>A</th>\n",
       "    </tr>\n",
       "  </thead>\n",
       "  <tbody>\n",
       "    <tr>\n",
       "      <th>0</th>\n",
       "      <td>1.764052</td>\n",
       "    </tr>\n",
       "    <tr>\n",
       "      <th>1</th>\n",
       "      <td>-0.977278</td>\n",
       "    </tr>\n",
       "    <tr>\n",
       "      <th>2</th>\n",
       "      <td>0.144044</td>\n",
       "    </tr>\n",
       "    <tr>\n",
       "      <th>3</th>\n",
       "      <td>0.333674</td>\n",
       "    </tr>\n",
       "    <tr>\n",
       "      <th>4</th>\n",
       "      <td>-2.552990</td>\n",
       "    </tr>\n",
       "    <tr>\n",
       "      <th>5</th>\n",
       "      <td>-1.454366</td>\n",
       "    </tr>\n",
       "    <tr>\n",
       "      <th>6</th>\n",
       "      <td>0.154947</td>\n",
       "    </tr>\n",
       "    <tr>\n",
       "      <th>7</th>\n",
       "      <td>0.156349</td>\n",
       "    </tr>\n",
       "    <tr>\n",
       "      <th>8</th>\n",
       "      <td>-1.048553</td>\n",
       "    </tr>\n",
       "    <tr>\n",
       "      <th>9</th>\n",
       "      <td>-0.438074</td>\n",
       "    </tr>\n",
       "    <tr>\n",
       "      <th>10</th>\n",
       "      <td>-0.895467</td>\n",
       "    </tr>\n",
       "    <tr>\n",
       "      <th>11</th>\n",
       "      <td>0.428332</td>\n",
       "    </tr>\n",
       "    <tr>\n",
       "      <th>12</th>\n",
       "      <td>-0.672460</td>\n",
       "    </tr>\n",
       "    <tr>\n",
       "      <th>13</th>\n",
       "      <td>-0.401781</td>\n",
       "    </tr>\n",
       "    <tr>\n",
       "      <th>14</th>\n",
       "      <td>0.729091</td>\n",
       "    </tr>\n",
       "    <tr>\n",
       "      <th>15</th>\n",
       "      <td>-0.684810</td>\n",
       "    </tr>\n",
       "    <tr>\n",
       "      <th>16</th>\n",
       "      <td>-1.165150</td>\n",
       "    </tr>\n",
       "    <tr>\n",
       "      <th>17</th>\n",
       "      <td>1.895889</td>\n",
       "    </tr>\n",
       "    <tr>\n",
       "      <th>18</th>\n",
       "      <td>-0.403177</td>\n",
       "    </tr>\n",
       "    <tr>\n",
       "      <th>19</th>\n",
       "      <td>0.706573</td>\n",
       "    </tr>\n",
       "  </tbody>\n",
       "</table>\n",
       "</div>"
      ],
      "text/plain": [
       "           A\n",
       "0   1.764052\n",
       "1  -0.977278\n",
       "2   0.144044\n",
       "3   0.333674\n",
       "4  -2.552990\n",
       "5  -1.454366\n",
       "6   0.154947\n",
       "7   0.156349\n",
       "8  -1.048553\n",
       "9  -0.438074\n",
       "10 -0.895467\n",
       "11  0.428332\n",
       "12 -0.672460\n",
       "13 -0.401781\n",
       "14  0.729091\n",
       "15 -0.684810\n",
       "16 -1.165150\n",
       "17  1.895889\n",
       "18 -0.403177\n",
       "19  0.706573"
      ]
     },
     "execution_count": 199,
     "metadata": {},
     "output_type": "execute_result"
    }
   ],
   "source": [
    "df[['A']]"
   ]
  },
  {
   "cell_type": "markdown",
   "metadata": {
    "id": "pIXap2i3ESXr"
   },
   "source": [
    "### TODO 14\n",
    "Use `df` defined above to complete the following TODOs.\n",
    "1. Index the rows 10-15 and columns 'B' and 'C' using either `iloc` or `loc`. Store the output into the `df_slice` variable."
   ]
  },
  {
   "cell_type": "code",
   "execution_count": 200,
   "metadata": {
    "id": "KPbSCXr8ESXr"
   },
   "outputs": [
    {
     "data": {
      "text/html": [
       "<div>\n",
       "<style scoped>\n",
       "    .dataframe tbody tr th:only-of-type {\n",
       "        vertical-align: middle;\n",
       "    }\n",
       "\n",
       "    .dataframe tbody tr th {\n",
       "        vertical-align: top;\n",
       "    }\n",
       "\n",
       "    .dataframe thead th {\n",
       "        text-align: right;\n",
       "    }\n",
       "</style>\n",
       "<table border=\"1\" class=\"dataframe\">\n",
       "  <thead>\n",
       "    <tr style=\"text-align: right;\">\n",
       "      <th></th>\n",
       "      <th>B</th>\n",
       "      <th>C</th>\n",
       "    </tr>\n",
       "  </thead>\n",
       "  <tbody>\n",
       "    <tr>\n",
       "      <th>10</th>\n",
       "      <td>0.386902</td>\n",
       "      <td>-0.510805</td>\n",
       "    </tr>\n",
       "    <tr>\n",
       "      <th>11</th>\n",
       "      <td>0.066517</td>\n",
       "      <td>0.302472</td>\n",
       "    </tr>\n",
       "    <tr>\n",
       "      <th>12</th>\n",
       "      <td>-0.359553</td>\n",
       "      <td>-0.813146</td>\n",
       "    </tr>\n",
       "    <tr>\n",
       "      <th>13</th>\n",
       "      <td>-1.630198</td>\n",
       "      <td>0.462782</td>\n",
       "    </tr>\n",
       "    <tr>\n",
       "      <th>14</th>\n",
       "      <td>0.128983</td>\n",
       "      <td>1.139401</td>\n",
       "    </tr>\n",
       "    <tr>\n",
       "      <th>15</th>\n",
       "      <td>-0.870797</td>\n",
       "      <td>-0.578850</td>\n",
       "    </tr>\n",
       "  </tbody>\n",
       "</table>\n",
       "</div>"
      ],
      "text/plain": [
       "           B         C\n",
       "10  0.386902 -0.510805\n",
       "11  0.066517  0.302472\n",
       "12 -0.359553 -0.813146\n",
       "13 -1.630198  0.462782\n",
       "14  0.128983  1.139401\n",
       "15 -0.870797 -0.578850"
      ]
     },
     "metadata": {},
     "output_type": "display_data"
    },
    {
     "name": "stdout",
     "output_type": "stream",
     "text": [
      "df_slice shape: (6, 2)\n",
      "Your code PASSED the code check!\n"
     ]
    }
   ],
   "source": [
    "# TODO 14.1\n",
    "df_slice = df.loc[10:15, ['B', 'C']]\n",
    "\n",
    "display(df_slice)\n",
    "print(f\"df_slice shape: {df_slice.shape}\")\n",
    "\n",
    "todo_check([\n",
    "    (df_slice.shape == (6,2), 'df_slice does not have the correct shape of (6, 2)'),\n",
    "    (np.all(np.isclose(df_slice.values.flatten(), np.array([ 0.3869025 , -0.51080514,  0.06651722,  0.3024719 , -0.35955316,        -0.81314628, -1.63019835,  0.46278226,  0.12898291,  1.13940068,        -0.87079715, -0.57884966]) ,rtol=.001)), 'df_slice does not contain the correct values')\n",
    "])"
   ]
  },
  {
   "cell_type": "markdown",
   "metadata": {
    "id": "0WWpD5iUESXw"
   },
   "source": [
    "# Matplotlib\n",
    "\n",
    "Visualization is key to observe your data and analyze the experimental results produced by ML model. Matplotlib helps you to produce the graphs and plots so you can easily observe trends in your data and results.\n",
    "\n",
    "In up coming labs we'll be taking a deep look at different plots Matplotlib has to offer. For now, let's just look at the basics.\n",
    "\n",
    "- Additional Sources\n",
    "    - [Purpose of “%matplotlib inline”](https://stackoverflow.com/questions/43027980/purpose-of-matplotlib-inline)\n",
    "    - [Pyplot vs Object Oriented Interface](https://matplotlib.org/matplotblog/posts/pyplot-vs-object-oriented-interface/)\n",
    "    - [plt.plot() docs](https://matplotlib.org/stable/api/_as_gen/matplotlib.pyplot.plot.html#matplotlib.pyplot.plot)"
   ]
  },
  {
   "cell_type": "markdown",
   "metadata": {
    "id": "JKZNKf4SESXx"
   },
   "source": [
    "To import Matplotlib we typically do following do\n",
    "\n",
    "```python\n",
    "import matplotlib.pyplot as plt\n",
    "```\n",
    "\n",
    "We import pyplot to gain some extra scripting features that don't require to use the object-oriented (OO) syntax. However, we still have access to the OO syntax when using pyplot. Additionally, the OO syntax is better when we want to have finer control over our plotting settings.\n",
    "\n",
    "Furthermore, notice the following line:\n",
    "```python\n",
    "%matplotlib inline\n",
    "```\n",
    "\n",
    "This line is specific to Jupyter Notebook and allows us to embed the plots directly into the notebook."
   ]
  },
  {
   "cell_type": "code",
   "execution_count": 201,
   "metadata": {
    "id": "e6DiOcZgESXx"
   },
   "outputs": [],
   "source": [
    "import matplotlib.pyplot as plt\n",
    "%matplotlib inline"
   ]
  },
  {
   "cell_type": "markdown",
   "metadata": {
    "id": "htPg7tqkESXy"
   },
   "source": [
    "## Basic Line Plotting\n",
    "\n",
    "The below code is an example of how to make an extremely simple line plot.\n",
    "\n",
    "Here `plt.plot()` is used to plot the data where `x` corresponds to the x-coords and `y` to the y-coords. Also, notice that matplotlib works with NumPy arrays!\n",
    "\n",
    "Further, `plt.ylabel` and `plt.xlabel` allow you to edit the x and y axis labels while `plt.title()` sets the title for the plot.\n",
    "\n",
    "Finally,`plt.show()` displays the actual plot and should always be called last!"
   ]
  },
  {
   "cell_type": "code",
   "execution_count": 202,
   "metadata": {
    "id": "-JyOknjiESXy"
   },
   "outputs": [
    {
     "data": {
      "image/png": "[encoded data removed]",
      "text/plain": [
       "<Figure size 640x480 with 1 Axes>"
      ]
     },
     "metadata": {},
     "output_type": "display_data"
    }
   ],
   "source": [
    "x = [0, 1, 2, 3]\n",
    "y =  np.array([2, 1, 3, 4])\n",
    "plt.plot(x, y)\n",
    "plt.ylabel('y values')\n",
    "plt.xlabel('x values')\n",
    "plt.title(\"Basic Line Plot\")\n",
    "plt.show()"
   ]
  },
  {
   "cell_type": "markdown",
   "metadata": {
    "id": "EfenfIT8ESXy"
   },
   "source": [
    "Notice, we don't even have to specify x-coords as matplotlib will automatically generate coordinates for us if none are given."
   ]
  },
  {
   "cell_type": "code",
   "execution_count": 203,
   "metadata": {
    "id": "LDC04fqCESXz"
   },
   "outputs": [
    {
     "data": {
      "image/png": "[encoded data removed]",
      "text/plain": [
       "<Figure size 640x480 with 1 Axes>"
      ]
     },
     "metadata": {},
     "output_type": "display_data"
    }
   ],
   "source": [
    "plt.plot(y)\n",
    "plt.ylabel('y values')\n",
    "plt.xlabel('x values')\n",
    "plt.title(\"Autogenerated X-coords\")\n",
    "plt.show()"
   ]
  },
  {
   "cell_type": "markdown",
   "metadata": {
    "id": "hQ0Fw92TESXz"
   },
   "source": [
    "Furthermore, the `plt.plot()` method takes in format strings which allow us to combine different colors, line shapes, and plot marker types. Take a look at the below examples, they should speak for themselves!\n",
    "\n",
    "For more information on all the different arguments the format strings take for `plt.plot()` see the [official docs](https://matplotlib.org/stable/api/_as_gen/matplotlib.pyplot.plot.html#matplotlib.pyplot.plot). "
   ]
  },
  {
   "cell_type": "code",
   "execution_count": 204,
   "metadata": {
    "id": "iic_GmdFESXz"
   },
   "outputs": [
    {
     "data": {
      "image/png": "[encoded data removed]",
      "text/plain": [
       "<Figure size 640x480 with 1 Axes>"
      ]
     },
     "metadata": {},
     "output_type": "display_data"
    }
   ],
   "source": [
    "plt.plot(y, 'b-')\n",
    "plt.plot(y+1, 'r--')\n",
    "plt.plot(y+2, 'g-.')\n",
    "plt.plot(y+3, 'k:')\n",
    "plt.ylabel('y values')\n",
    "plt.xlabel('x values')\n",
    "plt.title(\"Line and Color Types\")\n",
    "plt.show()"
   ]
  },
  {
   "cell_type": "code",
   "execution_count": 205,
   "metadata": {
    "id": "tGdfewrVESX0"
   },
   "outputs": [
    {
     "data": {
      "image/png": "[encoded data removed]",
      "text/plain": [
       "<Figure size 640x480 with 1 Axes>"
      ]
     },
     "metadata": {},
     "output_type": "display_data"
    }
   ],
   "source": [
    "plt.plot(y, 'bo-')\n",
    "plt.plot(y+1, 'r.-')\n",
    "plt.plot(y+2, 'g*-')\n",
    "plt.ylabel('y values')\n",
    "plt.xlabel('x values')\n",
    "plt.title(\"Marker Types with Lines\")\n",
    "plt.show()"
   ]
  },
  {
   "cell_type": "code",
   "execution_count": 206,
   "metadata": {
    "id": "r3TnhNHpESX0"
   },
   "outputs": [
    {
     "data": {
      "image/png": "[encoded data removed]",
      "text/plain": [
       "<Figure size 640x480 with 1 Axes>"
      ]
     },
     "metadata": {},
     "output_type": "display_data"
    }
   ],
   "source": [
    "plt.plot(y, 'bo')\n",
    "plt.plot(y+1, 'r.')\n",
    "plt.plot(y+2, 'g*')\n",
    "plt.ylabel('y values')\n",
    "plt.xlabel('x values')\n",
    "plt.title(\"Marker Types\")\n",
    "plt.show()"
   ]
  },
  {
   "cell_type": "markdown",
   "metadata": {
    "id": "ztHE_AhuESX0"
   },
   "source": [
    "There is a lot more to matplotlib but this should give you a very basic understanding of how to generate a simple line plots. In future weeks, we'll take a deeper look at other types of plots and how we can use them to gain insight into our data."
   ]
  },
  {
   "cell_type": "markdown",
   "metadata": {
    "id": "WjBknL06ESX0"
   },
   "source": [
    "# Equations to code\n",
    "\n",
    "Throughout this class you will need to convert equations into code. Thus, the below practice will focus on converting some different equations into code."
   ]
  },
  {
   "cell_type": "markdown",
   "metadata": {
    "id": "knN9uAmwESX1"
   },
   "source": [
    "## TODO 15\n",
    "Let's start off by converting the definition of the dot product into code! Complete this TODO by creating a class called `CosineSimilarity` which computes the cosine similarity (angle between two vectors) between any two vectors. You are **NOT** allowed to use any existing libraries to compute the angle, however you can use NumPy to compute the square root, arccos, and to convert your radians to degrees.\n",
    "\n",
    "<img src=\"https://qph.fs.quoracdn.net/main-qimg-121e33a016058274e82f77b05c92aa50\" width=300 height=300>\n",
    "\n",
    "1. Create the `CosineSimilarity` by following the below instructions:\n",
    "    1. Define the class `CosineSimilarity` using the `class` keyword. \n",
    "    2. Define the `__init__()` method which takes in three arguments `self`, `x`, and `z` and saves them as class variables. These two arguments will be the vectors in which the cosine similarity will be computed.\n",
    "    3. Define a method called `compute_angle()` that takes in no arguments other than `self` (remember `self` is a required argument for methods).\n",
    "    4. Within the `compute_angle()` method compute the angle between two vectors and return the answer in __degrees__.  Use the following equation to compute the angle between two vector.\n",
    "    $$ \\theta = \\text{arccos}(\\frac{\\mathbf{x} \\cdot \\mathbf{z}}{||\\mathbf{x}||_2 ||\\mathbf{z}||_2})\n",
    "    $$\n",
    "        1. Hint 1: Recall from the quiz that $\\cdot$ represents the dot product and $||\\cdot||_2$ represents the L2 norm \n",
    "    $$\n",
    "    ||\\mathbf{x}||_2 = \\sqrt{x_1^2 + x_2^2 + ... + x_n^2} = \\sqrt{\\mathbf{x} \\cdot \\mathbf{x}}\n",
    "    $$\n",
    "    where a vector dotted with itself is the same as squaring the vector.\n",
    "        2. Hint 2: Use `np.sqrt()` to compute the square root and `np.arccos()` to compute arccos.\n",
    "        3. Hint 3: The output of `np.arccos()` is in radians! **Be sure** to use `np.degrees()` to convert your output into degrees. If you don't do this you will fail the test.\n",
    "        4. Hint 4: Due to rounding errors your answer should be close to ~180 degrees."
   ]
  },
  {
   "cell_type": "code",
   "execution_count": 237,
   "metadata": {
    "id": "0OiuEkNaESX1"
   },
   "outputs": [],
   "source": [
    "# TODO 15.1\n",
    "\n",
    "class CosineSimilarity():\n",
    "    def __init__(self, x, z):\n",
    "        self.x = x\n",
    "        self.z = z\n",
    "    def compute_angle(self):\n",
    "        #The below two lines of code are mine\n",
    "        angle = np.arccos((np.dot(x,z))/((np.sqrt(np.dot(x,x)))*(np.sqrt(np.dot(z,z)))))\n",
    "        return np.degrees(angle)\n",
    "        #The below three lines of code are Linh's code that she wanted me to run\n",
    "        # to make sure my class was running properly\n",
    "        #rad = np.arccos((np.dot(x,z))/(np.sqrt(x@x)*np.sqrt(z@z)))\n",
    "        #print(\"blalall\",rad)\n",
    "        #return np.degrees(rad)\n",
    "          "
   ]
  },
  {
   "cell_type": "markdown",
   "metadata": {
    "id": "Eepsvm_LESX1"
   },
   "source": [
    "Run the below code to test your implementation of the `CosineSimilarity` class."
   ]
  },
  {
   "cell_type": "code",
   "execution_count": 238,
   "metadata": {
    "id": "xHivydJbESX2"
   },
   "outputs": [
    {
     "name": "stdout",
     "output_type": "stream",
     "text": [
      "angle output: 179.99999879258172\n",
      "Your code PASSED the code check!\n"
     ]
    }
   ],
   "source": [
    "x = np.array([1, 1])\n",
    "z = np.array([-2, -2])\n",
    "cosin_sim = CosineSimilarity(x, z)\n",
    "angle = cosin_sim.compute_angle()\n",
    "\n",
    "print(f\"angle output: {angle}\")\n",
    "\n",
    "todo_check([\n",
    "    (np.isclose(angle, 180.0), 'The value of the angle is not approximately 180 degrees! Make sure you converted from radians to degrees.')\n",
    "])"
   ]
  },
  {
   "cell_type": "markdown",
   "metadata": {
    "id": "cPsvhbvOESX2"
   },
   "source": [
    "## TODO 16\n",
    "\n",
    "Next, let's review what [normal or Gaussian distribution](https://machinelearningmastery.com/statistical-data-distributions/) is while also practicing some equation to code conversion. Now this weeks math review didn't mention normal distributions but we did lightly cover probability distributions. Recall **a probability distribution is a list of outcomes and their associated probabilities**. Meaning, **a distribution is simply a collection of values or frequencies for a given observation**, like age of a population. A normal distribution is a specific type of probability distribution which looks like the following.\n",
    "<img src=\"https://external-content.duckduckgo.com/iu/?u=https%3A%2F%2Fupload.wikimedia.org%2Fwikipedia%2Fcommons%2Fthumb%2Fc%2Fc8%2FGaussian_distribution.svg%2F1280px-Gaussian_distribution.svg.png&f=1&nofb=1\" width=500 height=500>\n",
    "\n",
    "Further recall a normal distribution has the parameters $\\mu$ (referred to as mu) which represents the mean and $\\sigma$ (referred to as sigma) represents the standard deviation. Throughout the semester we'll frequently make the assumption that our data is normally distributed. This is because many natural phenomena are like age, height, test-scores, IQ scores, sum of the rolls of two dices and so on follow normal distributions, thus making such an assumption reasonable. As normal distributions are found in so many different places they are one of the important probability distribution in statistics and machine learning!\n",
    "\n",
    "The formula for a normal distribution is given as follows:\n",
    "\n",
    "![](https://wikimedia.org/api/rest_v1/media/math/render/svg/00cb9b2c9b866378626bcfa45c86a6de2f2b2e40)\n",
    "\n",
    "For this TODO let's convert the normal distribution equation to code and plot what a normal distribution looks like using Matplotlib.\n",
    "\n",
    "1. Define a function called `gaussian()` that takes in the arguments `x`, `mu`, and `sig`. Convert the above normal equation into code and return the output of the equation. Recall that `mu` represents $\\mu$ and `sig` represents $\\sigma$.\n",
    "2. Use the NumPy function `np.linspace()` ([docs](https://numpy.org/doc/stable/reference/generated/numpy.linspace.html)) to generate an array of 120 numbers between -4 and 4. Pass the arguments -4, 4, and 120 to do so. Store the output into the variable `x_values`.\n",
    "3. Call the `gaussian()` function that receives `x_values`, `mu`, and `sig`. Store the output into the variable `y_values`.\n",
    "5. Plot the `x_values` and `y_values` using Matplotlib `plt.plot()` function. You should see a normal distribution being plotted like in the above image!\n"
   ]
  },
  {
   "cell_type": "code",
   "execution_count": 229,
   "metadata": {
    "id": "NjI51g3_ESX3"
   },
   "outputs": [],
   "source": [
    "# TODO 16.1\n",
    "def gaussian(x,mu,sig):\n",
    "    fx = (1/(sig*np.sqrt(2*np.pi)))*(np.exp((-.5)*np.power(((x-mu)/(sig)),2)))\n",
    "    return fx"
   ]
  },
  {
   "cell_type": "code",
   "execution_count": 230,
   "metadata": {
    "id": "StUP6ZT9ESX3"
   },
   "outputs": [
    {
     "data": {
      "text/plain": [
       "array([-4.        , -3.93277311, -3.86554622, -3.79831933, -3.73109244,\n",
       "       -3.66386555, -3.59663866, -3.52941176, -3.46218487, -3.39495798,\n",
       "       -3.32773109, -3.2605042 , -3.19327731, -3.12605042, -3.05882353,\n",
       "       -2.99159664, -2.92436975, -2.85714286, -2.78991597, -2.72268908,\n",
       "       -2.65546218, -2.58823529, -2.5210084 , -2.45378151, -2.38655462,\n",
       "       -2.31932773, -2.25210084, -2.18487395, -2.11764706, -2.05042017,\n",
       "       -1.98319328, -1.91596639, -1.8487395 , -1.78151261, -1.71428571,\n",
       "       -1.64705882, -1.57983193, -1.51260504, -1.44537815, -1.37815126,\n",
       "       -1.31092437, -1.24369748, -1.17647059, -1.1092437 , -1.04201681,\n",
       "       -0.97478992, -0.90756303, -0.84033613, -0.77310924, -0.70588235,\n",
       "       -0.63865546, -0.57142857, -0.50420168, -0.43697479, -0.3697479 ,\n",
       "       -0.30252101, -0.23529412, -0.16806723, -0.10084034, -0.03361345,\n",
       "        0.03361345,  0.10084034,  0.16806723,  0.23529412,  0.30252101,\n",
       "        0.3697479 ,  0.43697479,  0.50420168,  0.57142857,  0.63865546,\n",
       "        0.70588235,  0.77310924,  0.84033613,  0.90756303,  0.97478992,\n",
       "        1.04201681,  1.1092437 ,  1.17647059,  1.24369748,  1.31092437,\n",
       "        1.37815126,  1.44537815,  1.51260504,  1.57983193,  1.64705882,\n",
       "        1.71428571,  1.78151261,  1.8487395 ,  1.91596639,  1.98319328,\n",
       "        2.05042017,  2.11764706,  2.18487395,  2.25210084,  2.31932773,\n",
       "        2.38655462,  2.45378151,  2.5210084 ,  2.58823529,  2.65546218,\n",
       "        2.72268908,  2.78991597,  2.85714286,  2.92436975,  2.99159664,\n",
       "        3.05882353,  3.12605042,  3.19327731,  3.2605042 ,  3.32773109,\n",
       "        3.39495798,  3.46218487,  3.52941176,  3.59663866,  3.66386555,\n",
       "        3.73109244,  3.79831933,  3.86554622,  3.93277311,  4.        ])"
      ]
     },
     "execution_count": 230,
     "metadata": {},
     "output_type": "execute_result"
    }
   ],
   "source": [
    "np.linspace(-4, 4, 120).flatten()"
   ]
  },
  {
   "cell_type": "code",
   "execution_count": 231,
   "metadata": {
    "id": "TX8UWaigESX3",
    "scrolled": true
   },
   "outputs": [
    {
     "data": {
      "text/plain": [
       "array([-4.        , -3.93277311, -3.86554622, -3.79831933, -3.73109244,\n",
       "       -3.66386555, -3.59663866, -3.52941176, -3.46218487, -3.39495798,\n",
       "       -3.32773109, -3.2605042 , -3.19327731, -3.12605042, -3.05882353,\n",
       "       -2.99159664, -2.92436975, -2.85714286, -2.78991597, -2.72268908,\n",
       "       -2.65546218, -2.58823529, -2.5210084 , -2.45378151, -2.38655462,\n",
       "       -2.31932773, -2.25210084, -2.18487395, -2.11764706, -2.05042017,\n",
       "       -1.98319328, -1.91596639, -1.8487395 , -1.78151261, -1.71428571,\n",
       "       -1.64705882, -1.57983193, -1.51260504, -1.44537815, -1.37815126,\n",
       "       -1.31092437, -1.24369748, -1.17647059, -1.1092437 , -1.04201681,\n",
       "       -0.97478992, -0.90756303, -0.84033613, -0.77310924, -0.70588235,\n",
       "       -0.63865546, -0.57142857, -0.50420168, -0.43697479, -0.3697479 ,\n",
       "       -0.30252101, -0.23529412, -0.16806723, -0.10084034, -0.03361345,\n",
       "        0.03361345,  0.10084034,  0.16806723,  0.23529412,  0.30252101,\n",
       "        0.3697479 ,  0.43697479,  0.50420168,  0.57142857,  0.63865546,\n",
       "        0.70588235,  0.77310924,  0.84033613,  0.90756303,  0.97478992,\n",
       "        1.04201681,  1.1092437 ,  1.17647059,  1.24369748,  1.31092437,\n",
       "        1.37815126,  1.44537815,  1.51260504,  1.57983193,  1.64705882,\n",
       "        1.71428571,  1.78151261,  1.8487395 ,  1.91596639,  1.98319328,\n",
       "        2.05042017,  2.11764706,  2.18487395,  2.25210084,  2.31932773,\n",
       "        2.38655462,  2.45378151,  2.5210084 ,  2.58823529,  2.65546218,\n",
       "        2.72268908,  2.78991597,  2.85714286,  2.92436975,  2.99159664,\n",
       "        3.05882353,  3.12605042,  3.19327731,  3.2605042 ,  3.32773109,\n",
       "        3.39495798,  3.46218487,  3.52941176,  3.59663866,  3.66386555,\n",
       "        3.73109244,  3.79831933,  3.86554622,  3.93277311,  4.        ])"
      ]
     },
     "metadata": {},
     "output_type": "display_data"
    },
    {
     "name": "stdout",
     "output_type": "stream",
     "text": [
      "Your code PASSED the code check!\n"
     ]
    }
   ],
   "source": [
    "mu = 0 # mean\n",
    "sig = 1 # std\n",
    "\n",
    "# TODO 16.2\n",
    "x_values = np.linspace(-4,4,120).flatten()\n",
    "\n",
    "display(x_values)\n",
    "\n",
    "todo_check([\n",
    "   (x_values.shape == (120,), 'x_values does not have the correct shape of (120,)'),\n",
    "   (np.all(np.isclose(x_values, np.array([-4.        , -3.93277311, -3.86554622, -3.79831933, -3.73109244,        -3.66386555, -3.59663866, -3.52941176, -3.46218487, -3.39495798,        -3.32773109, -3.2605042 , -3.19327731, -3.12605042, -3.05882353,        -2.99159664, -2.92436975, -2.85714286, -2.78991597, -2.72268908,        -2.65546218, -2.58823529, -2.5210084 , -2.45378151, -2.38655462,        -2.31932773, -2.25210084, -2.18487395, -2.11764706, -2.05042017,        -1.98319328, -1.91596639, -1.8487395 , -1.78151261, -1.71428571,        -1.64705882, -1.57983193, -1.51260504, -1.44537815, -1.37815126,        -1.31092437, -1.24369748, -1.17647059, -1.1092437 , -1.04201681,        -0.97478992, -0.90756303, -0.84033613, -0.77310924, -0.70588235,        -0.63865546, -0.57142857, -0.50420168, -0.43697479, -0.3697479 ,        -0.30252101, -0.23529412, -0.16806723, -0.10084034, -0.03361345,         0.03361345,  0.10084034,  0.16806723,  0.23529412,  0.30252101,         0.3697479 ,  0.43697479,  0.50420168,  0.57142857,  0.63865546,         0.70588235,  0.77310924,  0.84033613,  0.90756303,  0.97478992,         1.04201681,  1.1092437 ,  1.17647059,  1.24369748,  1.31092437,         1.37815126,  1.44537815,  1.51260504,  1.57983193,  1.64705882,         1.71428571,  1.78151261,  1.8487395 ,  1.91596639,  1.98319328,         2.05042017,  2.11764706,  2.18487395,  2.25210084,  2.31932773,         2.38655462,  2.45378151,  2.5210084 ,  2.58823529,  2.65546218,         2.72268908,  2.78991597,  2.85714286,  2.92436975,  2.99159664,         3.05882353,  3.12605042,  3.19327731,  3.2605042 ,  3.32773109,         3.39495798,  3.46218487,  3.52941176,  3.59663866,  3.66386555,         3.73109244,  3.79831933,  3.86554622,  3.93277311,  4.        ]), rtol=.001)), 'x_values does not have the correct values')\n",
    "])"
   ]
  },
  {
   "cell_type": "code",
   "execution_count": 232,
   "metadata": {
    "id": "D6iQ-S5aESX4",
    "scrolled": true
   },
   "outputs": [
    {
     "data": {
      "text/plain": [
       "array([1.33830226e-04, 1.74726145e-04, 2.27090415e-04, 2.93817012e-04,\n",
       "       3.78435874e-04, 4.85226918e-04, 6.19347941e-04, 7.86976449e-04,\n",
       "       9.95465009e-04, 1.25350909e-03, 1.57132566e-03, 1.96083994e-03,\n",
       "       2.43587675e-03, 3.01235189e-03, 3.70845762e-03, 4.54483545e-03,\n",
       "       5.54472782e-03, 6.73409948e-03, 8.14171785e-03, 9.79918133e-03,\n",
       "       1.17408832e-02, 1.40038988e-02, 1.66277845e-02, 1.96542754e-02,\n",
       "       2.31268728e-02, 2.70903123e-02, 3.15899063e-02, 3.66707582e-02,\n",
       "       4.23768496e-02, 4.87500056e-02, 5.58287494e-02, 6.36470609e-02,\n",
       "       7.22330635e-02, 8.16076628e-02, 9.17831740e-02, 1.02761972e-01,\n",
       "       1.14535209e-01, 1.27081643e-01, 1.40366624e-01, 1.54341287e-01,\n",
       "       1.68941989e-01, 1.84090049e-01, 1.99691809e-01, 2.15639052e-01,\n",
       "       2.31809806e-01, 2.48069526e-01, 2.64272673e-01, 2.80264650e-01,\n",
       "       2.95884091e-01, 3.10965445e-01, 3.25341808e-01, 3.38847936e-01,\n",
       "       3.51323369e-01, 3.62615579e-01, 3.72583059e-01, 3.81098269e-01,\n",
       "       3.88050344e-01, 3.93347502e-01, 3.96919051e-01, 3.98716969e-01,\n",
       "       3.98716969e-01, 3.96919051e-01, 3.93347502e-01, 3.88050344e-01,\n",
       "       3.81098269e-01, 3.72583059e-01, 3.62615579e-01, 3.51323369e-01,\n",
       "       3.38847936e-01, 3.25341808e-01, 3.10965445e-01, 2.95884091e-01,\n",
       "       2.80264650e-01, 2.64272673e-01, 2.48069526e-01, 2.31809806e-01,\n",
       "       2.15639052e-01, 1.99691809e-01, 1.84090049e-01, 1.68941989e-01,\n",
       "       1.54341287e-01, 1.40366624e-01, 1.27081643e-01, 1.14535209e-01,\n",
       "       1.02761972e-01, 9.17831740e-02, 8.16076628e-02, 7.22330635e-02,\n",
       "       6.36470609e-02, 5.58287494e-02, 4.87500056e-02, 4.23768496e-02,\n",
       "       3.66707582e-02, 3.15899063e-02, 2.70903123e-02, 2.31268728e-02,\n",
       "       1.96542754e-02, 1.66277845e-02, 1.40038988e-02, 1.17408832e-02,\n",
       "       9.79918133e-03, 8.14171785e-03, 6.73409948e-03, 5.54472782e-03,\n",
       "       4.54483545e-03, 3.70845762e-03, 3.01235189e-03, 2.43587675e-03,\n",
       "       1.96083994e-03, 1.57132566e-03, 1.25350909e-03, 9.95465009e-04,\n",
       "       7.86976449e-04, 6.19347941e-04, 4.85226918e-04, 3.78435874e-04,\n",
       "       2.93817012e-04, 2.27090415e-04, 1.74726145e-04, 1.33830226e-04])"
      ]
     },
     "metadata": {},
     "output_type": "display_data"
    },
    {
     "name": "stdout",
     "output_type": "stream",
     "text": [
      "Your code PASSED the code check!\n"
     ]
    }
   ],
   "source": [
    "# TODO 16.3\n",
    "y_values = gaussian(x_values, mu, sig)\n",
    "\n",
    "display(y_values)\n",
    "\n",
    "todo_check([\n",
    "    (y_values.shape == (120,), 'y_values does not have the correct shape of (120,)'),\n",
    "    (np.all(np.isclose(y_values, np.array([1.33830226e-04, 1.74726145e-04, 2.27090415e-04, 2.93817012e-04,        3.78435874e-04, 4.85226918e-04, 6.19347941e-04, 7.86976449e-04,        9.95465009e-04, 1.25350909e-03, 1.57132566e-03, 1.96083994e-03,        2.43587675e-03, 3.01235189e-03, 3.70845762e-03, 4.54483545e-03,        5.54472782e-03, 6.73409948e-03, 8.14171785e-03, 9.79918133e-03,        1.17408832e-02, 1.40038988e-02, 1.66277845e-02, 1.96542754e-02,        2.31268728e-02, 2.70903123e-02, 3.15899063e-02, 3.66707582e-02,        4.23768496e-02, 4.87500056e-02, 5.58287494e-02, 6.36470609e-02,        7.22330635e-02, 8.16076628e-02, 9.17831740e-02, 1.02761972e-01,        1.14535209e-01, 1.27081643e-01, 1.40366624e-01, 1.54341287e-01,        1.68941989e-01, 1.84090049e-01, 1.99691809e-01, 2.15639052e-01,        2.31809806e-01, 2.48069526e-01, 2.64272673e-01, 2.80264650e-01,        2.95884091e-01, 3.10965445e-01, 3.25341808e-01, 3.38847936e-01,        3.51323369e-01, 3.62615579e-01, 3.72583059e-01, 3.81098269e-01,        3.88050344e-01, 3.93347502e-01, 3.96919051e-01, 3.98716969e-01,        3.98716969e-01, 3.96919051e-01, 3.93347502e-01, 3.88050344e-01,        3.81098269e-01, 3.72583059e-01, 3.62615579e-01, 3.51323369e-01,        3.38847936e-01, 3.25341808e-01, 3.10965445e-01, 2.95884091e-01,        2.80264650e-01, 2.64272673e-01, 2.48069526e-01, 2.31809806e-01,        2.15639052e-01, 1.99691809e-01, 1.84090049e-01, 1.68941989e-01,        1.54341287e-01, 1.40366624e-01, 1.27081643e-01, 1.14535209e-01,        1.02761972e-01, 9.17831740e-02, 8.16076628e-02, 7.22330635e-02,        6.36470609e-02, 5.58287494e-02, 4.87500056e-02, 4.23768496e-02,        3.66707582e-02, 3.15899063e-02, 2.70903123e-02, 2.31268728e-02,        1.96542754e-02, 1.66277845e-02, 1.40038988e-02, 1.17408832e-02,        9.79918133e-03, 8.14171785e-03, 6.73409948e-03, 5.54472782e-03,        4.54483545e-03, 3.70845762e-03, 3.01235189e-03, 2.43587675e-03,        1.96083994e-03, 1.57132566e-03, 1.25350909e-03, 9.95465009e-04,        7.86976449e-04, 6.19347941e-04, 4.85226918e-04, 3.78435874e-04,        2.93817012e-04, 2.27090415e-04, 1.74726145e-04, 1.33830226e-04]),rtol=.001)), 'y_values does not contain the correct values')\n",
    "])"
   ]
  },
  {
   "cell_type": "code",
   "execution_count": 233,
   "metadata": {
    "id": "cCNboRNzESX4"
   },
   "outputs": [
    {
     "data": {
      "image/png": "[encoded data removed]",
      "text/plain": [
       "<Figure size 640x480 with 1 Axes>"
      ]
     },
     "metadata": {},
     "output_type": "display_data"
    }
   ],
   "source": [
    "# TODO 16.4\n",
    "plots = plt.plot(x_values, y_values)"
   ]
  },
  {
   "cell_type": "code",
   "execution_count": 234,
   "metadata": {
    "id": "tZnvjm4gESX4"
   },
   "outputs": [
    {
     "data": {
      "image/png": "[encoded data removed]",
      "text/plain": [
       "<Figure size 640x480 with 1 Axes>"
      ]
     },
     "metadata": {},
     "output_type": "display_data"
    }
   ],
   "source": [
    "# TODO 16.4\n",
    "plots = plt.plot(x_values, y_values)"
   ]
  }
 ],
 "metadata": {
  "colab": {
   "provenance": []
  },
  "kernelspec": {
   "display_name": "Python 3 (ipykernel)",
   "language": "python",
   "name": "python3"
  },
  "language_info": {
   "codemirror_mode": {
    "name": "ipython",
    "version": 3
   },
   "file_extension": ".py",
   "mimetype": "text/x-python",
   "name": "python",
   "nbconvert_exporter": "python",
   "pygments_lexer": "ipython3",
   "version": "3.9.13"
  },
  "toc": {
   "base_numbering": 1,
   "nav_menu": {},
   "number_sections": true,
   "sideBar": true,
   "skip_h1_title": false,
   "title_cell": "Table of Contents",
   "title_sidebar": "Contents",
   "toc_cell": false,
   "toc_position": {
    "height": "calc(100% - 180px)",
    "left": "10px",
    "top": "150px",
    "width": "236px"
   },
   "toc_section_display": true,
   "toc_window_display": true
  }
 },
 "nbformat": 4,
 "nbformat_minor": 4
}
